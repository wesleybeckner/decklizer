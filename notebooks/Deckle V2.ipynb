{
 "cells": [
  {
   "cell_type": "code",
   "execution_count": 1,
   "metadata": {},
   "outputs": [],
   "source": [
    "import sys\n",
    "sys.path.append(\"../\")\n",
    "\n",
    "import numpy as np\n",
    "import pandas as pd\n",
    "import plotly.graph_objects as go\n",
    "import plotly.express as px\n",
    "import math\n",
    "from random import shuffle, choice\n",
    "import copy\n",
    "from utils import *\n",
    "from engine import *\n",
    "from IPython.display import clear_output\n",
    "import time\n",
    "import datetime\n",
    "import re\n",
    "\n",
    "from scipy.optimize import linprog\n",
    "from collections import Counter\n",
    "import itertools"
   ]
  },
  {
   "cell_type": "code",
   "execution_count": 2,
   "metadata": {},
   "outputs": [],
   "source": [
    "# change inventory to sqm\n",
    "# add to azure\n",
    "# update front end\n",
    "\n",
    "# TODO on algorithm\n",
    "# try a heuristic split method to come up with best \n",
    "# 2 layout approach"
   ]
  },
  {
   "cell_type": "code",
   "execution_count": 98,
   "metadata": {},
   "outputs": [],
   "source": [
    "# This is the memoization approach of  \n",
    "# 0 / 1 Knapsack in Python in simple  \n",
    "# we can say recursion + memoization = DP \n",
    "def knapsack(wt, val, W, n):     \n",
    "  \n",
    "    # base conditions \n",
    "    if n == 0 or W == 0: \n",
    "        return 0\n",
    "    if t[n][W] != -1: \n",
    "        return t[n][W] \n",
    "  \n",
    "    # choice diagram code \n",
    "    if wt[n-1] <= W: \n",
    "        t[n][W] = max( \n",
    "            val[n-1] + knapsack( \n",
    "            wt, val, W-wt[n-1], n-1),  \n",
    "            knapsack(wt, val, W, n-1)) \n",
    "        return t[n][W] \n",
    "    elif wt[n-1] > W: \n",
    "        t[n][W] = knapsack(wt, val, W, n-1) \n",
    "        return t[n][W] \n",
    "\n",
    "def reconstruct(i, w, kp_soln, weight_of_item):\n",
    "    \"\"\"\n",
    "    Reconstruct subset of items i with weights w. The two inputs\n",
    "    i and w are taken at the point of optimality in the knapsack soln\n",
    "\n",
    "    In this case I just assume that i is some number from a range\n",
    "    0,1,2,...n\n",
    "    \"\"\"\n",
    "    recon = set()\n",
    "    # assuming our kp soln converged, we stopped at the ith item, so\n",
    "    # start here and work our way backwards through all the items in\n",
    "    # the list of kp solns. If an item was deemed optimal by kp, then\n",
    "    # put it in our bag, otherwise skip it.\n",
    "    for j in range(i)[::-1]:\n",
    "        cur_val = kp_soln[j][w]\n",
    "        prev_val = kp_soln[j-1][w]\n",
    "        if cur_val > prev_val:\n",
    "            recon.add(j)\n",
    "            w = w - weight_of_item[j]\n",
    "    return recon\n",
    "\n",
    "def initt(W, n):\n",
    "    # We initialize the matrix with -1 at first. \n",
    "    return [[-1 for i in range(W + 1)] for j in range(n + 1)] \n",
    "\n",
    "def make_best_pattern(q, w, n, usable_width=4160):\n",
    "    \"\"\"\n",
    "    Creates the best possible pattern such that all orders are fullfilled in a single\n",
    "    layout\n",
    "    \n",
    "    Parameters\n",
    "    ----------\n",
    "    q: list\n",
    "        rolls required (in jumbo lengths)\n",
    "    w: list\n",
    "        widths required\n",
    "    n: list\n",
    "        neckins for widths\n",
    "    usable_width: int\n",
    "        jumbo/doff usable width\n",
    "        \n",
    "    Returns\n",
    "    -------\n",
    "    layout: list\n",
    "        cuts for jumbo for each width (no width is excluded)\n",
    "    \"\"\"\n",
    "    layout = [max(1, math.floor(i/sum(q)*usable_width/j)) for i,j in zip(q,w)] \n",
    "\n",
    "    # give priority to widths that had to round down the most\n",
    "    # when filling up the rest of the pattern\n",
    "    remainder = [math.remainder(i/sum(q)*usable_width/j, 1) if (math.remainder(i/sum(q)*usable_width/j, 1)\n",
    "                                                        < 0) else -1 for i,j in zip(q,w) ] \n",
    "    order = np.argsort(remainder)\n",
    "    while (usable_width - sum([i*j for i,j in zip(layout,w)])) > min(w):\n",
    "        for i in order[::-1]:\n",
    "            layout[i] += 1\n",
    "            if usable_width - sum([i*j for i,j in zip(layout,w)]) < 0:\n",
    "                layout[i] -= 1\n",
    "\n",
    "    # compute the loss for the final layout\n",
    "    layout_loss = usable_width - sum([i*j for i,j in zip(layout,w)])\n",
    "    print(\"layout pattern: {}\".format(dict(zip([i-j for i,j in zip(w,n)],layout))))\n",
    "    print(\"pattern loss: {:0.2f} %\".format(layout_loss/usable_width*100))\n",
    "\n",
    "    # multiply to get the minimum doffs required\n",
    "    # layout * doffs > q\n",
    "    doffs = max([math.ceil(i/j) for i,j in zip(q, layout)])\n",
    "    print(\"minimum doffs to fill order: {}\".format(doffs))\n",
    "\n",
    "    # what inventory is created\n",
    "    inventory = dict(zip([i-j for i,j in zip(w,n)],[i*doffs-j for i,j in zip(layout,q)]))\n",
    "    print(\"inventory created: {}\".format(inventory))\n",
    "    \n",
    "    return layout\n",
    "\n",
    "def init_layouts(B, w):\n",
    "    t = []\n",
    "    m = len(w)\n",
    "    for i in range(m):\n",
    "        pat = [0]*m\n",
    "        pat[i] = -int(B/w[i])\n",
    "        t.append(pat)\n",
    "    return t\n",
    "\n",
    "def store_patterns(goal=5):\n",
    "    patterns = []\n",
    "    bit = 0\n",
    "    while len(patterns) < goal:\n",
    "        found = 0\n",
    "        for pair in np.argwhere(t == t.max()-bit):\n",
    "            N, W = pair\n",
    "            sack = reconstruct(N, W, t, s)     \n",
    "            pattern = Counter(np.array(s)[list(sack)])\n",
    "            loss = round((B - np.array(s)[list(sack)].sum())/B*100,2)\n",
    "            patterns.append([pattern, loss])\n",
    "            if len(patterns) >= goal:\n",
    "                break\n",
    "            found += 1\n",
    "            if found > 1:\n",
    "                break\n",
    "        bit += 2\n",
    "    return patterns\n",
    "\n",
    "def output_results(result, lhs_ineq, B, w, n):\n",
    "    sheet = np.sum([(i*j) for i,j in zip(w, np.array(lhs_ineq))],axis=0)#*np.ceil(result['x'])\n",
    "    inventory = dict(zip([i-j for i,j in zip(w,n)],np.sum(np.array(lhs_ineq)*-1*np.ceil(result['x']),axis=1)-np.array(q)))\n",
    "\n",
    "    # create layout summary\n",
    "    jumbos = list(np.ceil(result['x'])[np.ceil(result['x'])>0])\n",
    "    temp = np.array(lhs_ineq)*-1*np.where(np.ceil(result['x']) != 0, 1, 0)\n",
    "    temp = temp[:, temp.any(0)].T\n",
    "    non_zero_layouts = list([dict(zip([i-j for i,j in zip(w,n)], i)) for i in temp])\n",
    "\n",
    "    sheet_loss = [B+i for i in sheet]\n",
    "    sheet_loss = [i / B * 100 for i,j in zip(sheet_loss,np.where(result['x'] > 0, 1, 0)) if j > 0]\n",
    "\n",
    "    # remove extra layouts due to ceiling rounding from linprog\n",
    "    summary = pd.DataFrame([sheet_loss, jumbos, non_zero_layouts]).T\n",
    "    summary.columns = ['loss', 'jumbos', 'layout']\n",
    "    summary = summary.sort_values('loss', ascending=False).reset_index(drop=True)\n",
    "    for index, layout2 in enumerate(summary['layout']):\n",
    "        if all(np.array(list(inventory.values())) - np.array(list(layout2.values())) > 0):\n",
    "            summary.loc[index, 'jumbos'] -= 1\n",
    "            new_values = np.array(list(inventory.values())) - np.array(list(layout2.values()))\n",
    "            inventory.update(zip(inventory,new_values))\n",
    "    summary = summary[summary['jumbos'] != 0]\n",
    "\n",
    "    loss = sum([i[0]*i[1] for i in summary.values])/sum([i[1] for i in summary.values])\n",
    "    sqm_inventory = np.sum([i*j*.001*L for i,j in zip (inventory.keys(),inventory.values())])\n",
    "    sqm_produced = np.sum(jumbos)*L*B*.001\n",
    "    sqm_loss = sqm_produced*loss/100\n",
    "\n",
    "    print(\"total loss:      {:0.2f} % ({:.2e} sqm)\".format(loss, sqm_loss))\n",
    "    print(\"total inventory: {:.2f} % ({:.2e} sqm)\".format(sqm_inventory/sqm_produced*100, sqm_inventory), end = '\\n\\n')\n",
    "    print(\"inventory created: {}\".format(inventory), end = '\\n\\n')\n",
    "    # print(\"total inventory rolls: {:n} ({:.2e} sqm)\".format(sum(list(inventory.values())), sqm_inventory), end='\\n\\n')\n",
    "    print(\"layout summary:\", end = '\\n\\n')\n",
    "    for i in summary.values:\n",
    "        print(\"loss: {:.2f}% \\t {} x\\t {}\".format(i[0], i[1], i[2]))\n",
    "    print('')\n",
    "    print(\"total jumbos: {} ({:.2e} sqm)\".format(np.sum(summary['jumbos']), sqm_produced))\n",
    "    \n",
    "    return loss, inventory, summary\n",
    "\n",
    "# choose max unique widths per doff\n",
    "def find_optimum(patterns, layout, max_patterns = 3, prioritize = 'time'):\n",
    "    if prioritize == 'material loss':\n",
    "        inv_loss = 0\n",
    "    elif prioritize == 'time':\n",
    "        inv_loss = 1\n",
    "    if 1 < max_patterns < 4:\n",
    "        # find best of X combination\n",
    "        if len(w) <= max_combinations:\n",
    "            pattern_combos = list(itertools.combinations(patterns,r=max_patterns-1))\n",
    "        else:\n",
    "            pattern_combos = list(itertools.combinations(patterns,r=max_patterns))\n",
    "        print(\"{} possible max {} patterns\".format(len(pattern_combos),max_patterns), end='\\n\\n')\n",
    "        best_of = []\n",
    "        for combo in pattern_combos:\n",
    "            patterns2 = combo\n",
    "            lhs_ineq = []\n",
    "            for pattern in patterns2:\n",
    "                inset = []\n",
    "                for width in w:\n",
    "                    try:\n",
    "                        inset.append(-pattern[0][width])\n",
    "                    except:\n",
    "                        inset.append(0)\n",
    "                lhs_ineq.append(inset)\n",
    "        #     naive = init_layouts(B, w)\n",
    "        #     lhs_ineq = lhs_ineq + naive\n",
    "            if len(w) <= max_combinations:\n",
    "                lhs_ineq.append([-i for i in layout])\n",
    "            lhs_ineq = np.array(lhs_ineq).T.tolist()\n",
    "            rhs_ineq = [-i for i in q]\n",
    "            obj = np.ones(len(lhs_ineq[0]))\n",
    "\n",
    "            result = linprog(c=obj, \n",
    "                    A_ub=lhs_ineq,\n",
    "                    b_ub=rhs_ineq, \n",
    "                    method=\"revised simplex\")\n",
    "            if result['success'] == True:\n",
    "                sheet = np.sum([(i*j) for i,j in zip(w, np.array(lhs_ineq))],axis=0)#*np.ceil(result['x'])\n",
    "                inventory = dict(zip([i-j for i,j in zip(w,n)],np.sum(np.array(lhs_ineq)*-1*\\\n",
    "                                                                      np.ceil(result['x']),axis=1)-np.array(q)))\n",
    "\n",
    "                # create layout summary\n",
    "                jumbos = list(np.ceil(result['x'])[np.ceil(result['x'])>0])\n",
    "                temp = np.array(lhs_ineq)*-1*np.where(np.ceil(result['x']) != 0, 1, 0)\n",
    "                temp = temp[:, temp.any(0)].T\n",
    "                non_zero_layouts = list([dict(zip([i-j for i,j in zip(w,n)], i)) for i in temp])\n",
    "\n",
    "                sheet_loss = [B+i for i in sheet]\n",
    "                sheet_loss = [i / B * 100 for i,j in zip(sheet_loss,np.where(result['x'] > 0, 1, 0)) if j > 0]\n",
    "\n",
    "                # remove extra layouts due to ceiling rounding from linprog\n",
    "                sorted_jumbos = [x for _,x in sorted(zip(sheet_loss,jumbos))][::-1]\n",
    "                sorted_layouts = np.array(non_zero_layouts)[np.array(sheet_loss).argsort()][::-1]\n",
    "                sorted_losses = [x for _,x in sorted(zip(sheet_loss,sheet_loss))][::-1]\n",
    "                for index, layout2 in enumerate(np.array(non_zero_layouts)[np.array(sheet_loss).argsort()][::-1]):\n",
    "                    if all(np.array(list(inventory.values())) - np.array(list(layout2.values())) > 0):\n",
    "                        sorted_jumbos[index] -= 1\n",
    "                        new_values = np.array(list(inventory.values())) - np.array(list(layout2.values()))\n",
    "                        inventory.update(zip(inventory,new_values))\n",
    "\n",
    "                        # clear layouts that have been set to 0\n",
    "                summary = (list(zip(sorted_jumbos, sorted_layouts, sorted_losses)))\n",
    "                summ = []\n",
    "                for i in summary:\n",
    "                    if i[0] > 0:\n",
    "                        summ.append(i)\n",
    "                summary=summ\n",
    "                loss = sum([i[0]*i[2] for i in summary])/sum([i[0] for i in summary])\n",
    "\n",
    "                best_of.append([loss, sum(list(inventory.values())), patterns2])\n",
    "\n",
    "        # minimize inventory or minimize mat. loss\n",
    "        arr = np.array(best_of)\n",
    "        patterns_final = arr[np.argmin(arr[:,inv_loss])][2]\n",
    "    elif max_patterns == 1:\n",
    "        patterns_final = [[dict(zip(w,layout)), 0]]\n",
    "\n",
    "    else:\n",
    "        patterns_final = patterns\n",
    "\n",
    "    # find overall best combination\n",
    "    # format layouts for linear optimization\n",
    "    lhs_ineq = []\n",
    "    for pattern in patterns_final:\n",
    "        inset = []\n",
    "        for width in w:\n",
    "            try:\n",
    "                inset.append(-pattern[0][width])\n",
    "            except:\n",
    "                inset.append(0)\n",
    "        lhs_ineq.append(inset)\n",
    "    # naive = init_layouts(B, w)\n",
    "    # lhs_ineq = lhs_ineq + naive\n",
    "    if len(w) <= max_combinations:\n",
    "        lhs_ineq.append([-i for i in layout])\n",
    "    lhs_ineq = np.array(lhs_ineq).T.tolist()\n",
    "    rhs_ineq = [-i for i in q]\n",
    "    obj = np.ones(len(lhs_ineq[0]))\n",
    "\n",
    "    result = linprog(c=obj, \n",
    "            A_ub=lhs_ineq,\n",
    "            b_ub=rhs_ineq, \n",
    "            method=\"revised simplex\")\n",
    "\n",
    "    return output_results(result, lhs_ineq, B, w, n)"
   ]
  },
  {
   "cell_type": "code",
   "execution_count": 101,
   "metadata": {},
   "outputs": [
    {
     "name": "stdout",
     "output_type": "stream",
     "text": [
      "The important variables\n",
      "\n",
      "widths: [160, 195, 205, 210, 220, 235] (mm)\n",
      "neck in: [4, 5, 5, 7, 7, 7] (mm)\n",
      "jumbo length (L): 102000 (m)\n",
      "undeckled jumbos needed (q): [71, 242, 108, 265, 141, 30]\n"
     ]
    }
   ],
   "source": [
    "df = load_schedule(\n",
    "    customer='AHP',\n",
    "    technology='SM',\n",
    "    color='WHITE',\n",
    "    cycle='CYCLE 2',\n",
    ")\n",
    "# df = df.iloc[:10]\n",
    "B = 4160\n",
    "w, q, L, n = process_schedule(\n",
    "    df,\n",
    "    B=B,\n",
    "    put_up=17000,\n",
    "    doffs_in_jumbo=6,\n",
    "    verbiose=True,\n",
    ")"
   ]
  },
  {
   "cell_type": "code",
   "execution_count": 102,
   "metadata": {},
   "outputs": [
    {
     "name": "stdout",
     "output_type": "stream",
     "text": [
      "layout pattern: {160: 3, 195: 5, 205: 2, 210: 6, 220: 3, 235: 1}\n",
      "pattern loss: 0.55 %\n",
      "minimum doffs to fill order: 54\n",
      "inventory created: {160: 91, 195: 28, 205: 0, 210: 59, 220: 21, 235: 24}\n",
      "\n",
      "20 possible max 3 combinations\n",
      "55 unique patterns found\n"
     ]
    }
   ],
   "source": [
    "layout = make_best_pattern(q, w, n)\n",
    "max_combinations = 3\n",
    "\n",
    "combos = list(itertools.combinations(w,r=max_combinations))\n",
    "print('')\n",
    "print(\"{} possible max {} combinations\".format(len(combos),max_combinations))\n",
    "patterns = []\n",
    "for combo in combos:\n",
    "    \n",
    "    # only provide knapsack with relevant variables\n",
    "    s = []\n",
    "    for i in combo:\n",
    "        s += (int(B/i)*[i])\n",
    "    t = initt(B,len(s))\n",
    "    knapsack(s, s, B, len(s))\n",
    "    t = np.array(t)\n",
    "    patterns += store_patterns(goal=5)\n",
    "uni_list = []\n",
    "for i in patterns:\n",
    "    if i not in uni_list:\n",
    "        uni_list.append(i)\n",
    "patterns = uni_list\n",
    "patterns = list(np.array(patterns)[np.array(patterns)[:,1]>=0])\n",
    "print(\"{} unique patterns found\".format(len(patterns)))"
   ]
  },
  {
   "cell_type": "code",
   "execution_count": 124,
   "metadata": {},
   "outputs": [
    {
     "name": "stdout",
     "output_type": "stream",
     "text": [
      "26235 possible max 3 patterns\n",
      "\n",
      "total loss:      0.08 % (1.64e+04 sqm)\n",
      "total inventory: 9.78 % (1.99e+06 sqm)\n",
      "\n",
      "inventory created: {160: 59.0, 195: 11.0, 205: 27.0, 210: 2.0, 220: 9.0, 235: 0.0}\n",
      "\n",
      "layout summary:\n",
      "\n",
      "loss: 0.17% \t 23.0 x\t {160: 0, 195: 11, 205: 0, 210: 9, 220: 0, 235: 0}\n",
      "loss: 0.00% \t 10.0 x\t {160: 13, 195: 0, 205: 0, 210: 6, 220: 0, 235: 3}\n",
      "loss: 0.00% \t 15.0 x\t {160: 0, 195: 0, 205: 9, 210: 0, 220: 10, 235: 0}\n",
      "\n",
      "total jumbos: 48.0 (2.04e+07 sqm)\n"
     ]
    }
   ],
   "source": [
    "loss, inventory, summary = find_optimum(patterns, layout, max_patterns=3, prioritize='time')"
   ]
  },
  {
   "cell_type": "markdown",
   "metadata": {},
   "source": [
    "# sqm produced/inventory"
   ]
  },
  {
   "cell_type": "code",
   "execution_count": 77,
   "metadata": {},
   "outputs": [
    {
     "name": "stdout",
     "output_type": "stream",
     "text": [
      "4060 possible max 3 patterns\n",
      "\n"
     ]
    }
   ],
   "source": [
    "\n",
    "max_patterns = 3\n",
    "prioritize = 'time'\n",
    "if prioritize == 'material loss':\n",
    "    inv_loss = 0\n",
    "elif prioritize == 'time':\n",
    "    inv_loss = 1\n",
    "if 1 < max_patterns < 4:\n",
    "    # find best of X combination\n",
    "    if len(w) <= max_combinations:\n",
    "        pattern_combos = list(itertools.combinations(patterns,r=max_patterns-1))\n",
    "    else:\n",
    "        pattern_combos = list(itertools.combinations(patterns,r=max_patterns))\n",
    "    print(\"{} possible max {} patterns\".format(len(pattern_combos),max_patterns), end='\\n\\n')\n",
    "    best_of = []\n",
    "    for combo in pattern_combos:\n",
    "        patterns2 = combo\n",
    "        lhs_ineq = []\n",
    "        for pattern in patterns2:\n",
    "            inset = []\n",
    "            for width in w:\n",
    "                try:\n",
    "                    inset.append(-pattern[0][width])\n",
    "                except:\n",
    "                    inset.append(0)\n",
    "            lhs_ineq.append(inset)\n",
    "    #     naive = init_layouts(B, w)\n",
    "    #     lhs_ineq = lhs_ineq + naive\n",
    "        if len(w) <= max_combinations:\n",
    "            lhs_ineq.append([-i for i in layout])\n",
    "        lhs_ineq = np.array(lhs_ineq).T.tolist()\n",
    "        rhs_ineq = [-i for i in q]\n",
    "        obj = np.ones(len(lhs_ineq[0]))\n",
    "\n",
    "        result = linprog(c=obj, \n",
    "                A_ub=lhs_ineq,\n",
    "                b_ub=rhs_ineq, \n",
    "                method=\"revised simplex\")\n",
    "        if result['success'] == True:\n",
    "            sheet = np.sum([(i*j) for i,j in zip(w, np.array(lhs_ineq))],axis=0)#*np.ceil(result['x'])\n",
    "            inventory = dict(zip([i-j for i,j in zip(w,n)],np.sum(np.array(lhs_ineq)*-1*\\\n",
    "                                                                  np.ceil(result['x']),axis=1)-np.array(q)))\n",
    "\n",
    "            # create layout summary\n",
    "            jumbos = list(np.ceil(result['x'])[np.ceil(result['x'])>0])\n",
    "            temp = np.array(lhs_ineq)*-1*np.where(np.ceil(result['x']) != 0, 1, 0)\n",
    "            temp = temp[:, temp.any(0)].T\n",
    "            non_zero_layouts = list([dict(zip([i-j for i,j in zip(w,n)], i)) for i in temp])\n",
    "\n",
    "            sheet_loss = [B+i for i in sheet]\n",
    "            sheet_loss = [i / B * 100 for i,j in zip(sheet_loss,np.where(result['x'] > 0, 1, 0)) if j > 0]\n",
    "\n",
    "            # remove extra layouts due to ceiling rounding from linprog\n",
    "            sorted_jumbos = [x for _,x in sorted(zip(sheet_loss,jumbos))][::-1]\n",
    "            sorted_layouts = np.array(non_zero_layouts)[np.array(sheet_loss).argsort()][::-1]\n",
    "            sorted_losses = [x for _,x in sorted(zip(sheet_loss,sheet_loss))][::-1]\n",
    "            for index, layout2 in enumerate(np.array(non_zero_layouts)[np.array(sheet_loss).argsort()][::-1]):\n",
    "                if all(np.array(list(inventory.values())) - np.array(list(layout2.values())) > 0):\n",
    "                    sorted_jumbos[index] -= 1\n",
    "                    new_values = np.array(list(inventory.values())) - np.array(list(layout2.values()))\n",
    "                    inventory.update(zip(inventory,new_values))\n",
    "\n",
    "                    # clear layouts that have been set to 0\n",
    "            summary = (list(zip(sorted_jumbos, sorted_layouts, sorted_losses)))\n",
    "            summ = []\n",
    "            for i in summary:\n",
    "                if i[0] > 0:\n",
    "                    summ.append(i)\n",
    "            summary=summ\n",
    "            loss = sum([i[0]*i[2] for i in summary])/sum([i[0] for i in summary])\n",
    "\n",
    "            best_of.append([loss, sum(list(inventory.values())), patterns2])\n",
    "\n",
    "    # minimize inventory or minimize mat. loss\n",
    "    arr = np.array(best_of)\n",
    "    patterns_final = arr[np.argmin(arr[:,inv_loss])][2]\n",
    "elif max_patterns == 1:\n",
    "    patterns_final = [[dict(zip(w,layout)), 0]]\n",
    "\n",
    "else:\n",
    "    patterns_final = patterns\n",
    "\n",
    "# find overall best combination\n",
    "# format layouts for linear optimization\n",
    "lhs_ineq = []\n",
    "for pattern in patterns_final:\n",
    "    inset = []\n",
    "    for width in w:\n",
    "        try:\n",
    "            inset.append(-pattern[0][width])\n",
    "        except:\n",
    "            inset.append(0)\n",
    "    lhs_ineq.append(inset)\n",
    "# naive = init_layouts(B, w)\n",
    "# lhs_ineq = lhs_ineq + naive\n",
    "if len(w) <= max_combinations:\n",
    "    lhs_ineq.append([-i for i in layout])\n",
    "lhs_ineq = np.array(lhs_ineq).T.tolist()\n",
    "rhs_ineq = [-i for i in q]\n",
    "obj = np.ones(len(lhs_ineq[0]))\n",
    "\n",
    "result = linprog(c=obj, \n",
    "        A_ub=lhs_ineq,\n",
    "        b_ub=rhs_ineq, \n",
    "        method=\"revised simplex\")"
   ]
  },
  {
   "cell_type": "code",
   "execution_count": 97,
   "metadata": {},
   "outputs": [
    {
     "name": "stdout",
     "output_type": "stream",
     "text": [
      "total loss:      0.23 % (4.46e+04 sqm)\n",
      "total inventory: 6.00 % (1.15e+06 sqm)\n",
      "\n",
      "inventory created: {160: 2.0, 195: 6.0, 205: 8.0, 220: 8.0, 235: 27.0}\n",
      "\n",
      "layout summary:\n",
      "\n",
      "loss: 0.48% \t 14.0 x\t {160: 0, 195: 6, 205: 14, 220: 0, 235: 0}\n",
      "loss: 0.14% \t 22.0 x\t {160: 0, 195: 7, 205: 0, 220: 10, 235: 2}\n",
      "loss: 0.05% \t 8.0 x\t {160: 7, 195: 14, 205: 1, 220: 0, 235: 0}\n",
      "\n",
      "total jumbos: 44.0 (1.91e+07 sqm)\n"
     ]
    }
   ],
   "source": [
    "\n",
    "sheet = np.sum([(i*j) for i,j in zip(w, np.array(lhs_ineq))],axis=0)#*np.ceil(result['x'])\n",
    "inventory = dict(zip([i-j for i,j in zip(w,n)],np.sum(np.array(lhs_ineq)*-1*np.ceil(result['x']),axis=1)-np.array(q)))\n",
    "\n",
    "# create layout summary\n",
    "jumbos = list(np.ceil(result['x'])[np.ceil(result['x'])>0])\n",
    "temp = np.array(lhs_ineq)*-1*np.where(np.ceil(result['x']) != 0, 1, 0)\n",
    "temp = temp[:, temp.any(0)].T\n",
    "non_zero_layouts = list([dict(zip([i-j for i,j in zip(w,n)], i)) for i in temp])\n",
    "\n",
    "sheet_loss = [B+i for i in sheet]\n",
    "sheet_loss = [i / B * 100 for i,j in zip(sheet_loss,np.where(result['x'] > 0, 1, 0)) if j > 0]\n",
    "\n",
    "# remove extra layouts due to ceiling rounding from linprog\n",
    "summary = pd.DataFrame([sheet_loss, jumbos, non_zero_layouts]).T\n",
    "summary.columns = ['loss', 'jumbos', 'layout']\n",
    "summary = summary.sort_values('loss', ascending=False).reset_index(drop=True)\n",
    "for index, layout2 in enumerate(summary['layout']):\n",
    "    if all(np.array(list(inventory.values())) - np.array(list(layout2.values())) > 0):\n",
    "        summary.loc[index, 'jumbos'] -= 1\n",
    "        new_values = np.array(list(inventory.values())) - np.array(list(layout2.values()))\n",
    "        inventory.update(zip(inventory,new_values))\n",
    "summary = summary[summary['jumbos'] != 0]\n",
    "\n",
    "loss = sum([i[0]*i[1] for i in summary.values])/sum([i[1] for i in summary.values])\n",
    "sqm_inventory = np.sum([i*j*.001*L for i,j in zip (inventory.keys(),inventory.values())])\n",
    "sqm_produced = np.sum(jumbos)*L*B*.001\n",
    "sqm_loss = sqm_produced*loss/100\n",
    "\n",
    "print(\"total loss:      {:0.2f} % ({:.2e} sqm)\".format(loss, sqm_loss))\n",
    "print(\"total inventory: {:.2f} % ({:.2e} sqm)\".format(sqm_inventory/sqm_produced*100, sqm_inventory), end = '\\n\\n')\n",
    "print(\"inventory created: {}\".format(inventory), end = '\\n\\n')\n",
    "# print(\"total inventory rolls: {:n} ({:.2e} sqm)\".format(sum(list(inventory.values())), sqm_inventory), end='\\n\\n')\n",
    "print(\"layout summary:\", end = '\\n\\n')\n",
    "for i in summary.values:\n",
    "    print(\"loss: {:.2f}% \\t {} x\\t {}\".format(i[0], i[1], i[2]))\n",
    "print('')\n",
    "print(\"total jumbos: {} ({:.2e} sqm)\".format(np.sum(summary['jumbos']), sqm_produced))"
   ]
  },
  {
   "cell_type": "code",
   "execution_count": 79,
   "metadata": {},
   "outputs": [
    {
     "name": "stdout",
     "output_type": "stream",
     "text": [
      "1.15e+06\n"
     ]
    }
   ],
   "source": [
    "# this is sqm inventory by key/values in inventory dict\n",
    "sqm_inventory = np.sum([i*j*.001*L for i,j in zip (inventory.keys(),inventory.values())])\n",
    "print(\"{:.2e}\".format(sqm_inventory))"
   ]
  },
  {
   "cell_type": "code",
   "execution_count": 89,
   "metadata": {},
   "outputs": [
    {
     "name": "stdout",
     "output_type": "stream",
     "text": [
      "1.91e+07\n"
     ]
    }
   ],
   "source": [
    "# total produced\n",
    "sqm_produced = np.sum(jumbos)*L*B*.001\n",
    "print(\"{:.2e}\".format(sqm_produced))"
   ]
  },
  {
   "cell_type": "code",
   "execution_count": 94,
   "metadata": {},
   "outputs": [
    {
     "data": {
      "text/plain": [
       "6.001602564102564"
      ]
     },
     "execution_count": 94,
     "metadata": {},
     "output_type": "execute_result"
    }
   ],
   "source": [
    "sqm_inventory/sqm_produced*100"
   ]
  },
  {
   "cell_type": "code",
   "execution_count": 92,
   "metadata": {},
   "outputs": [
    {
     "data": {
      "text/plain": [
       "4464818.181818182"
      ]
     },
     "execution_count": 92,
     "metadata": {},
     "output_type": "execute_result"
    }
   ],
   "source": [
    "loss*sqm_produced"
   ]
  },
  {
   "cell_type": "code",
   "execution_count": 96,
   "metadata": {},
   "outputs": [
    {
     "data": {
      "text/plain": [
       "0.23382867132867133"
      ]
     },
     "execution_count": 96,
     "metadata": {},
     "output_type": "execute_result"
    }
   ],
   "source": [
    "loss"
   ]
  },
  {
   "cell_type": "code",
   "execution_count": 83,
   "metadata": {},
   "outputs": [
    {
     "data": {
      "text/plain": [
       "0.23382867132867133"
      ]
     },
     "execution_count": 83,
     "metadata": {},
     "output_type": "execute_result"
    }
   ],
   "source": [
    "loss"
   ]
  },
  {
   "cell_type": "code",
   "execution_count": 95,
   "metadata": {},
   "outputs": [
    {
     "name": "stdout",
     "output_type": "stream",
     "text": [
      "4.46e+04\n"
     ]
    }
   ],
   "source": [
    "sqm_loss = sqm_produced*loss/100\n",
    "print(\"{:.2e}\".format(sqm_loss))"
   ]
  },
  {
   "cell_type": "markdown",
   "metadata": {},
   "source": [
    "# heuristic 2-layout seed, max 3 widths"
   ]
  },
  {
   "cell_type": "code",
   "execution_count": 156,
   "metadata": {},
   "outputs": [],
   "source": [
    "# for make best pattern\n",
    "# need usable width\n",
    "# q, w, n\n",
    "# if there are 4+ widths\n",
    "# need to split them up\n",
    "# which width is split across\n",
    "# layouts? probably the one that has the greatest LM"
   ]
  },
  {
   "cell_type": "code",
   "execution_count": 157,
   "metadata": {},
   "outputs": [
    {
     "data": {
      "text/plain": [
       "[158, 175, 215, 225, 241]"
      ]
     },
     "execution_count": 157,
     "metadata": {},
     "output_type": "execute_result"
    }
   ],
   "source": [
    "w"
   ]
  },
  {
   "cell_type": "code",
   "execution_count": 158,
   "metadata": {},
   "outputs": [
    {
     "data": {
      "text/plain": [
       "[32, 109, 75, 22, 460]"
      ]
     },
     "execution_count": 158,
     "metadata": {},
     "output_type": "execute_result"
    }
   ],
   "source": [
    "q"
   ]
  },
  {
   "cell_type": "code",
   "execution_count": 160,
   "metadata": {},
   "outputs": [],
   "source": [
    "usable_width = 4160\n",
    "layout = [max(1, math.floor(i/sum(q)*usable_width/j)) for i,j in zip(q,w)]"
   ]
  },
  {
   "cell_type": "code",
   "execution_count": 174,
   "metadata": {},
   "outputs": [
    {
     "data": {
      "text/plain": [
       "[[], [], [], [], []]"
      ]
     },
     "execution_count": 174,
     "metadata": {},
     "output_type": "execute_result"
    }
   ],
   "source": [
    "[[]]*len(w)"
   ]
  },
  {
   "cell_type": "code",
   "execution_count": 225,
   "metadata": {},
   "outputs": [
    {
     "name": "stdout",
     "output_type": "stream",
     "text": [
      "[2, 3, 2, 1, 11]\n"
     ]
    },
    {
     "data": {
      "text/plain": [
       "[18, 0, 0, 0, 5]"
      ]
     },
     "execution_count": 225,
     "metadata": {},
     "output_type": "execute_result"
    }
   ],
   "source": [
    "print(layout) # we have this ideal layout, can we use it to split across two layouts?\n",
    "\n",
    "# for 5 unique widths with 3 max: 2-1, 2-1\n",
    "# for 5 unique widths with 4 max: 1-3, 1-3\n",
    "# for 5 unique widths with 2 max: no soln\n",
    "# ok so seed two layouts\n",
    "max_combinations = 3\n",
    "\n",
    "if max_combinations == 3 and len(w) == 5:\n",
    "    layout1 = [0]*len(w)\n",
    "    layout2 = [0]*len(w)\n",
    "    \n",
    "    split = np.argmax(layout) # we'll split the most common width across both\n",
    "    if layout[split]%2 != 0:\n",
    "        layout1[split] = math.floor(layout[split]/2)\n",
    "        layout2[split] = math.ceil(layout[split]/2)\n",
    "    else:\n",
    "        layout2[split] = layout1[split] = layout[split]/2\n",
    "\n",
    "while (usable_width - sum([i*j for i,j in zip(layout1,w)])) > min(w):\n",
    "    remainder = [math.remainder(i/sum(q)*usable_width/j, 1) if (math.remainder(i/sum(q)*usable_width/j, 1)\n",
    "                                                    < 0) else -1 for i,j in zip(q,w) ] \n",
    "    i = np.argsort(remainder)[::-1][0]\n",
    "#     for i in order[::-1]:\n",
    "    layout1[i] += 1\n",
    "    if usable_width - sum([i*j for i,j in zip(layout1,w)]) < 0:\n",
    "        layout1[i] -= 1\n",
    "layout1"
   ]
  },
  {
   "cell_type": "code",
   "execution_count": 232,
   "metadata": {},
   "outputs": [
    {
     "data": {
      "text/plain": [
       "[0.20706539479888275,\n",
       " -0.2878428162095781,\n",
       " 0.0790297860998197,\n",
       " -0.4172556510665393,\n",
       " 0.3757148462114639]"
      ]
     },
     "execution_count": 232,
     "metadata": {},
     "output_type": "execute_result"
    }
   ],
   "source": [
    "[math.remainder(i/sum(q)*usable_width/j, 1)  for i,j in zip(q,w) ]"
   ]
  },
  {
   "cell_type": "code",
   "execution_count": 233,
   "metadata": {},
   "outputs": [
    {
     "data": {
      "text/plain": [
       "[1.2070653947988828,\n",
       " 3.712157183790422,\n",
       " 2.0790297860998197,\n",
       " 0.5827443489334607,\n",
       " 11.375714846211464]"
      ]
     },
     "execution_count": 233,
     "metadata": {},
     "output_type": "execute_result"
    }
   ],
   "source": [
    "[i/sum(q)*usable_width/j for i,j in zip(q,w)]"
   ]
  },
  {
   "cell_type": "code",
   "execution_count": 226,
   "metadata": {},
   "outputs": [
    {
     "name": "stdout",
     "output_type": "stream",
     "text": [
      "[158, 175, 215, 225, 241]\n",
      "[32, 109, 75, 22, 460]\n"
     ]
    }
   ],
   "source": [
    "print(w)\n",
    "print(q)"
   ]
  },
  {
   "cell_type": "code",
   "execution_count": 220,
   "metadata": {},
   "outputs": [
    {
     "data": {
      "text/plain": [
       "[0, 0, 0, 0, 6]"
      ]
     },
     "execution_count": 220,
     "metadata": {},
     "output_type": "execute_result"
    }
   ],
   "source": [
    "layout2"
   ]
  },
  {
   "cell_type": "code",
   "execution_count": 164,
   "metadata": {},
   "outputs": [
    {
     "data": {
      "text/plain": [
       "array([0, 2, 4, 3, 1])"
      ]
     },
     "execution_count": 164,
     "metadata": {},
     "output_type": "execute_result"
    }
   ],
   "source": [
    "# give priority to widths that had to round down the most\n",
    "# when filling up the rest of the pattern\n",
    "remainder = [math.remainder(i/sum(q)*usable_width/j, 1) if (math.remainder(i/sum(q)*usable_width/j, 1)\n",
    "                                                    < 0) else -1 for i,j in zip(q,w) ] \n",
    "order = np.argsort(remainder)\n",
    "order"
   ]
  },
  {
   "cell_type": "code",
   "execution_count": 222,
   "metadata": {},
   "outputs": [
    {
     "data": {
      "text/plain": [
       "[2, 3, 3, 3, 8]"
      ]
     },
     "execution_count": 222,
     "metadata": {},
     "output_type": "execute_result"
    }
   ],
   "source": [
    "layout1"
   ]
  },
  {
   "cell_type": "code",
   "execution_count": 223,
   "metadata": {},
   "outputs": [],
   "source": [
    "while (usable_width - sum([i*j for i,j in zip(layout1,w)])) > min(w):\n",
    "    remainder = [math.remainder(i/sum(q)*usable_width/j, 1) if (math.remainder(i/sum(q)*usable_width/j, 1)\n",
    "                                                    < 0) else -1 for i,j in zip(q,w) ] \n",
    "    i = np.argsort(remainder)[::-1][0]\n",
    "#     for i in order[::-1]:\n",
    "    layout1[i] += 1\n",
    "    if usable_width - sum([i*j for i,j in zip(layout1,w)]) < 0:\n",
    "        layout1[i] -= 1\n",
    "layout1"
   ]
  },
  {
   "cell_type": "code",
   "execution_count": null,
   "metadata": {},
   "outputs": [],
   "source": [
    "\n",
    "\n",
    "\n",
    "while (usable_width - sum([i*j for i,j in zip(layout,w)])) > min(w):\n",
    "    for i in order[::-1]:\n",
    "        layout[i] += 1\n",
    "        if usable_width - sum([i*j for i,j in zip(layout,w)]) < 0:\n",
    "            layout[i] -= 1\n",
    "\n",
    "# compute the loss for the final layout\n",
    "layout_loss = usable_width - sum([i*j for i,j in zip(layout,w)])\n",
    "print(\"layout pattern: {}\".format(dict(zip([i-j for i,j in zip(w,n)],layout))))\n",
    "print(\"pattern loss: {:0.2f} %\".format(layout_loss/usable_width*100))\n",
    "\n",
    "# multiply to get the minimum doffs required\n",
    "# layout * doffs > q\n",
    "doffs = max([math.ceil(i/j) for i,j in zip(q, layout)])\n",
    "print(\"minimum doffs to fill order: {}\".format(doffs))\n",
    "\n",
    "# what inventory is created\n",
    "inventory = dict(zip([i-j for i,j in zip(w,n)],[i*doffs-j for i,j in zip(layout,q)]))\n",
    "print(\"inventory created: {}\".format(inventory))"
   ]
  },
  {
   "cell_type": "code",
   "execution_count": 214,
   "metadata": {},
   "outputs": [
    {
     "name": "stdout",
     "output_type": "stream",
     "text": [
      "13244 possible max 3 patterns\n",
      "\n",
      "total loss: 0.12 %\n",
      "\n",
      "inventory created: {154: 200.0, 170: 3.0, 208: 2.0, 218: 20.0, 234: 9.0}\n",
      "\n",
      "total inventory rolls: 234\n",
      "\n",
      "layout summary:\n",
      "\n",
      "loss: 0.24% \t 7.0 x\t {154: 0, 170: 16, 208: 0, 218: 6, 234: 0}\n",
      "loss: 0.10% \t 29.0 x\t {154: 0, 170: 0, 208: 7, 218: 0, 234: 11}\n",
      "loss: 0.10% \t 11.0 x\t {154: 8, 170: 0, 208: 0, 218: 0, 234: 12}\n",
      "\n",
      "total layouts: 47.0\n"
     ]
    },
    {
     "data": {
      "text/plain": [
       "(0.11763502454991817,\n",
       " {154: 200.0, 170: 3.0, 208: 2.0, 218: 20.0, 234: 9.0},\n",
       " [(7.0, {154: 0, 170: 16, 208: 0, 218: 6, 234: 0}, 0.2403846153846154),\n",
       "  (29.0, {154: 0, 170: 0, 208: 7, 218: 0, 234: 11}, 0.09615384615384616),\n",
       "  (11.0, {154: 8, 170: 0, 208: 0, 218: 0, 234: 12}, 0.09615384615384616)])"
      ]
     },
     "execution_count": 214,
     "metadata": {},
     "output_type": "execute_result"
    }
   ],
   "source": []
  },
  {
   "cell_type": "code",
   "execution_count": 155,
   "metadata": {},
   "outputs": [
    {
     "name": "stdout",
     "output_type": "stream",
     "text": [
      "total loss: 0.31 %\n",
      "\n",
      "inventory created: {154: 52.0, 170: 17.0, 208: 9.0, 218: 20.0, 234: 2.0}\n",
      "\n",
      "total inventory rolls: 100\n",
      "\n",
      "layout summary:\n",
      "\n",
      "loss: 0.31% \t 42.0 x\t {154: 2, 170: 3, 208: 2, 218: 1, 234: 11}\n",
      "\n",
      "total layouts: 42.0\n"
     ]
    }
   ],
   "source": [
    "loss, inventory, summary = find_optimum(patterns, max_patterns=4, prioritize='time')"
   ]
  },
  {
   "cell_type": "code",
   "execution_count": null,
   "metadata": {},
   "outputs": [],
   "source": []
  }
 ],
 "metadata": {
  "kernelspec": {
   "display_name": "Python 3",
   "language": "python",
   "name": "python3"
  },
  "language_info": {
   "codemirror_mode": {
    "name": "ipython",
    "version": 3
   },
   "file_extension": ".py",
   "mimetype": "text/x-python",
   "name": "python",
   "nbconvert_exporter": "python",
   "pygments_lexer": "ipython3",
   "version": "3.7.4"
  }
 },
 "nbformat": 4,
 "nbformat_minor": 2
}

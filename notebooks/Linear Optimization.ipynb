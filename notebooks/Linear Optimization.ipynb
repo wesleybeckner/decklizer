{
 "cells": [
  {
   "cell_type": "markdown",
   "metadata": {},
   "source": [
    "# Linear Optimization Methods\n",
    "\n",
    "we have algorithm to select relevant layouts. It is the integer knapsack problem\n",
    "\n",
    "no we just need to put it all together"
   ]
  },
  {
   "cell_type": "code",
   "execution_count": 1,
   "metadata": {},
   "outputs": [],
   "source": [
    "import sys\n",
    "sys.path.append(\"../\")\n",
    "\n",
    "import numpy as np\n",
    "import pandas as pd\n",
    "import plotly.graph_objects as go\n",
    "import plotly.express as px\n",
    "import math\n",
    "from random import shuffle, choice\n",
    "import copy\n",
    "from utils import *\n",
    "from engine import *\n",
    "from IPython.display import clear_output\n",
    "import time\n",
    "import datetime\n",
    "import re"
   ]
  },
  {
   "cell_type": "code",
   "execution_count": 2,
   "metadata": {},
   "outputs": [],
   "source": [
    "df = pd.read_excel('../data/200721_ New Way SCH W3-W6 W14 07.20.20.xlsx',\n",
    "                   sheet_name='Schedule')\n",
    "\n",
    "# the input schedule appears as a data table on the dashboard\n",
    "# this is used to select what to deckle\n",
    "df_input_schedule = pd.read_excel('../data/200721_ New Way SCH W3-W6 W14 07.20.20.xlsx',\n",
    "                   sheet_name='Schedule')\n",
    "df_input_schedule.insert(1, 'Technology', df_input_schedule['Description'].apply(lambda x: parse_description(x, 'tech')))\n",
    "df_input_schedule.insert(2, 'Color', df_input_schedule['Description'].apply(lambda x: x.split(';')[1] if type(x) == str else None))\n",
    "df_input_schedule.insert(3, 'Width', df_input_schedule['Description'].apply(lambda x: parse_description(x, 'width')))\n",
    "df_input_schedule = df_input_schedule[[col for col in df_input_schedule.columns if 'Unnamed' not in str(col)]]\n",
    "df_input_schedule['Total LM Order QTY'] = df_input_schedule['Total LM Order QTY'].round(1)"
   ]
  },
  {
   "cell_type": "code",
   "execution_count": 3,
   "metadata": {},
   "outputs": [
    {
     "data": {
      "text/html": [
       "<div>\n",
       "<style scoped>\n",
       "    .dataframe tbody tr th:only-of-type {\n",
       "        vertical-align: middle;\n",
       "    }\n",
       "\n",
       "    .dataframe tbody tr th {\n",
       "        vertical-align: top;\n",
       "    }\n",
       "\n",
       "    .dataframe thead th {\n",
       "        text-align: right;\n",
       "    }\n",
       "</style>\n",
       "<table border=\"1\" class=\"dataframe\">\n",
       "  <thead>\n",
       "    <tr style=\"text-align: right;\">\n",
       "      <th></th>\n",
       "      <th>Block</th>\n",
       "      <th>SPM375014                               PROD. DATE</th>\n",
       "      <th>CYCLE / BUCKET</th>\n",
       "      <th>Customer Name</th>\n",
       "      <th>Item No</th>\n",
       "      <th>WO#</th>\n",
       "      <th>Description</th>\n",
       "      <th>Treatment</th>\n",
       "      <th>KG</th>\n",
       "      <th>Hours To Produce</th>\n",
       "      <th>...</th>\n",
       "      <th>Unnamed: 24</th>\n",
       "      <th>Unnamed: 25</th>\n",
       "      <th>Unnamed: 26</th>\n",
       "      <th>Unnamed: 27</th>\n",
       "      <th>Unnamed: 28</th>\n",
       "      <th>% reclaim</th>\n",
       "      <th>Amount Repro needed</th>\n",
       "      <th>Type of Repro</th>\n",
       "      <th>Order Number</th>\n",
       "      <th>Width</th>\n",
       "    </tr>\n",
       "  </thead>\n",
       "  <tbody>\n",
       "    <tr>\n",
       "      <th>0</th>\n",
       "      <td>1</td>\n",
       "      <td>2020-07-29 04:38:41.042</td>\n",
       "      <td>CYCLE 1</td>\n",
       "      <td>AHP</td>\n",
       "      <td>1559695</td>\n",
       "      <td>NaN</td>\n",
       "      <td>SM30135UN0160;WHITE;600;46\" OD</td>\n",
       "      <td>UNTREATED</td>\n",
       "      <td>2000.0</td>\n",
       "      <td>1.131222</td>\n",
       "      <td>...</td>\n",
       "      <td>NaN</td>\n",
       "      <td>NaN</td>\n",
       "      <td>NaN</td>\n",
       "      <td>NaN</td>\n",
       "      <td>NaN</td>\n",
       "      <td>0.15</td>\n",
       "      <td>14451.705882</td>\n",
       "      <td>SMS</td>\n",
       "      <td>1</td>\n",
       "      <td>160</td>\n",
       "    </tr>\n",
       "    <tr>\n",
       "      <th>1</th>\n",
       "      <td>1</td>\n",
       "      <td>2020-07-29 05:46:33.441</td>\n",
       "      <td>CYCLE 1</td>\n",
       "      <td>AHP</td>\n",
       "      <td>1559618</td>\n",
       "      <td>NaN</td>\n",
       "      <td>SM30135UN0195;WHITE;600;46\" OD</td>\n",
       "      <td>UNTREATED</td>\n",
       "      <td>7500.0</td>\n",
       "      <td>4.242081</td>\n",
       "      <td>...</td>\n",
       "      <td>NaN</td>\n",
       "      <td>NaN</td>\n",
       "      <td>NaN</td>\n",
       "      <td>NaN</td>\n",
       "      <td>NaN</td>\n",
       "      <td>0.15</td>\n",
       "      <td>14451.705882</td>\n",
       "      <td>SMS</td>\n",
       "      <td>2</td>\n",
       "      <td>195</td>\n",
       "    </tr>\n",
       "    <tr>\n",
       "      <th>2</th>\n",
       "      <td>1</td>\n",
       "      <td>2020-07-29 10:01:04.934</td>\n",
       "      <td>CYCLE 1</td>\n",
       "      <td>AHP</td>\n",
       "      <td>1715784</td>\n",
       "      <td>NaN</td>\n",
       "      <td>SM30135UN0205;WHITE;600;46\" OD</td>\n",
       "      <td>UNTREATED</td>\n",
       "      <td>3000.0</td>\n",
       "      <td>1.696833</td>\n",
       "      <td>...</td>\n",
       "      <td>NaN</td>\n",
       "      <td>NaN</td>\n",
       "      <td>NaN</td>\n",
       "      <td>NaN</td>\n",
       "      <td>NaN</td>\n",
       "      <td>0.15</td>\n",
       "      <td>14451.705882</td>\n",
       "      <td>SMS</td>\n",
       "      <td>3</td>\n",
       "      <td>205</td>\n",
       "    </tr>\n",
       "    <tr>\n",
       "      <th>3</th>\n",
       "      <td>1</td>\n",
       "      <td>2020-07-29 11:42:53.531</td>\n",
       "      <td>CYCLE 1</td>\n",
       "      <td>AHP</td>\n",
       "      <td>1716031</td>\n",
       "      <td>NaN</td>\n",
       "      <td>SM30135UN0220;WHITE;600;46\" OD</td>\n",
       "      <td>UNTREATED</td>\n",
       "      <td>14000.0</td>\n",
       "      <td>7.918552</td>\n",
       "      <td>...</td>\n",
       "      <td>NaN</td>\n",
       "      <td>NaN</td>\n",
       "      <td>NaN</td>\n",
       "      <td>NaN</td>\n",
       "      <td>NaN</td>\n",
       "      <td>0.15</td>\n",
       "      <td>14451.705882</td>\n",
       "      <td>SMS</td>\n",
       "      <td>4</td>\n",
       "      <td>220</td>\n",
       "    </tr>\n",
       "    <tr>\n",
       "      <th>4</th>\n",
       "      <td>1</td>\n",
       "      <td>2020-07-29 19:38:00.318</td>\n",
       "      <td>CYCLE 1</td>\n",
       "      <td>AHP</td>\n",
       "      <td>1559618</td>\n",
       "      <td>NaN</td>\n",
       "      <td>SM30135UN0195;WHITE;600;46\" OD</td>\n",
       "      <td>UNTREATED</td>\n",
       "      <td>4725.0</td>\n",
       "      <td>2.672511</td>\n",
       "      <td>...</td>\n",
       "      <td>NaN</td>\n",
       "      <td>NaN</td>\n",
       "      <td>NaN</td>\n",
       "      <td>NaN</td>\n",
       "      <td>NaN</td>\n",
       "      <td>0.15</td>\n",
       "      <td>14451.705882</td>\n",
       "      <td>SMS</td>\n",
       "      <td>5</td>\n",
       "      <td>195</td>\n",
       "    </tr>\n",
       "    <tr>\n",
       "      <th>5</th>\n",
       "      <td>1</td>\n",
       "      <td>2020-07-29 22:18:21.359</td>\n",
       "      <td>CYCLE 1</td>\n",
       "      <td>AHP</td>\n",
       "      <td>1715784</td>\n",
       "      <td>NaN</td>\n",
       "      <td>SM30135UN0205;WHITE;600;46\" OD</td>\n",
       "      <td>UNTREATED</td>\n",
       "      <td>7425.0</td>\n",
       "      <td>4.199661</td>\n",
       "      <td>...</td>\n",
       "      <td>NaN</td>\n",
       "      <td>NaN</td>\n",
       "      <td>NaN</td>\n",
       "      <td>NaN</td>\n",
       "      <td>NaN</td>\n",
       "      <td>0.15</td>\n",
       "      <td>14451.705882</td>\n",
       "      <td>SMS</td>\n",
       "      <td>6</td>\n",
       "      <td>205</td>\n",
       "    </tr>\n",
       "    <tr>\n",
       "      <th>6</th>\n",
       "      <td>1</td>\n",
       "      <td>2020-07-30 02:30:20.137</td>\n",
       "      <td>CYCLE 1</td>\n",
       "      <td>AHP</td>\n",
       "      <td>1716031</td>\n",
       "      <td>NaN</td>\n",
       "      <td>SM30135UN0220;WHITE;600;46\" OD</td>\n",
       "      <td>UNTREATED</td>\n",
       "      <td>3037.0</td>\n",
       "      <td>1.717760</td>\n",
       "      <td>...</td>\n",
       "      <td>NaN</td>\n",
       "      <td>NaN</td>\n",
       "      <td>NaN</td>\n",
       "      <td>NaN</td>\n",
       "      <td>NaN</td>\n",
       "      <td>0.15</td>\n",
       "      <td>14451.705882</td>\n",
       "      <td>SMS</td>\n",
       "      <td>7</td>\n",
       "      <td>220</td>\n",
       "    </tr>\n",
       "    <tr>\n",
       "      <th>7</th>\n",
       "      <td>1</td>\n",
       "      <td>2020-07-30 04:13:24.074</td>\n",
       "      <td>CYCLE 1</td>\n",
       "      <td>AHP</td>\n",
       "      <td>1559695</td>\n",
       "      <td>NaN</td>\n",
       "      <td>SM30135UN0160;WHITE;600;46\" OD</td>\n",
       "      <td>UNTREATED</td>\n",
       "      <td>5400.0</td>\n",
       "      <td>3.054299</td>\n",
       "      <td>...</td>\n",
       "      <td>NaN</td>\n",
       "      <td>NaN</td>\n",
       "      <td>NaN</td>\n",
       "      <td>NaN</td>\n",
       "      <td>NaN</td>\n",
       "      <td>0.15</td>\n",
       "      <td>14451.705882</td>\n",
       "      <td>SMS</td>\n",
       "      <td>8</td>\n",
       "      <td>160</td>\n",
       "    </tr>\n",
       "    <tr>\n",
       "      <th>8</th>\n",
       "      <td>1</td>\n",
       "      <td>2020-07-30 07:16:39.549</td>\n",
       "      <td>CYCLE 1</td>\n",
       "      <td>AHP</td>\n",
       "      <td>1559618</td>\n",
       "      <td>NaN</td>\n",
       "      <td>SM30135UN0195;WHITE;600;46\" OD</td>\n",
       "      <td>UNTREATED</td>\n",
       "      <td>8100.0</td>\n",
       "      <td>4.581448</td>\n",
       "      <td>...</td>\n",
       "      <td>NaN</td>\n",
       "      <td>NaN</td>\n",
       "      <td>NaN</td>\n",
       "      <td>NaN</td>\n",
       "      <td>NaN</td>\n",
       "      <td>0.15</td>\n",
       "      <td>14451.705882</td>\n",
       "      <td>SMS</td>\n",
       "      <td>9</td>\n",
       "      <td>195</td>\n",
       "    </tr>\n",
       "    <tr>\n",
       "      <th>9</th>\n",
       "      <td>1</td>\n",
       "      <td>2020-07-30 11:51:32.762</td>\n",
       "      <td>CYCLE 1</td>\n",
       "      <td>AHP</td>\n",
       "      <td>1715784</td>\n",
       "      <td>NaN</td>\n",
       "      <td>SM30135UN0205;WHITE;600;46\" OD</td>\n",
       "      <td>UNTREATED</td>\n",
       "      <td>8100.0</td>\n",
       "      <td>4.581448</td>\n",
       "      <td>...</td>\n",
       "      <td>NaN</td>\n",
       "      <td>NaN</td>\n",
       "      <td>NaN</td>\n",
       "      <td>NaN</td>\n",
       "      <td>NaN</td>\n",
       "      <td>0.15</td>\n",
       "      <td>14451.705882</td>\n",
       "      <td>SMS</td>\n",
       "      <td>10</td>\n",
       "      <td>205</td>\n",
       "    </tr>\n",
       "  </tbody>\n",
       "</table>\n",
       "<p>10 rows × 35 columns</p>\n",
       "</div>"
      ],
      "text/plain": [
       "   Block SPM375014                               PROD. DATE CYCLE / BUCKET  \\\n",
       "0      1                            2020-07-29 04:38:41.042        CYCLE 1   \n",
       "1      1                            2020-07-29 05:46:33.441        CYCLE 1   \n",
       "2      1                            2020-07-29 10:01:04.934        CYCLE 1   \n",
       "3      1                            2020-07-29 11:42:53.531        CYCLE 1   \n",
       "4      1                            2020-07-29 19:38:00.318        CYCLE 1   \n",
       "5      1                            2020-07-29 22:18:21.359        CYCLE 1   \n",
       "6      1                            2020-07-30 02:30:20.137        CYCLE 1   \n",
       "7      1                            2020-07-30 04:13:24.074        CYCLE 1   \n",
       "8      1                            2020-07-30 07:16:39.549        CYCLE 1   \n",
       "9      1                            2020-07-30 11:51:32.762        CYCLE 1   \n",
       "\n",
       "  Customer Name  Item No  WO#                      Description  Treatment  \\\n",
       "0           AHP  1559695  NaN  SM30135UN0160;WHITE;600;46\" OD   UNTREATED   \n",
       "1           AHP  1559618  NaN  SM30135UN0195;WHITE;600;46\" OD   UNTREATED   \n",
       "2           AHP  1715784  NaN  SM30135UN0205;WHITE;600;46\" OD   UNTREATED   \n",
       "3           AHP  1716031  NaN   SM30135UN0220;WHITE;600;46\" OD  UNTREATED   \n",
       "4           AHP  1559618  NaN  SM30135UN0195;WHITE;600;46\" OD   UNTREATED   \n",
       "5           AHP  1715784  NaN  SM30135UN0205;WHITE;600;46\" OD   UNTREATED   \n",
       "6           AHP  1716031  NaN   SM30135UN0220;WHITE;600;46\" OD  UNTREATED   \n",
       "7           AHP  1559695  NaN  SM30135UN0160;WHITE;600;46\" OD   UNTREATED   \n",
       "8           AHP  1559618  NaN  SM30135UN0195;WHITE;600;46\" OD   UNTREATED   \n",
       "9           AHP  1715784  NaN  SM30135UN0205;WHITE;600;46\" OD   UNTREATED   \n",
       "\n",
       "        KG  Hours To Produce  ... Unnamed: 24 Unnamed: 25  Unnamed: 26  \\\n",
       "0   2000.0          1.131222  ...         NaN         NaN          NaN   \n",
       "1   7500.0          4.242081  ...         NaN         NaN          NaN   \n",
       "2   3000.0          1.696833  ...         NaN         NaN          NaN   \n",
       "3  14000.0          7.918552  ...         NaN         NaN          NaN   \n",
       "4   4725.0          2.672511  ...         NaN         NaN          NaN   \n",
       "5   7425.0          4.199661  ...         NaN         NaN          NaN   \n",
       "6   3037.0          1.717760  ...         NaN         NaN          NaN   \n",
       "7   5400.0          3.054299  ...         NaN         NaN          NaN   \n",
       "8   8100.0          4.581448  ...         NaN         NaN          NaN   \n",
       "9   8100.0          4.581448  ...         NaN         NaN          NaN   \n",
       "\n",
       "  Unnamed: 27 Unnamed: 28 % reclaim  Amount Repro needed  Type of Repro  \\\n",
       "0         NaN         NaN      0.15         14451.705882            SMS   \n",
       "1         NaN         NaN      0.15         14451.705882            SMS   \n",
       "2         NaN         NaN      0.15         14451.705882            SMS   \n",
       "3         NaN         NaN      0.15         14451.705882            SMS   \n",
       "4         NaN         NaN      0.15         14451.705882            SMS   \n",
       "5         NaN         NaN      0.15         14451.705882            SMS   \n",
       "6         NaN         NaN      0.15         14451.705882            SMS   \n",
       "7         NaN         NaN      0.15         14451.705882            SMS   \n",
       "8         NaN         NaN      0.15         14451.705882            SMS   \n",
       "9         NaN         NaN      0.15         14451.705882            SMS   \n",
       "\n",
       "  Order Number Width  \n",
       "0            1   160  \n",
       "1            2   195  \n",
       "2            3   205  \n",
       "3            4   220  \n",
       "4            5   195  \n",
       "5            6   205  \n",
       "6            7   220  \n",
       "7            8   160  \n",
       "8            9   195  \n",
       "9           10   205  \n",
       "\n",
       "[10 rows x 35 columns]"
      ]
     },
     "execution_count": 3,
     "metadata": {},
     "output_type": "execute_result"
    }
   ],
   "source": [
    "customer = 'AHP'\n",
    "technology = 'SM' # Technology -> \n",
    "color = 'WHITE'\n",
    "cycle = 'CYCLE 1'\n",
    "\n",
    "df_filtered = df.loc[df['Customer Name'] == customer]\n",
    "df_filtered = df_filtered.loc[df_filtered['Description'].str.contains(technology)]\n",
    "df_filtered = df_filtered.loc[df_filtered['Description'].str.contains(color)] #CYAN, TEAL\n",
    "df_filtered = df_filtered.loc[df_filtered['CYCLE / BUCKET'] == cycle]\n",
    "df_filtered = df_filtered.loc[df_filtered['Total LM Order QTY'] > 0]\n",
    "df_filtered.insert(0, 'Block', 1)\n",
    "df_filtered = df_filtered.reset_index(drop=True)\n",
    "df_filtered['Order Number'] = df_filtered.index + 1\n",
    "\n",
    "df_filtered['Width'] = pd.DataFrame(list(pd.DataFrame(list(df_filtered['Description']\n",
    "                                                  .str.split(';')))[0].str.split('UN0')))[1]\n",
    "df_filtered.head(10)"
   ]
  },
  {
   "cell_type": "code",
   "execution_count": 4,
   "metadata": {},
   "outputs": [
    {
     "name": "stdout",
     "output_type": "stream",
     "text": [
      "The important variables\n",
      "\n",
      "widths: [160, 195, 205, 220, 235] (mm)\n",
      "neck in: [4, 5, 5, 7, 7] (mm)\n",
      "L (m): 102000\n",
      "undeckled jumbos needed: [54, 344, 196, 212, 17]\n"
     ]
    }
   ],
   "source": [
    "lm = list(df_filtered.groupby('Description')['Total LM Order QTY'].sum().values)\n",
    "widths = list(df_filtered.groupby('Width')['Total LM Order QTY'].sum().index.values.astype(int))\n",
    "doffs_in_jumbo = 6\n",
    "B = 4160\n",
    "L = doff_length = 17000 * doffs_in_jumbo # df['LM putup']\n",
    "\n",
    "# neckin = [4, 4, 5, 7, 7, 7] # 158 missing in cycle 1, 4 mm knife in\n",
    "neckins = []\n",
    "for width in widths:\n",
    "    if width < 170:\n",
    "        neckin = 4\n",
    "    elif width < 208:\n",
    "        neckin = 5\n",
    "    else:\n",
    "        neckin = 7\n",
    "    neckins.append(neckin)\n",
    "w = list(np.array(widths) + np.array(neckins)) # the values used in the actual computation\n",
    "q = [math.ceil(x/L) for x in lm] # jumbos needed per width, rounded up\n",
    "s = BinPackingExample(w, q) # material orders (list of widths, 1 width = 1 jumbo)\n",
    "\n",
    "print('The important variables', end='\\n\\n')\n",
    "print('widths: {} (mm)'.format(widths))\n",
    "print('neck in: {} (mm)'.format(neckins))\n",
    "print('L (m): {}'.format(L))\n",
    "print('undeckled jumbos needed: {}'.format(q))"
   ]
  },
  {
   "cell_type": "code",
   "execution_count": 5,
   "metadata": {},
   "outputs": [],
   "source": [
    "def init_layouts(B, w):\n",
    "    t = []\n",
    "    m = len(w)\n",
    "    for i in range(m):\n",
    "        pat = [0]*m\n",
    "        pat[i] = -int(B/w[i])\n",
    "        t.append(pat)\n",
    "    return t"
   ]
  },
  {
   "cell_type": "code",
   "execution_count": 6,
   "metadata": {},
   "outputs": [
    {
     "data": {
      "text/plain": [
       "[[-25, 0, 0, 0, 0],\n",
       " [0, -20, 0, 0, 0],\n",
       " [0, 0, -19, 0, 0],\n",
       " [0, 0, 0, -18, 0],\n",
       " [0, 0, 0, 0, -17]]"
      ]
     },
     "execution_count": 6,
     "metadata": {},
     "output_type": "execute_result"
    }
   ],
   "source": [
    "init_layouts(B, w)"
   ]
  },
  {
   "cell_type": "code",
   "execution_count": 7,
   "metadata": {},
   "outputs": [],
   "source": [
    "from scipy.optimize import linprog"
   ]
  },
  {
   "cell_type": "code",
   "execution_count": 8,
   "metadata": {},
   "outputs": [
    {
     "name": "stdout",
     "output_type": "stream",
     "text": [
      "[-54, -344, -196, -212, -17]\n"
     ]
    },
    {
     "data": {
      "text/plain": [
       "[[-25, 0, 0, 0, 0],\n",
       " [0, -20, 0, 0, 0],\n",
       " [0, 0, -19, 0, 0],\n",
       " [0, 0, 0, -18, 0],\n",
       " [0, 0, 0, 0, -17]]"
      ]
     },
     "execution_count": 8,
     "metadata": {},
     "output_type": "execute_result"
    }
   ],
   "source": [
    "obj = [1,1,1,1,1]\n",
    "lhs_ineq = init_layouts(B, w)\n",
    "rhs_ineq = [-i for i in q]\n",
    "print(rhs_ineq)\n",
    "lhs_ineq"
   ]
  },
  {
   "cell_type": "code",
   "execution_count": 9,
   "metadata": {},
   "outputs": [
    {
     "data": {
      "text/plain": [
       "     con: array([], dtype=float64)\n",
       "     fun: 42.45356725146199\n",
       " message: 'The solution was determined in presolve as there are no non-trivial constraints.'\n",
       "     nit: 0\n",
       "   slack: array([0., 0., 0., 0., 0.])\n",
       "  status: 0\n",
       " success: True\n",
       "       x: array([ 2.16      , 17.2       , 10.31578947, 11.77777778,  1.        ])"
      ]
     },
     "execution_count": 9,
     "metadata": {},
     "output_type": "execute_result"
    }
   ],
   "source": [
    "linprog(c=obj, \n",
    "        A_ub=lhs_ineq,\n",
    "        b_ub=rhs_ineq, \n",
    "        method=\"revised simplex\")"
   ]
  },
  {
   "cell_type": "code",
   "execution_count": 10,
   "metadata": {},
   "outputs": [],
   "source": [
    "s = BinPackingExample(w, q)"
   ]
  },
  {
   "cell_type": "markdown",
   "metadata": {},
   "source": [
    "# Linear Programming\n",
    "\n",
    "![](https://files.realpython.com/media/lp-py-eq-3.65b2e6d529bc.png)"
   ]
  },
  {
   "cell_type": "code",
   "execution_count": 11,
   "metadata": {},
   "outputs": [],
   "source": [
    "from scipy.optimize import linprog"
   ]
  },
  {
   "cell_type": "code",
   "execution_count": 12,
   "metadata": {},
   "outputs": [],
   "source": [
    "obj = [-1, -2]\n",
    "lhs_ineq = [[2, 1],\n",
    "            [-4, 5],\n",
    "            [1, -2]]\n",
    "\n",
    "rhs_ineq = [20, \n",
    "            10, \n",
    "            2]\n",
    "\n",
    "lhs_eq = [[-1, 5]]\n",
    "\n",
    "rhs_eq = [15]\n",
    "\n",
    "bnd = [(0, float(\"inf\")), #bounds of x\n",
    "       (0, float(\"inf\"))] # bounds of y"
   ]
  },
  {
   "cell_type": "code",
   "execution_count": 13,
   "metadata": {},
   "outputs": [
    {
     "data": {
      "text/plain": [
       "     con: array([0.])\n",
       "     fun: -16.818181818181817\n",
       " message: 'Optimization terminated successfully.'\n",
       "     nit: 3\n",
       "   slack: array([ 0.        , 18.18181818,  3.36363636])\n",
       "  status: 0\n",
       " success: True\n",
       "       x: array([7.72727273, 4.54545455])"
      ]
     },
     "execution_count": 13,
     "metadata": {},
     "output_type": "execute_result"
    }
   ],
   "source": [
    "linprog(c=obj, \n",
    "        A_ub=lhs_ineq,\n",
    "        b_ub=rhs_ineq, \n",
    "        A_eq=lhs_eq,\n",
    "        b_eq=rhs_eq,\n",
    "        bounds=bnd,\n",
    "        method=\"revised simplex\")"
   ]
  },
  {
   "cell_type": "markdown",
   "metadata": {},
   "source": [
    "## Stock Cutting"
   ]
  },
  {
   "cell_type": "markdown",
   "metadata": {},
   "source": [
    "![](https://scipbook.readthedocs.io/en/latest/_images/csp-sol-a.png)"
   ]
  },
  {
   "cell_type": "code",
   "execution_count": 14,
   "metadata": {},
   "outputs": [],
   "source": [
    "s = [6, 6, 5, 5, 5, 4, 4, 4, 4, 2, 2, 2, 2, 3, 3, 7, 7, 5, 5, 8, 8, 4, 4, 5]\n",
    "w = [2,3,4,5,6,7,8]\n",
    "B = 9"
   ]
  },
  {
   "cell_type": "code",
   "execution_count": 15,
   "metadata": {},
   "outputs": [],
   "source": [
    "from collections import Counter"
   ]
  },
  {
   "cell_type": "code",
   "execution_count": 16,
   "metadata": {},
   "outputs": [
    {
     "data": {
      "text/plain": [
       "Counter({6: 2, 5: 6, 4: 6, 2: 4, 3: 2, 7: 2, 8: 2})"
      ]
     },
     "execution_count": 16,
     "metadata": {},
     "output_type": "execute_result"
    }
   ],
   "source": [
    "Counter(s)"
   ]
  },
  {
   "cell_type": "code",
   "execution_count": 17,
   "metadata": {},
   "outputs": [],
   "source": [
    "# our layouts \n",
    "obj = [1,1,1,1,1,1,1]\n",
    "\n",
    "# columns are layouts, rows are products\n",
    "lhs_ineq = [[-4,0,0,0,0,0,0],\n",
    "            [0,-2,0,0,0,0,0],\n",
    "            [0,0,-2,0,0,0,0],\n",
    "            [0,0,0,-1,0,0,0],\n",
    "            [0,0,0,0,-1,0,0],\n",
    "            [0,0,0,0,0,-1,0],\n",
    "            [0,0,0,0,0,0,-1]]\n",
    "\n",
    "rhs_ineq = [-4, \n",
    "            -2, \n",
    "            -6,\n",
    "            -6,\n",
    "            -2,\n",
    "            -2, \n",
    "            -2]\n",
    "\n",
    "bnd = [(0, float(\"inf\")), #bounds of x\n",
    "       (0, float(\"inf\"))] # bounds of y"
   ]
  },
  {
   "cell_type": "code",
   "execution_count": 18,
   "metadata": {},
   "outputs": [
    {
     "data": {
      "text/plain": [
       "     con: array([], dtype=float64)\n",
       "     fun: 17.0\n",
       " message: 'The solution was determined in presolve as there are no non-trivial constraints.'\n",
       "     nit: 0\n",
       "   slack: array([0., 0., 0., 0., 0., 0., 0.])\n",
       "  status: 0\n",
       " success: True\n",
       "       x: array([1., 1., 3., 6., 2., 2., 2.])"
      ]
     },
     "execution_count": 18,
     "metadata": {},
     "output_type": "execute_result"
    }
   ],
   "source": [
    "linprog(c=obj, \n",
    "        A_ub=lhs_ineq,\n",
    "        b_ub=rhs_ineq, \n",
    "        method=\"revised simplex\")"
   ]
  },
  {
   "cell_type": "markdown",
   "metadata": {},
   "source": [
    "## Integer Knapsack Problem"
   ]
  },
  {
   "cell_type": "code",
   "execution_count": 19,
   "metadata": {},
   "outputs": [],
   "source": [
    "# This is the memoization approach of  \n",
    "# 0 / 1 Knapsack in Python in simple  \n",
    "# we can say recursion + memoization = DP \n",
    "def knapsack(wt, val, W, n):     \n",
    "  \n",
    "    # base conditions \n",
    "    if n == 0 or W == 0: \n",
    "        return 0\n",
    "    if t[n][W] != -1: \n",
    "        return t[n][W] \n",
    "  \n",
    "    # choice diagram code \n",
    "    if wt[n-1] <= W: \n",
    "        t[n][W] = max( \n",
    "            val[n-1] + knapsack( \n",
    "            wt, val, W-wt[n-1], n-1),  \n",
    "            knapsack(wt, val, W, n-1)) \n",
    "        return t[n][W] \n",
    "    elif wt[n-1] > W: \n",
    "        t[n][W] = knapsack(wt, val, W, n-1) \n",
    "        return t[n][W] \n",
    "\n",
    "def reconstruct(i, w, kp_soln, weight_of_item):\n",
    "    \"\"\"\n",
    "    Reconstruct subset of items i with weights w. The two inputs\n",
    "    i and w are taken at the point of optimality in the knapsack soln\n",
    "\n",
    "    In this case I just assume that i is some number from a range\n",
    "    0,1,2,...n\n",
    "    \"\"\"\n",
    "    recon = set()\n",
    "    # assuming our kp soln converged, we stopped at the ith item, so\n",
    "    # start here and work our way backwards through all the items in\n",
    "    # the list of kp solns. If an item was deemed optimal by kp, then\n",
    "    # put it in our bag, otherwise skip it.\n",
    "    for j in range(i)[::-1]:\n",
    "        cur_val = kp_soln[j][w]\n",
    "        prev_val = kp_soln[j-1][w]\n",
    "        if cur_val > prev_val:\n",
    "            recon.add(j)\n",
    "            w = w - weight_of_item[j]\n",
    "    return recon\n",
    "\n",
    "def initt(W, n):\n",
    "    # We initialize the matrix with -1 at first. \n",
    "    return [[-1 for i in range(W + 1)] for j in range(n + 1)] "
   ]
  },
  {
   "cell_type": "code",
   "execution_count": 20,
   "metadata": {},
   "outputs": [
    {
     "data": {
      "text/plain": [
       "220"
      ]
     },
     "execution_count": 20,
     "metadata": {},
     "output_type": "execute_result"
    }
   ],
   "source": [
    "# driver code \n",
    "val = [60, 100, 120] \n",
    "wt = [1,1,1] \n",
    "W = 2\n",
    "n = len(val) \n",
    "t = initt(W, n)\n",
    "knapsack(wt, val, W, n)"
   ]
  },
  {
   "cell_type": "code",
   "execution_count": 21,
   "metadata": {},
   "outputs": [
    {
     "name": "stdout",
     "output_type": "stream",
     "text": [
      "3 2\n"
     ]
    },
    {
     "data": {
      "text/plain": [
       "array([100, 120])"
      ]
     },
     "execution_count": 21,
     "metadata": {},
     "output_type": "execute_result"
    }
   ],
   "source": [
    "t = np.array(t)\n",
    "n, w = np.unravel_index(t.argmax(), t.shape) # returns n, W\n",
    "print(n,w)\n",
    "sack = reconstruct(n, w, t, wt)\n",
    "np.array(val)[list(sack)]"
   ]
  },
  {
   "cell_type": "code",
   "execution_count": 22,
   "metadata": {},
   "outputs": [
    {
     "data": {
      "text/plain": [
       "9"
      ]
     },
     "execution_count": 22,
     "metadata": {},
     "output_type": "execute_result"
    }
   ],
   "source": [
    "s = [6, 6, 5, 5, 5, 4, 4, 4, 4, 2, 2, 2, 2, 3, 3, 7, 7, 5, 5, 8, 8, 4, 4, 5]\n",
    "B = 9\n",
    "t = initt(B, len(s))\n",
    "knapsack(s, s, B, len(s))"
   ]
  },
  {
   "cell_type": "code",
   "execution_count": 23,
   "metadata": {},
   "outputs": [
    {
     "name": "stdout",
     "output_type": "stream",
     "text": [
      "6 9\n"
     ]
    }
   ],
   "source": [
    "t = np.array(t)\n",
    "n, w = np.unravel_index(t.argmax(), t.shape) # returns n, W\n",
    "print(n,w)"
   ]
  },
  {
   "cell_type": "code",
   "execution_count": 24,
   "metadata": {},
   "outputs": [
    {
     "name": "stdout",
     "output_type": "stream",
     "text": [
      "{1}\n",
      "{3, 6}\n",
      "{3, 6}\n",
      "{3, 6}\n",
      "{3, 6}\n",
      "{3, 6}\n",
      "{3, 6}\n",
      "{3, 6}\n",
      "{3, 6}\n",
      "{3, 6}\n",
      "{3, 6}\n",
      "{3, 6}\n",
      "{3, 6}\n",
      "{3, 6}\n",
      "{3, 6}\n",
      "{3, 6}\n",
      "{3, 6}\n",
      "{3, 6}\n",
      "{3, 6}\n"
     ]
    }
   ],
   "source": [
    "for pair in np.argwhere(t == t.max()):\n",
    "    n, w = pair\n",
    "    sack = reconstruct(n, w, t, s)\n",
    "    print(sack)"
   ]
  },
  {
   "cell_type": "code",
   "execution_count": 25,
   "metadata": {},
   "outputs": [
    {
     "data": {
      "text/plain": [
       "{3, 6}"
      ]
     },
     "execution_count": 25,
     "metadata": {},
     "output_type": "execute_result"
    }
   ],
   "source": [
    "sack = reconstruct(7, w, t, s)\n",
    "sack"
   ]
  },
  {
   "cell_type": "code",
   "execution_count": 26,
   "metadata": {},
   "outputs": [
    {
     "data": {
      "text/plain": [
       "array([5, 4])"
      ]
     },
     "execution_count": 26,
     "metadata": {},
     "output_type": "execute_result"
    }
   ],
   "source": [
    "np.array(s)[list(sack)]"
   ]
  },
  {
   "cell_type": "code",
   "execution_count": 27,
   "metadata": {},
   "outputs": [
    {
     "data": {
      "text/plain": [
       "4160"
      ]
     },
     "execution_count": 27,
     "metadata": {},
     "output_type": "execute_result"
    }
   ],
   "source": [
    "B = 4160\n",
    "w = list(np.array(widths) + np.array(neckins)) # the values used in the actual computation\n",
    "q = [math.ceil(x/L) for x in lm] # jumbos needed per width, rounded up\n",
    "s = BinPackingExample(w, q) # material orders (list of widths, 1 width = 1 jumbo)\n",
    "t = [[-1 for i in range(B + 1)] for j in range(len(s) + 1)] \n",
    "\n",
    "knapsack(s, s, B, len(s))"
   ]
  },
  {
   "cell_type": "code",
   "execution_count": 28,
   "metadata": {},
   "outputs": [],
   "source": [
    "t = np.array(t)"
   ]
  },
  {
   "cell_type": "code",
   "execution_count": 29,
   "metadata": {},
   "outputs": [
    {
     "name": "stdout",
     "output_type": "stream",
     "text": [
      "410 4160\n"
     ]
    }
   ],
   "source": [
    "n, w = np.unravel_index(t.argmax(), t.shape) # returns n, W\n",
    "print(n,w)"
   ]
  },
  {
   "cell_type": "code",
   "execution_count": 30,
   "metadata": {},
   "outputs": [],
   "source": [
    "sack = reconstruct(n, w, t, s)"
   ]
  },
  {
   "cell_type": "code",
   "execution_count": 31,
   "metadata": {},
   "outputs": [
    {
     "data": {
      "text/plain": [
       "Counter({164: 7, 210: 1, 200: 14})"
      ]
     },
     "execution_count": 31,
     "metadata": {},
     "output_type": "execute_result"
    }
   ],
   "source": [
    "Counter(np.array(s)[list(sack)])"
   ]
  },
  {
   "cell_type": "code",
   "execution_count": 32,
   "metadata": {},
   "outputs": [
    {
     "data": {
      "text/plain": [
       "4158"
      ]
     },
     "execution_count": 32,
     "metadata": {},
     "output_type": "execute_result"
    }
   ],
   "source": [
    "np.array(s)[list(sack)].sum()"
   ]
  },
  {
   "cell_type": "code",
   "execution_count": 36,
   "metadata": {},
   "outputs": [
    {
     "name": "stdout",
     "output_type": "stream",
     "text": [
      "410 4160\n",
      "Counter({200: 14, 164: 7, 210: 1})\n",
      "4158\n",
      "\n",
      "411 4160\n",
      "Counter({210: 12, 164: 10})\n",
      "4160\n",
      "\n",
      "399 4160\n",
      "Counter({164: 18, 200: 6})\n",
      "4152\n",
      "\n",
      "400 4160\n",
      "Counter({200: 14, 164: 7, 210: 1})\n",
      "4158\n",
      "\n",
      "60 4160\n",
      "Counter({164: 24, 200: 1})\n",
      "4136\n",
      "\n",
      "61 4160\n",
      "Counter({164: 18, 200: 6})\n",
      "4152\n",
      "\n",
      "55 4160\n",
      "Counter({164: 25})\n",
      "4100\n",
      "\n",
      "56 4160\n",
      "Counter({164: 24, 200: 1})\n",
      "4136\n",
      "\n",
      "25 4160\n",
      "Counter({164: 24})\n",
      "3936\n",
      "\n",
      "26 4160\n",
      "Counter({164: 25})\n",
      "4100\n",
      "\n"
     ]
    }
   ],
   "source": [
    "for bit in range(0,32*2,2):\n",
    "    found = 0\n",
    "    for pair in np.argwhere(t == t.max()-bit):\n",
    "        n, w = pair\n",
    "        sack = reconstruct(n, w, t, s)\n",
    "        print(n,w)\n",
    "        print(Counter(np.array(s)[list(sack)]))\n",
    "        print(np.array(s)[list(sack)].sum(), end='\\n\\n')\n",
    "        found += 1\n",
    "        if found > 1:\n",
    "            break"
   ]
  },
  {
   "cell_type": "code",
   "execution_count": 35,
   "metadata": {},
   "outputs": [
    {
     "data": {
      "text/plain": [
       "4160"
      ]
     },
     "execution_count": 35,
     "metadata": {},
     "output_type": "execute_result"
    }
   ],
   "source": [
    "210*12+164*10"
   ]
  },
  {
   "cell_type": "markdown",
   "metadata": {},
   "source": [
    "# Knapsack with Cutting Stock"
   ]
  }
 ],
 "metadata": {
  "kernelspec": {
   "display_name": "Python 3",
   "language": "python",
   "name": "python3"
  },
  "language_info": {
   "codemirror_mode": {
    "name": "ipython",
    "version": 3
   },
   "file_extension": ".py",
   "mimetype": "text/x-python",
   "name": "python",
   "nbconvert_exporter": "python",
   "pygments_lexer": "ipython3",
   "version": "3.7.4"
  }
 },
 "nbformat": 4,
 "nbformat_minor": 4
}

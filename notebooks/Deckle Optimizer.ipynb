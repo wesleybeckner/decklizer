{
 "cells": [
  {
   "cell_type": "markdown",
   "metadata": {},
   "source": [
    "**jumbo rolls are folded in**\n",
    "\n",
    "**changeover between jumbos are folded in**\n",
    "\n",
    "**Minimize knife changes folded in**\n",
    "\n",
    "need to ..\n",
    "\n",
    "* show when an order in the future has been fullfilled.\n",
    "\n",
    "* look forward in schedule to optimize new/better layouts\n",
    "\n",
    "* make layout table editable\n",
    "\n",
    "* speed test algorithm\n",
    "\n",
    "* LM get rid of decimals\n",
    "\n",
    "check work orders to full jumbo\n",
    "\n",
    "other \n",
    "\n",
    "* student help"
   ]
  },
  {
   "cell_type": "markdown",
   "metadata": {},
   "source": [
    "# Simple Genetic Algorithm to Optimize Deckle Loss"
   ]
  },
  {
   "cell_type": "code",
   "execution_count": 1,
   "metadata": {},
   "outputs": [],
   "source": [
    "import sys\n",
    "sys.path.append(\"../\")"
   ]
  },
  {
   "cell_type": "code",
   "execution_count": 2,
   "metadata": {
    "scrolled": true
   },
   "outputs": [],
   "source": [
    "import numpy as np\n",
    "import pandas as pd\n",
    "import plotly.graph_objects as go\n",
    "import plotly.express as px\n",
    "import math\n",
    "from random import shuffle, choice\n",
    "import copy\n",
    "from utils import *\n",
    "from genetic import *\n",
    "from IPython.display import clear_output\n",
    "import time\n",
    "import datetime\n",
    "import re"
   ]
  },
  {
   "cell_type": "code",
   "execution_count": 3,
   "metadata": {},
   "outputs": [],
   "source": [
    "df = pd.read_excel('../data/200721_ New Way SCH W3-W6 W14 07.20.20.xlsx',\n",
    "                   sheet_name='Schedule')\n",
    "\n",
    "# the input schedule appears as a data table on the dashboard\n",
    "# this is used to select what to deckle\n",
    "df_input_schedule = pd.read_excel('../data/200721_ New Way SCH W3-W6 W14 07.20.20.xlsx',\n",
    "                   sheet_name='Schedule')\n",
    "df_input_schedule.insert(1, 'Technology', df_input_schedule['Description'].apply(lambda x: parse_description(x, 'tech')))\n",
    "df_input_schedule.insert(2, 'Color', df_input_schedule['Description'].apply(lambda x: x.split(';')[1] if type(x) == str else None))\n",
    "df_input_schedule.insert(3, 'Width', df_input_schedule['Description'].apply(lambda x: parse_description(x, 'width')))\n",
    "df_input_schedule = df_input_schedule[[col for col in df_input_schedule.columns if 'Unnamed' not in str(col)]]\n",
    "temp = df_input_schedule[['Customer Name', 'Technology', 'Color', 'Width', 'CYCLE / BUCKET',\n",
    "                          'Description', 'Total LM Order QTY',\n",
    "                          'Scheduled Ship Date', 'Date order is complete']]"
   ]
  },
  {
   "cell_type": "code",
   "execution_count": 4,
   "metadata": {},
   "outputs": [],
   "source": [
    "# temp = temp[temp['Scheduled Ship Date'].apply(lambda x: type(x) == int)]                          \n",
    "temp_json = temp.to_json()"
   ]
  },
  {
   "cell_type": "code",
   "execution_count": 5,
   "metadata": {},
   "outputs": [],
   "source": [
    "temp2 = pd.read_json(temp_json, \n",
    "                     convert_dates=['Scheduled Ship Date', 'Date order is complete'])\n",
    "\n",
    "## to_datetime and to_json use default units ms and ns, respectively\n",
    "temp2['Scheduled Ship Date'] = pd.to_datetime(temp2['Scheduled Ship Date'], \n",
    "                                              errors='ignore', unit='ms')"
   ]
  },
  {
   "cell_type": "code",
   "execution_count": 6,
   "metadata": {},
   "outputs": [],
   "source": [
    "### not currently used, grabs indicated information\n",
    "customer_names = [i for i in df['Customer Name'].unique() if type(i) == str]\n",
    "technologies = list(set([parse_description(i, 'tech') for i in df['Description'] \n",
    "                         if (type(i) == str)]))\n",
    "technologies = [i for i in technologies if i]\n",
    "colors = list(set([i[1] for i in list(df['Description']\n",
    "                .str.split(';')) if type(i) == list]))\n",
    "cycles = list(df['CYCLE / BUCKET'].unique())"
   ]
  },
  {
   "cell_type": "code",
   "execution_count": 7,
   "metadata": {},
   "outputs": [],
   "source": [
    "customer = 'P & G'\n",
    "technology = 'SAM' # Technology -> \n",
    "color = 'WHITE'\n",
    "cycle = 'CYCLE 2'\n",
    "\n",
    "df_filtered = df.loc[df['Customer Name'] == customer]\n",
    "df_filtered = df_filtered.loc[df_filtered['Description'].str.contains(technology)]\n",
    "df_filtered = df_filtered.loc[df_filtered['Description'].str.contains(color)] #CYAN, TEAL\n",
    "df_filtered = df_filtered.loc[df_filtered['CYCLE / BUCKET'] == cycle]\n",
    "df_filtered.insert(0, 'Block', 1)\n",
    "df_filtered = df_filtered.reset_index(drop=True)\n",
    "df_filtered['Order Number'] = df_filtered.index + 1\n",
    "\n",
    "df_filtered['Width'] = pd.DataFrame(list(pd.DataFrame(list(df_filtered['Description']\n",
    "                                                  .str.split(';')))[0].str.split('UN0')))[1]"
   ]
  },
  {
   "cell_type": "code",
   "execution_count": 8,
   "metadata": {},
   "outputs": [],
   "source": [
    "### Detects if there is a break in the rolls coming of the\n",
    "### line\n",
    "\n",
    "prev_index = df_filtered.index[0] - 1\n",
    "block = 1\n",
    "for index in df_filtered.index:\n",
    "    if index != prev_index + 1:\n",
    "        block += 1\n",
    "    df_filtered.loc[index, 'Block'] = block\n",
    "    prev_index = index"
   ]
  },
  {
   "cell_type": "code",
   "execution_count": 9,
   "metadata": {},
   "outputs": [
    {
     "name": "stdout",
     "output_type": "stream",
     "text": [
      "The important variables\n",
      "\n",
      "widths: [154, 158, 170, 208, 218, 234] (mm)\n",
      "neck in: [4, 4, 5, 7, 7, 7] (mm)\n",
      "L (m): 102000\n",
      "undeckled jumbos needed: [96, 32, 318, 95, 158, 461]\n"
     ]
    }
   ],
   "source": [
    "\n",
    "lm = list(df_filtered.groupby('Description')['Total LM Order QTY'].sum().values)\n",
    "widths = list(df_filtered.groupby('Width')['Total LM Order QTY'].sum().index.values.astype(int))\n",
    "doffs_in_jumbo = 6\n",
    "B = 4160\n",
    "L = doff_length = 17000 * doffs_in_jumbo # df['LM putup']\n",
    "\n",
    "neckin = [4, 4, 5, 7, 7, 7] # 158 missing in cycle 1, 4 mm knife in\n",
    "w = list(np.array(widths) + np.array(neckin)) # the values used in the actual computation\n",
    "q = [math.ceil(x/L) for x in lm] # jumbos needed per width, rounded up\n",
    "s = BinPackingExample(w, q) # material orders (list of widths, 1 width = 1 jumbo)\n",
    "\n",
    "print('The important variables', end='\\n\\n')\n",
    "print('widths: {} (mm)'.format(widths))\n",
    "print('neck in: {} (mm)'.format(neckin))\n",
    "print('L (m): {}'.format(L))\n",
    "print('undeckled jumbos needed: {}'.format(q))"
   ]
  },
  {
   "cell_type": "code",
   "execution_count": 10,
   "metadata": {},
   "outputs": [],
   "source": [
    "# customer = 'P & G'\n",
    "# product = 'SAM' # Technology -> \n",
    "# color = 'WHITE'\n",
    "# cycle = 'CYCLE 2'\n",
    "\n",
    "# df = pd.read_excel('../data/berry/200721_ New Way SCH W3-W6 W14 07.20.20.xlsx',\n",
    "#                    sheet_name='Schedule')\n",
    "# df = df.loc[df['Customer Name'] == customer]\n",
    "# df = df.loc[df['Description'].str.contains(product)]\n",
    "# df = df.loc[df['Description'].str.contains(color)] #CYAN, TEAL\n",
    "# df = df.loc[df['CYCLE / BUCKET'] == cycle]\n",
    "# df = df.reset_index(drop=True)\n",
    "# df['Width'] = pd.DataFrame(list(pd.DataFrame(list(df['Description']\n",
    "#                                                   .str.split(';')))[0].str.split('UN0')))[1]\n",
    "# lm = list(df.groupby('Description')['Total LM Order QTY'].sum().values)\n",
    "# widths = list(df.groupby('Width')['Total LM Order QTY'].sum().index.values.astype(int))\n",
    "# doffs_in_jumbo = 6\n",
    "# B = 4160\n",
    "# L = doff_length = 17000 * doffs_in_jumbo # df['LM putup']\n",
    "\n",
    "# neckin = [4, 4, 5, 7, 7, 7] # 158 missing in cycle 1, 4 mm knife in\n",
    "# w = list(np.array(widths) + np.array(neckin))\n",
    "# q = [math.ceil(x/L) for x in lm]\n",
    "# print(\"max doffs needed without stock cutting: {}\".format(q))\n",
    "# s = BinPackingExample(w, q)\n",
    "# df_json = df.to_json()"
   ]
  },
  {
   "cell_type": "markdown",
   "metadata": {},
   "source": [
    "if we gave each order its own entire row we would produce a lot of wasted material\n",
    "\n",
    "# Run Deckle Optimizer"
   ]
  },
  {
   "cell_type": "code",
   "execution_count": 11,
   "metadata": {},
   "outputs": [
    {
     "name": "stdout",
     "output_type": "stream",
     "text": [
      "gene time: 2.1, chromosome time: 1600456426.4, ffd time: 2.1\n",
      "loss: 0.962, best loss: 0.962, steps: 9, gene count: 5, unique doffs: 8, max unique on doff: 4\n",
      "                         Formula Doffs  Loss\n",
      "0  154x2 + 170x7 + 218x2 + 234x9    45     0\n",
      "1                         208x19     4    75\n",
      "2                         218x18     3   110\n",
      "3                         234x17     3    63\n",
      "4                 154x6 + 158x11     1  1430\n",
      "5         158x21 + 170x3 + 208x1     1    18\n",
      "6                 208x18 + 218x1     1    65\n",
      "7                 218x13 + 234x5     1    30\n"
     ]
    }
   ],
   "source": [
    "sol, loss = find_optimum(s, B, widths, neckin, max_unique_products=4, \n",
    "                         loss_target=2, max_doff_layouts=10)"
   ]
  },
  {
   "cell_type": "markdown",
   "metadata": {},
   "source": [
    "# Build Layout for Dashboard View"
   ]
  },
  {
   "cell_type": "code",
   "execution_count": 12,
   "metadata": {},
   "outputs": [
    {
     "data": {
      "text/html": [
       "<div>\n",
       "<style scoped>\n",
       "    .dataframe tbody tr th:only-of-type {\n",
       "        vertical-align: middle;\n",
       "    }\n",
       "\n",
       "    .dataframe tbody tr th {\n",
       "        vertical-align: top;\n",
       "    }\n",
       "\n",
       "    .dataframe thead th {\n",
       "        text-align: right;\n",
       "    }\n",
       "</style>\n",
       "<table border=\"1\" class=\"dataframe\">\n",
       "  <thead>\n",
       "    <tr style=\"text-align: right;\">\n",
       "      <th></th>\n",
       "      <th>0</th>\n",
       "      <th>1</th>\n",
       "      <th>2</th>\n",
       "      <th>3</th>\n",
       "      <th>4</th>\n",
       "      <th>5</th>\n",
       "      <th>6</th>\n",
       "      <th>7</th>\n",
       "      <th>8</th>\n",
       "      <th>9</th>\n",
       "      <th>...</th>\n",
       "      <th>17</th>\n",
       "      <th>18</th>\n",
       "      <th>19</th>\n",
       "      <th>20</th>\n",
       "      <th>21</th>\n",
       "      <th>22</th>\n",
       "      <th>23</th>\n",
       "      <th>24</th>\n",
       "      <th>Doffs</th>\n",
       "      <th>Loss</th>\n",
       "    </tr>\n",
       "    <tr>\n",
       "      <th>Doffs</th>\n",
       "      <th></th>\n",
       "      <th></th>\n",
       "      <th></th>\n",
       "      <th></th>\n",
       "      <th></th>\n",
       "      <th></th>\n",
       "      <th></th>\n",
       "      <th></th>\n",
       "      <th></th>\n",
       "      <th></th>\n",
       "      <th></th>\n",
       "      <th></th>\n",
       "      <th></th>\n",
       "      <th></th>\n",
       "      <th></th>\n",
       "      <th></th>\n",
       "      <th></th>\n",
       "      <th></th>\n",
       "      <th></th>\n",
       "      <th></th>\n",
       "      <th></th>\n",
       "    </tr>\n",
       "  </thead>\n",
       "  <tbody>\n",
       "    <tr>\n",
       "      <th>1</th>\n",
       "      <td>158.0</td>\n",
       "      <td>158.0</td>\n",
       "      <td>158.0</td>\n",
       "      <td>158.0</td>\n",
       "      <td>158.0</td>\n",
       "      <td>158.0</td>\n",
       "      <td>158.0</td>\n",
       "      <td>158.0</td>\n",
       "      <td>158.0</td>\n",
       "      <td>158.0</td>\n",
       "      <td>...</td>\n",
       "      <td>NaN</td>\n",
       "      <td>NaN</td>\n",
       "      <td>NaN</td>\n",
       "      <td>NaN</td>\n",
       "      <td>NaN</td>\n",
       "      <td>NaN</td>\n",
       "      <td>NaN</td>\n",
       "      <td>NaN</td>\n",
       "      <td>1</td>\n",
       "      <td>1430.0</td>\n",
       "    </tr>\n",
       "    <tr>\n",
       "      <th>45</th>\n",
       "      <td>170.0</td>\n",
       "      <td>234.0</td>\n",
       "      <td>218.0</td>\n",
       "      <td>234.0</td>\n",
       "      <td>170.0</td>\n",
       "      <td>170.0</td>\n",
       "      <td>234.0</td>\n",
       "      <td>170.0</td>\n",
       "      <td>154.0</td>\n",
       "      <td>218.0</td>\n",
       "      <td>...</td>\n",
       "      <td>234.0</td>\n",
       "      <td>234.0</td>\n",
       "      <td>154.0</td>\n",
       "      <td>NaN</td>\n",
       "      <td>NaN</td>\n",
       "      <td>NaN</td>\n",
       "      <td>NaN</td>\n",
       "      <td>NaN</td>\n",
       "      <td>45</td>\n",
       "      <td>0.0</td>\n",
       "    </tr>\n",
       "    <tr>\n",
       "      <th>1</th>\n",
       "      <td>208.0</td>\n",
       "      <td>170.0</td>\n",
       "      <td>170.0</td>\n",
       "      <td>170.0</td>\n",
       "      <td>158.0</td>\n",
       "      <td>158.0</td>\n",
       "      <td>158.0</td>\n",
       "      <td>158.0</td>\n",
       "      <td>158.0</td>\n",
       "      <td>158.0</td>\n",
       "      <td>...</td>\n",
       "      <td>158.0</td>\n",
       "      <td>158.0</td>\n",
       "      <td>158.0</td>\n",
       "      <td>158.0</td>\n",
       "      <td>158.0</td>\n",
       "      <td>158.0</td>\n",
       "      <td>158.0</td>\n",
       "      <td>158.0</td>\n",
       "      <td>1</td>\n",
       "      <td>18.0</td>\n",
       "    </tr>\n",
       "    <tr>\n",
       "      <th>4</th>\n",
       "      <td>208.0</td>\n",
       "      <td>208.0</td>\n",
       "      <td>208.0</td>\n",
       "      <td>208.0</td>\n",
       "      <td>208.0</td>\n",
       "      <td>208.0</td>\n",
       "      <td>208.0</td>\n",
       "      <td>208.0</td>\n",
       "      <td>208.0</td>\n",
       "      <td>208.0</td>\n",
       "      <td>...</td>\n",
       "      <td>208.0</td>\n",
       "      <td>208.0</td>\n",
       "      <td>NaN</td>\n",
       "      <td>NaN</td>\n",
       "      <td>NaN</td>\n",
       "      <td>NaN</td>\n",
       "      <td>NaN</td>\n",
       "      <td>NaN</td>\n",
       "      <td>4</td>\n",
       "      <td>75.0</td>\n",
       "    </tr>\n",
       "    <tr>\n",
       "      <th>1</th>\n",
       "      <td>218.0</td>\n",
       "      <td>208.0</td>\n",
       "      <td>208.0</td>\n",
       "      <td>208.0</td>\n",
       "      <td>208.0</td>\n",
       "      <td>208.0</td>\n",
       "      <td>208.0</td>\n",
       "      <td>208.0</td>\n",
       "      <td>208.0</td>\n",
       "      <td>208.0</td>\n",
       "      <td>...</td>\n",
       "      <td>208.0</td>\n",
       "      <td>208.0</td>\n",
       "      <td>NaN</td>\n",
       "      <td>NaN</td>\n",
       "      <td>NaN</td>\n",
       "      <td>NaN</td>\n",
       "      <td>NaN</td>\n",
       "      <td>NaN</td>\n",
       "      <td>1</td>\n",
       "      <td>65.0</td>\n",
       "    </tr>\n",
       "    <tr>\n",
       "      <th>3</th>\n",
       "      <td>218.0</td>\n",
       "      <td>218.0</td>\n",
       "      <td>218.0</td>\n",
       "      <td>218.0</td>\n",
       "      <td>218.0</td>\n",
       "      <td>218.0</td>\n",
       "      <td>218.0</td>\n",
       "      <td>218.0</td>\n",
       "      <td>218.0</td>\n",
       "      <td>218.0</td>\n",
       "      <td>...</td>\n",
       "      <td>218.0</td>\n",
       "      <td>NaN</td>\n",
       "      <td>NaN</td>\n",
       "      <td>NaN</td>\n",
       "      <td>NaN</td>\n",
       "      <td>NaN</td>\n",
       "      <td>NaN</td>\n",
       "      <td>NaN</td>\n",
       "      <td>3</td>\n",
       "      <td>110.0</td>\n",
       "    </tr>\n",
       "    <tr>\n",
       "      <th>1</th>\n",
       "      <td>234.0</td>\n",
       "      <td>234.0</td>\n",
       "      <td>234.0</td>\n",
       "      <td>234.0</td>\n",
       "      <td>234.0</td>\n",
       "      <td>218.0</td>\n",
       "      <td>218.0</td>\n",
       "      <td>218.0</td>\n",
       "      <td>218.0</td>\n",
       "      <td>218.0</td>\n",
       "      <td>...</td>\n",
       "      <td>218.0</td>\n",
       "      <td>NaN</td>\n",
       "      <td>NaN</td>\n",
       "      <td>NaN</td>\n",
       "      <td>NaN</td>\n",
       "      <td>NaN</td>\n",
       "      <td>NaN</td>\n",
       "      <td>NaN</td>\n",
       "      <td>1</td>\n",
       "      <td>30.0</td>\n",
       "    </tr>\n",
       "    <tr>\n",
       "      <th>3</th>\n",
       "      <td>234.0</td>\n",
       "      <td>234.0</td>\n",
       "      <td>234.0</td>\n",
       "      <td>234.0</td>\n",
       "      <td>234.0</td>\n",
       "      <td>234.0</td>\n",
       "      <td>234.0</td>\n",
       "      <td>234.0</td>\n",
       "      <td>234.0</td>\n",
       "      <td>234.0</td>\n",
       "      <td>...</td>\n",
       "      <td>NaN</td>\n",
       "      <td>NaN</td>\n",
       "      <td>NaN</td>\n",
       "      <td>NaN</td>\n",
       "      <td>NaN</td>\n",
       "      <td>NaN</td>\n",
       "      <td>NaN</td>\n",
       "      <td>NaN</td>\n",
       "      <td>3</td>\n",
       "      <td>63.0</td>\n",
       "    </tr>\n",
       "  </tbody>\n",
       "</table>\n",
       "<p>8 rows × 27 columns</p>\n",
       "</div>"
      ],
      "text/plain": [
       "           0      1      2      3      4      5      6      7      8      9  \\\n",
       "Doffs                                                                         \n",
       "1      158.0  158.0  158.0  158.0  158.0  158.0  158.0  158.0  158.0  158.0   \n",
       "45     170.0  234.0  218.0  234.0  170.0  170.0  234.0  170.0  154.0  218.0   \n",
       "1      208.0  170.0  170.0  170.0  158.0  158.0  158.0  158.0  158.0  158.0   \n",
       "4      208.0  208.0  208.0  208.0  208.0  208.0  208.0  208.0  208.0  208.0   \n",
       "1      218.0  208.0  208.0  208.0  208.0  208.0  208.0  208.0  208.0  208.0   \n",
       "3      218.0  218.0  218.0  218.0  218.0  218.0  218.0  218.0  218.0  218.0   \n",
       "1      234.0  234.0  234.0  234.0  234.0  218.0  218.0  218.0  218.0  218.0   \n",
       "3      234.0  234.0  234.0  234.0  234.0  234.0  234.0  234.0  234.0  234.0   \n",
       "\n",
       "       ...     17     18     19     20     21     22     23     24  Doffs  \\\n",
       "Doffs  ...                                                                  \n",
       "1      ...    NaN    NaN    NaN    NaN    NaN    NaN    NaN    NaN      1   \n",
       "45     ...  234.0  234.0  154.0    NaN    NaN    NaN    NaN    NaN     45   \n",
       "1      ...  158.0  158.0  158.0  158.0  158.0  158.0  158.0  158.0      1   \n",
       "4      ...  208.0  208.0    NaN    NaN    NaN    NaN    NaN    NaN      4   \n",
       "1      ...  208.0  208.0    NaN    NaN    NaN    NaN    NaN    NaN      1   \n",
       "3      ...  218.0    NaN    NaN    NaN    NaN    NaN    NaN    NaN      3   \n",
       "1      ...  218.0    NaN    NaN    NaN    NaN    NaN    NaN    NaN      1   \n",
       "3      ...    NaN    NaN    NaN    NaN    NaN    NaN    NaN    NaN      3   \n",
       "\n",
       "         Loss  \n",
       "Doffs          \n",
       "1      1430.0  \n",
       "45        0.0  \n",
       "1        18.0  \n",
       "4        75.0  \n",
       "1        65.0  \n",
       "3       110.0  \n",
       "1        30.0  \n",
       "3        63.0  \n",
       "\n",
       "[8 rows x 27 columns]"
      ]
     },
     "execution_count": 12,
     "metadata": {},
     "output_type": "execute_result"
    }
   ],
   "source": [
    "layout_summary(sol, widths, neckin, B)"
   ]
  },
  {
   "cell_type": "markdown",
   "metadata": {},
   "source": [
    "# Run Master Schedule, Optimizing Either for On-Time Orders or Fastest Schedule"
   ]
  },
  {
   "cell_type": "code",
   "execution_count": 13,
   "metadata": {},
   "outputs": [],
   "source": [
    "setup_df = pd.read_excel('../data/200725_WAVA Deckle Optimization Parameters Rev1.xlsx',\n",
    "                         sheet_name='Deckle Parameters')\n",
    "speed_df = pd.read_excel('../data/200725_WAVA Deckle Optimization Parameters Rev1.xlsx',\n",
    "                         sheet_name='Product Parameters')"
   ]
  },
  {
   "cell_type": "code",
   "execution_count": 14,
   "metadata": {},
   "outputs": [
    {
     "data": {
      "text/plain": [
       "datetime.datetime(2020, 8, 1, 0, 0)"
      ]
     },
     "execution_count": 14,
     "metadata": {},
     "output_type": "execute_result"
    }
   ],
   "source": [
    "start_date = datetime.datetime(2020,8,1)\n",
    "start_date"
   ]
  },
  {
   "cell_type": "code",
   "execution_count": 15,
   "metadata": {},
   "outputs": [
    {
     "name": "stdout",
     "output_type": "stream",
     "text": [
      "gene time: 1.4, chromosome time: 1600456428.9, ffd time: 1.4\n",
      "loss: 0.962, best loss: 0.962, steps: 7, gene count: 5, unique doffs: 10, max unique on doff: 4\n",
      "                          Formula Doffs Loss\n",
      "0           170x9 + 218x5 + 234x6    31   14\n",
      "1                          234x17    16   63\n",
      "2                          208x19     4   75\n",
      "3                          154x26     2   52\n",
      "4                          154x25     1  210\n",
      "5                  154x19 + 158x7     1   24\n",
      "6                          158x25     1  110\n",
      "7                          170x23     1  135\n",
      "8                  170x15 + 208x7     1   30\n",
      "9  170x1 + 208x12 + 218x3 + 234x3     1    7\n"
     ]
    }
   ],
   "source": [
    "sol, loss = find_optimum(s, B, widths, neckin, max_unique_products=4, \n",
    "                         loss_target=2, max_doff_layouts=10)"
   ]
  },
  {
   "cell_type": "code",
   "execution_count": 16,
   "metadata": {},
   "outputs": [
    {
     "name": "stderr",
     "output_type": "stream",
     "text": [
      "../utils.py:490: FutureWarning:\n",
      "\n",
      "Sorting because non-concatenation axis is not aligned. A future version\n",
      "of pandas will change to not sort by default.\n",
      "\n",
      "To accept the future behavior, pass 'sort=False'.\n",
      "\n",
      "To retain the current behavior and silence the warning, pass 'sort=True'.\n",
      "\n",
      "\n"
     ]
    },
    {
     "name": "stdout",
     "output_type": "stream",
     "text": [
      "no valid objective provided\n"
     ]
    },
    {
     "ename": "AttributeError",
     "evalue": "'int' object has no attribute 'iloc'",
     "output_type": "error",
     "traceback": [
      "\u001b[0;31m---------------------------------------------------------------------------\u001b[0m",
      "\u001b[0;31mAttributeError\u001b[0m                            Traceback (most recent call last)",
      "\u001b[0;32m<ipython-input-16-b8feb8295f29>\u001b[0m in \u001b[0;36m<module>\u001b[0;34m\u001b[0m\n\u001b[1;32m      1\u001b[0m master_knife = optimize_schedule(sol, widths, neckin, df_filtered, L, setup_df, \n\u001b[1;32m      2\u001b[0m                            speed_df, doffs_in_jumbo, start_date, 'Knife Changes')\n\u001b[0;32m----> 3\u001b[0;31m \u001b[0mdeckle_time\u001b[0m \u001b[0;34m=\u001b[0m \u001b[0mmaster_knife\u001b[0m\u001b[0;34m.\u001b[0m\u001b[0miloc\u001b[0m\u001b[0;34m[\u001b[0m\u001b[0;34m-\u001b[0m\u001b[0;36m1\u001b[0m\u001b[0;34m]\u001b[0m\u001b[0;34m[\u001b[0m\u001b[0;34m'Completion Date'\u001b[0m\u001b[0;34m]\u001b[0m \u001b[0;34m-\u001b[0m \u001b[0mmaster_knife\u001b[0m\u001b[0;34m.\u001b[0m\u001b[0miloc\u001b[0m\u001b[0;34m[\u001b[0m\u001b[0;36m0\u001b[0m\u001b[0;34m]\u001b[0m\u001b[0;34m[\u001b[0m\u001b[0;34m'Completion Date'\u001b[0m\u001b[0;34m]\u001b[0m\u001b[0;34m\u001b[0m\u001b[0;34m\u001b[0m\u001b[0m\n\u001b[0m\u001b[1;32m      4\u001b[0m \u001b[0mprint\u001b[0m\u001b[0;34m(\u001b[0m\u001b[0;34m\"deckle time, knife changes objective: {}\"\u001b[0m\u001b[0;34m.\u001b[0m\u001b[0mformat\u001b[0m\u001b[0;34m(\u001b[0m\u001b[0mstr\u001b[0m\u001b[0;34m(\u001b[0m\u001b[0mdeckle_time\u001b[0m\u001b[0;34m)\u001b[0m\u001b[0;34m.\u001b[0m\u001b[0msplit\u001b[0m\u001b[0;34m(\u001b[0m\u001b[0;34m'.'\u001b[0m\u001b[0;34m)\u001b[0m\u001b[0;34m[\u001b[0m\u001b[0;36m0\u001b[0m\u001b[0;34m]\u001b[0m\u001b[0;34m)\u001b[0m\u001b[0;34m)\u001b[0m\u001b[0;34m\u001b[0m\u001b[0;34m\u001b[0m\u001b[0m\n",
      "\u001b[0;31mAttributeError\u001b[0m: 'int' object has no attribute 'iloc'"
     ]
    }
   ],
   "source": [
    "master_knife = optimize_schedule(sol, widths, neckin, df_filtered, L, setup_df, \n",
    "                           speed_df, doffs_in_jumbo, start_date, 'Knife Changes')\n",
    "deckle_time = master_knife.iloc[-1]['Completion Date'] - master_knife.iloc[0]['Completion Date']\n",
    "print(\"deckle time, knife changes objective: {}\".format(str(deckle_time).split('.')[0]))"
   ]
  },
  {
   "cell_type": "code",
   "execution_count": null,
   "metadata": {},
   "outputs": [],
   "source": [
    "master_late = optimize_schedule(sol, widths, neckin, df_filtered, L, setup_df, \n",
    "                           speed_df, doffs_in_jumbo, start_date, 'Late Orders')\n",
    "deckle_time = master_late.iloc[-1]['Completion Date'] - master_late.iloc[0]['Completion Date']\n",
    "print(\"deckle time, late orders objective: {}\".format(str(deckle_time).split('.')[0]))"
   ]
  },
  {
   "cell_type": "code",
   "execution_count": null,
   "metadata": {},
   "outputs": [],
   "source": [
    "master_knife"
   ]
  },
  {
   "cell_type": "code",
   "execution_count": null,
   "metadata": {},
   "outputs": [],
   "source": [
    "master_late"
   ]
  }
 ],
 "metadata": {
  "kernelspec": {
   "display_name": "Python 3",
   "language": "python",
   "name": "python3"
  },
  "language_info": {
   "codemirror_mode": {
    "name": "ipython",
    "version": 3
   },
   "file_extension": ".py",
   "mimetype": "text/x-python",
   "name": "python",
   "nbconvert_exporter": "python",
   "pygments_lexer": "ipython3",
   "version": "3.8.1"
  }
 },
 "nbformat": 4,
 "nbformat_minor": 2
}

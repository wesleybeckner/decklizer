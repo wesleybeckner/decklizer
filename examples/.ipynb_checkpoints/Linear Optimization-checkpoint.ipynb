{
 "cells": [
  {
   "cell_type": "markdown",
   "metadata": {},
   "source": [
    "# Linear Optimization Methods\n",
    "\n",
    "cycle through scipy linprog w/ every combination of layout for max layouts setting. return best answer(s)\n"
   ]
  },
  {
   "cell_type": "code",
   "execution_count": 1,
   "metadata": {},
   "outputs": [],
   "source": [
    "import sys\n",
    "sys.path.append(\"../\")\n",
    "\n",
    "import numpy as np\n",
    "import pandas as pd\n",
    "import plotly.graph_objects as go\n",
    "import plotly.express as px\n",
    "import math\n",
    "from random import shuffle, choice\n",
    "import copy\n",
    "from utils import *\n",
    "from engine import *\n",
    "from IPython.display import clear_output\n",
    "import time\n",
    "import datetime\n",
    "import re\n",
    "\n",
    "from scipy.optimize import linprog\n",
    "from collections import Counter\n",
    "import itertools"
   ]
  },
  {
   "cell_type": "code",
   "execution_count": 2,
   "metadata": {},
   "outputs": [],
   "source": [
    "df = load_schedule()"
   ]
  },
  {
   "cell_type": "code",
   "execution_count": 11,
   "metadata": {},
   "outputs": [],
   "source": [
    "def load_schedule(customer = 'AHP',\n",
    "                  technology = 'SM',\n",
    "                  color = 'WHITE',\n",
    "                  cycle = 'CYCLE 1'):\n",
    "    df = pd.read_excel('../data/200721_ New Way SCH W3-W6 W14 07.20.20.xlsx',\n",
    "                       sheet_name='Schedule')\n",
    "\n",
    "\n",
    "    df_filtered = df.loc[df['Customer Name'] == customer]\n",
    "    df_filtered = df_filtered.loc[df_filtered['Description'].str.contains(technology)]\n",
    "    df_filtered = df_filtered.loc[df_filtered['Description'].str.contains(color)] #CYAN, TEAL\n",
    "    df_filtered = df_filtered.loc[df_filtered['CYCLE / BUCKET'] == cycle]\n",
    "    df_filtered = df_filtered.loc[df_filtered['Total LM Order QTY'] > 0]\n",
    "    df_filtered.insert(0, 'Block', 1)\n",
    "    df_filtered = df_filtered.reset_index(drop=True)\n",
    "    df_filtered['Order Number'] = df_filtered.index + 1\n",
    "\n",
    "    df_filtered['Width'] = pd.DataFrame(list(pd.DataFrame(list(df_filtered['Description']\n",
    "                                                      .str.split(';')))[0].str.split('UN0')))[1]\n",
    "    return df_filtered\n",
    "\n",
    "def process_schedule(df_filtered, B=4160, put_up=17000, doffs_in_jumbo=6, verbiose=True):\n",
    "    lm = list(df_filtered.groupby('Description')['Total LM Order QTY'].sum().values)\n",
    "    widths = list(df_filtered.groupby('Width')['Total LM Order QTY'].sum().index.values.astype(int))\n",
    "    L = doff_length = put_up * doffs_in_jumbo # df['LM putup']\n",
    "    neckins = []\n",
    "    for width in widths:\n",
    "        if width < 170:\n",
    "            neckin = 4\n",
    "        elif width < 208:\n",
    "            neckin = 5\n",
    "        else:\n",
    "            neckin = 7\n",
    "        neckins.append(neckin)\n",
    "    w = list(np.array(widths) + np.array(neckins)) # the values used in the actual computation\n",
    "    q = [math.ceil(x/L) for x in lm] # jumbos needed per width, rounded up\n",
    "    s = BinPackingExample(w, q) # material orders (list of widths, 1 width = 1 jumbo)\n",
    "    if verbiose:\n",
    "        print('The important variables', end='\\n\\n')\n",
    "        print('widths: {} (mm)'.format(widths))\n",
    "        print('neck in: {} (mm)'.format(neckins))\n",
    "        print('L (m): {}'.format(L))\n",
    "        print('undeckled jumbos needed: {}'.format(q))\n",
    "    return w, q, s, L"
   ]
  },
  {
   "cell_type": "code",
   "execution_count": 12,
   "metadata": {},
   "outputs": [
    {
     "name": "stdout",
     "output_type": "stream",
     "text": [
      "The important variables\n",
      "\n",
      "widths: [160, 195, 205, 220, 235] (mm)\n",
      "neck in: [4, 5, 5, 7, 7] (mm)\n",
      "L (m): 102000\n",
      "undeckled jumbos needed: [54, 344, 196, 212, 17]\n"
     ]
    }
   ],
   "source": [
    "w, q, s, L = process_schedule(df)"
   ]
  },
  {
   "cell_type": "code",
   "execution_count": 5,
   "metadata": {},
   "outputs": [],
   "source": [
    "def init_layouts(B, w):\n",
    "    t = []\n",
    "    m = len(w)\n",
    "    for i in range(m):\n",
    "        pat = [0]*m\n",
    "        pat[i] = -int(B/w[i])\n",
    "        t.append(pat)\n",
    "    return t"
   ]
  },
  {
   "cell_type": "code",
   "execution_count": 6,
   "metadata": {},
   "outputs": [
    {
     "data": {
      "text/plain": [
       "[[-25, 0, 0, 0, 0],\n",
       " [0, -20, 0, 0, 0],\n",
       " [0, 0, -19, 0, 0],\n",
       " [0, 0, 0, -18, 0],\n",
       " [0, 0, 0, 0, -17]]"
      ]
     },
     "execution_count": 6,
     "metadata": {},
     "output_type": "execute_result"
    }
   ],
   "source": [
    "init_layouts(B, w)"
   ]
  },
  {
   "cell_type": "code",
   "execution_count": 8,
   "metadata": {},
   "outputs": [
    {
     "name": "stdout",
     "output_type": "stream",
     "text": [
      "[-54, -344, -196, -212, -17]\n"
     ]
    },
    {
     "data": {
      "text/plain": [
       "[[-25, 0, 0, 0, 0],\n",
       " [0, -20, 0, 0, 0],\n",
       " [0, 0, -19, 0, 0],\n",
       " [0, 0, 0, -18, 0],\n",
       " [0, 0, 0, 0, -17]]"
      ]
     },
     "execution_count": 8,
     "metadata": {},
     "output_type": "execute_result"
    }
   ],
   "source": [
    "obj = [1,1,1,1,1]\n",
    "lhs_ineq = init_layouts(B, w)\n",
    "rhs_ineq = [-i for i in q]\n",
    "print(rhs_ineq)\n",
    "lhs_ineq"
   ]
  },
  {
   "cell_type": "code",
   "execution_count": 9,
   "metadata": {},
   "outputs": [
    {
     "data": {
      "text/plain": [
       "     con: array([], dtype=float64)\n",
       "     fun: 42.45356725146199\n",
       " message: 'The solution was determined in presolve as there are no non-trivial constraints.'\n",
       "     nit: 0\n",
       "   slack: array([0., 0., 0., 0., 0.])\n",
       "  status: 0\n",
       " success: True\n",
       "       x: array([ 2.16      , 17.2       , 10.31578947, 11.77777778,  1.        ])"
      ]
     },
     "execution_count": 9,
     "metadata": {},
     "output_type": "execute_result"
    }
   ],
   "source": [
    "linprog(c=obj, \n",
    "        A_ub=lhs_ineq,\n",
    "        b_ub=rhs_ineq, \n",
    "        method=\"revised simplex\")"
   ]
  },
  {
   "cell_type": "code",
   "execution_count": 10,
   "metadata": {},
   "outputs": [],
   "source": [
    "s = BinPackingExample(w, q)"
   ]
  },
  {
   "cell_type": "markdown",
   "metadata": {},
   "source": [
    "# Linear Programming\n",
    "\n",
    "![](https://files.realpython.com/media/lp-py-eq-3.65b2e6d529bc.png)"
   ]
  },
  {
   "cell_type": "code",
   "execution_count": 12,
   "metadata": {},
   "outputs": [],
   "source": [
    "obj = [-1, -2]\n",
    "lhs_ineq = [[2, 1],\n",
    "            [-4, 5],\n",
    "            [1, -2]]\n",
    "\n",
    "rhs_ineq = [20, \n",
    "            10, \n",
    "            2]\n",
    "\n",
    "lhs_eq = [[-1, 5]]\n",
    "\n",
    "rhs_eq = [15]\n",
    "\n",
    "bnd = [(0, float(\"inf\")), #bounds of x\n",
    "       (0, float(\"inf\"))] # bounds of y"
   ]
  },
  {
   "cell_type": "code",
   "execution_count": 13,
   "metadata": {},
   "outputs": [
    {
     "data": {
      "text/plain": [
       "     con: array([0.])\n",
       "     fun: -16.818181818181817\n",
       " message: 'Optimization terminated successfully.'\n",
       "     nit: 3\n",
       "   slack: array([ 0.        , 18.18181818,  3.36363636])\n",
       "  status: 0\n",
       " success: True\n",
       "       x: array([7.72727273, 4.54545455])"
      ]
     },
     "execution_count": 13,
     "metadata": {},
     "output_type": "execute_result"
    }
   ],
   "source": [
    "linprog(c=obj, \n",
    "        A_ub=lhs_ineq,\n",
    "        b_ub=rhs_ineq, \n",
    "        A_eq=lhs_eq,\n",
    "        b_eq=rhs_eq,\n",
    "        bounds=bnd,\n",
    "        method=\"revised simplex\")"
   ]
  },
  {
   "cell_type": "markdown",
   "metadata": {},
   "source": [
    "## Stock Cutting"
   ]
  },
  {
   "cell_type": "markdown",
   "metadata": {},
   "source": [
    "![](https://scipbook.readthedocs.io/en/latest/_images/csp-sol-a.png)"
   ]
  },
  {
   "cell_type": "code",
   "execution_count": 14,
   "metadata": {},
   "outputs": [],
   "source": [
    "s = [6, 6, 5, 5, 5, 4, 4, 4, 4, 2, 2, 2, 2, 3, 3, 7, 7, 5, 5, 8, 8, 4, 4, 5]\n",
    "w = [2,3,4,5,6,7,8]\n",
    "B = 9"
   ]
  },
  {
   "cell_type": "code",
   "execution_count": 15,
   "metadata": {},
   "outputs": [],
   "source": [
    "from collections import Counter"
   ]
  },
  {
   "cell_type": "code",
   "execution_count": 16,
   "metadata": {},
   "outputs": [
    {
     "data": {
      "text/plain": [
       "Counter({6: 2, 5: 6, 4: 6, 2: 4, 3: 2, 7: 2, 8: 2})"
      ]
     },
     "execution_count": 16,
     "metadata": {},
     "output_type": "execute_result"
    }
   ],
   "source": [
    "Counter(s)"
   ]
  },
  {
   "cell_type": "code",
   "execution_count": 17,
   "metadata": {},
   "outputs": [],
   "source": [
    "# our layouts \n",
    "obj = [1,1,1,1,1,1,1]\n",
    "\n",
    "# columns are layouts, rows are products\n",
    "lhs_ineq = [[-4,0,0,0,0,0,0],\n",
    "            [0,-2,0,0,0,0,0],\n",
    "            [0,0,-2,0,0,0,0],\n",
    "            [0,0,0,-1,0,0,0],\n",
    "            [0,0,0,0,-1,0,0],\n",
    "            [0,0,0,0,0,-1,0],\n",
    "            [0,0,0,0,0,0,-1]]\n",
    "\n",
    "rhs_ineq = [-4, \n",
    "            -2, \n",
    "            -6,\n",
    "            -6,\n",
    "            -2,\n",
    "            -2, \n",
    "            -2]\n",
    "\n",
    "bnd = [(0, float(\"inf\")), #bounds of x\n",
    "       (0, float(\"inf\"))] # bounds of y"
   ]
  },
  {
   "cell_type": "code",
   "execution_count": 18,
   "metadata": {},
   "outputs": [
    {
     "data": {
      "text/plain": [
       "     con: array([], dtype=float64)\n",
       "     fun: 17.0\n",
       " message: 'The solution was determined in presolve as there are no non-trivial constraints.'\n",
       "     nit: 0\n",
       "   slack: array([0., 0., 0., 0., 0., 0., 0.])\n",
       "  status: 0\n",
       " success: True\n",
       "       x: array([1., 1., 3., 6., 2., 2., 2.])"
      ]
     },
     "execution_count": 18,
     "metadata": {},
     "output_type": "execute_result"
    }
   ],
   "source": [
    "linprog(c=obj, \n",
    "        A_ub=lhs_ineq,\n",
    "        b_ub=rhs_ineq, \n",
    "        method=\"revised simplex\")"
   ]
  },
  {
   "cell_type": "markdown",
   "metadata": {},
   "source": [
    "## Integer Knapsack Problem"
   ]
  },
  {
   "cell_type": "code",
   "execution_count": 19,
   "metadata": {},
   "outputs": [],
   "source": [
    "# This is the memoization approach of  \n",
    "# 0 / 1 Knapsack in Python in simple  \n",
    "# we can say recursion + memoization = DP \n",
    "def knapsack(wt, val, W, n):     \n",
    "  \n",
    "    # base conditions \n",
    "    if n == 0 or W == 0: \n",
    "        return 0\n",
    "    if t[n][W] != -1: \n",
    "        return t[n][W] \n",
    "  \n",
    "    # choice diagram code \n",
    "    if wt[n-1] <= W: \n",
    "        t[n][W] = max( \n",
    "            val[n-1] + knapsack( \n",
    "            wt, val, W-wt[n-1], n-1),  \n",
    "            knapsack(wt, val, W, n-1)) \n",
    "        return t[n][W] \n",
    "    elif wt[n-1] > W: \n",
    "        t[n][W] = knapsack(wt, val, W, n-1) \n",
    "        return t[n][W] \n",
    "\n",
    "def reconstruct(i, w, kp_soln, weight_of_item):\n",
    "    \"\"\"\n",
    "    Reconstruct subset of items i with weights w. The two inputs\n",
    "    i and w are taken at the point of optimality in the knapsack soln\n",
    "\n",
    "    In this case I just assume that i is some number from a range\n",
    "    0,1,2,...n\n",
    "    \"\"\"\n",
    "    recon = set()\n",
    "    # assuming our kp soln converged, we stopped at the ith item, so\n",
    "    # start here and work our way backwards through all the items in\n",
    "    # the list of kp solns. If an item was deemed optimal by kp, then\n",
    "    # put it in our bag, otherwise skip it.\n",
    "    for j in range(i)[::-1]:\n",
    "        cur_val = kp_soln[j][w]\n",
    "        prev_val = kp_soln[j-1][w]\n",
    "        if cur_val > prev_val:\n",
    "            recon.add(j)\n",
    "            w = w - weight_of_item[j]\n",
    "    return recon\n",
    "\n",
    "def initt(W, n):\n",
    "    # We initialize the matrix with -1 at first. \n",
    "    return [[-1 for i in range(W + 1)] for j in range(n + 1)] "
   ]
  },
  {
   "cell_type": "code",
   "execution_count": 20,
   "metadata": {},
   "outputs": [
    {
     "data": {
      "text/plain": [
       "220"
      ]
     },
     "execution_count": 20,
     "metadata": {},
     "output_type": "execute_result"
    }
   ],
   "source": [
    "# driver code \n",
    "val = [60, 100, 120] \n",
    "wt = [1,1,1] \n",
    "W = 2\n",
    "n = len(val) \n",
    "t = initt(W, n)\n",
    "knapsack(wt, val, W, n)"
   ]
  },
  {
   "cell_type": "code",
   "execution_count": 21,
   "metadata": {},
   "outputs": [
    {
     "name": "stdout",
     "output_type": "stream",
     "text": [
      "3 2\n"
     ]
    },
    {
     "data": {
      "text/plain": [
       "array([100, 120])"
      ]
     },
     "execution_count": 21,
     "metadata": {},
     "output_type": "execute_result"
    }
   ],
   "source": [
    "t = np.array(t)\n",
    "n, w = np.unravel_index(t.argmax(), t.shape) # returns n, W\n",
    "print(n,w)\n",
    "sack = reconstruct(n, w, t, wt)\n",
    "np.array(val)[list(sack)]"
   ]
  },
  {
   "cell_type": "code",
   "execution_count": 22,
   "metadata": {},
   "outputs": [
    {
     "data": {
      "text/plain": [
       "9"
      ]
     },
     "execution_count": 22,
     "metadata": {},
     "output_type": "execute_result"
    }
   ],
   "source": [
    "s = [6, 6, 5, 5, 5, 4, 4, 4, 4, 2, 2, 2, 2, 3, 3, 7, 7, 5, 5, 8, 8, 4, 4, 5]\n",
    "B = 9\n",
    "t = initt(B, len(s))\n",
    "knapsack(s, s, B, len(s))"
   ]
  },
  {
   "cell_type": "code",
   "execution_count": 23,
   "metadata": {},
   "outputs": [
    {
     "name": "stdout",
     "output_type": "stream",
     "text": [
      "6 9\n"
     ]
    }
   ],
   "source": [
    "t = np.array(t)\n",
    "n, w = np.unravel_index(t.argmax(), t.shape) # returns n, W\n",
    "print(n,w)"
   ]
  },
  {
   "cell_type": "code",
   "execution_count": 24,
   "metadata": {},
   "outputs": [
    {
     "name": "stdout",
     "output_type": "stream",
     "text": [
      "{1}\n",
      "{3, 6}\n",
      "{3, 6}\n",
      "{3, 6}\n",
      "{3, 6}\n",
      "{3, 6}\n",
      "{3, 6}\n",
      "{3, 6}\n",
      "{3, 6}\n",
      "{3, 6}\n",
      "{3, 6}\n",
      "{3, 6}\n",
      "{3, 6}\n",
      "{3, 6}\n",
      "{3, 6}\n",
      "{3, 6}\n",
      "{3, 6}\n",
      "{3, 6}\n",
      "{3, 6}\n"
     ]
    }
   ],
   "source": [
    "for pair in np.argwhere(t == t.max()):\n",
    "    n, w = pair\n",
    "    sack = reconstruct(n, w, t, s)\n",
    "    print(sack)"
   ]
  },
  {
   "cell_type": "code",
   "execution_count": 25,
   "metadata": {},
   "outputs": [
    {
     "data": {
      "text/plain": [
       "{3, 6}"
      ]
     },
     "execution_count": 25,
     "metadata": {},
     "output_type": "execute_result"
    }
   ],
   "source": [
    "sack = reconstruct(7, w, t, s)\n",
    "sack"
   ]
  },
  {
   "cell_type": "code",
   "execution_count": 26,
   "metadata": {},
   "outputs": [
    {
     "data": {
      "text/plain": [
       "array([5, 4])"
      ]
     },
     "execution_count": 26,
     "metadata": {},
     "output_type": "execute_result"
    }
   ],
   "source": [
    "np.array(s)[list(sack)]"
   ]
  },
  {
   "cell_type": "code",
   "execution_count": 27,
   "metadata": {},
   "outputs": [
    {
     "data": {
      "text/plain": [
       "4160"
      ]
     },
     "execution_count": 27,
     "metadata": {},
     "output_type": "execute_result"
    }
   ],
   "source": [
    "B = 4160\n",
    "w = list(np.array(widths) + np.array(neckins)) # the values used in the actual computation\n",
    "q = [math.ceil(x/L) for x in lm] # jumbos needed per width, rounded up\n",
    "s = BinPackingExample(w, q) # material orders (list of widths, 1 width = 1 jumbo)\n",
    "t = [[-1 for i in range(B + 1)] for j in range(len(s) + 1)] \n",
    "\n",
    "knapsack(s, s, B, len(s))"
   ]
  },
  {
   "cell_type": "code",
   "execution_count": 28,
   "metadata": {},
   "outputs": [],
   "source": []
  },
  {
   "cell_type": "code",
   "execution_count": 29,
   "metadata": {},
   "outputs": [
    {
     "name": "stdout",
     "output_type": "stream",
     "text": [
      "410 4160\n"
     ]
    }
   ],
   "source": [
    "t = np.array(t)\n",
    "n, w = np.unravel_index(t.argmax(), t.shape) # returns n, W\n",
    "print(n,w)"
   ]
  },
  {
   "cell_type": "code",
   "execution_count": 30,
   "metadata": {},
   "outputs": [],
   "source": []
  },
  {
   "cell_type": "code",
   "execution_count": 31,
   "metadata": {},
   "outputs": [
    {
     "data": {
      "text/plain": [
       "Counter({164: 7, 210: 1, 200: 14})"
      ]
     },
     "execution_count": 31,
     "metadata": {},
     "output_type": "execute_result"
    }
   ],
   "source": [
    "sack = reconstruct(n, w, t, s)\n",
    "Counter(np.array(s)[list(sack)])"
   ]
  },
  {
   "cell_type": "code",
   "execution_count": 32,
   "metadata": {},
   "outputs": [
    {
     "data": {
      "text/plain": [
       "4158"
      ]
     },
     "execution_count": 32,
     "metadata": {},
     "output_type": "execute_result"
    }
   ],
   "source": [
    "np.array(s)[list(sack)].sum()"
   ]
  },
  {
   "cell_type": "code",
   "execution_count": 36,
   "metadata": {},
   "outputs": [
    {
     "name": "stdout",
     "output_type": "stream",
     "text": [
      "410 4160\n",
      "Counter({200: 14, 164: 7, 210: 1})\n",
      "4158\n",
      "\n",
      "411 4160\n",
      "Counter({210: 12, 164: 10})\n",
      "4160\n",
      "\n",
      "399 4160\n",
      "Counter({164: 18, 200: 6})\n",
      "4152\n",
      "\n",
      "400 4160\n",
      "Counter({200: 14, 164: 7, 210: 1})\n",
      "4158\n",
      "\n",
      "60 4160\n",
      "Counter({164: 24, 200: 1})\n",
      "4136\n",
      "\n",
      "61 4160\n",
      "Counter({164: 18, 200: 6})\n",
      "4152\n",
      "\n",
      "55 4160\n",
      "Counter({164: 25})\n",
      "4100\n",
      "\n",
      "56 4160\n",
      "Counter({164: 24, 200: 1})\n",
      "4136\n",
      "\n",
      "25 4160\n",
      "Counter({164: 24})\n",
      "3936\n",
      "\n",
      "26 4160\n",
      "Counter({164: 25})\n",
      "4100\n",
      "\n"
     ]
    }
   ],
   "source": [
    "for bit in range(0,32*2,2):\n",
    "    found = 0\n",
    "    for pair in np.argwhere(t == t.max()-bit):\n",
    "        n, w = pair\n",
    "        sack = reconstruct(n, w, t, s)\n",
    "        print(n,w)\n",
    "        print(Counter(np.array(s)[list(sack)]))\n",
    "        print(np.array(s)[list(sack)].sum(), end='\\n\\n')\n",
    "        found += 1\n",
    "        if found > 1:\n",
    "            break"
   ]
  },
  {
   "cell_type": "code",
   "execution_count": 35,
   "metadata": {},
   "outputs": [
    {
     "data": {
      "text/plain": [
       "4160"
      ]
     },
     "execution_count": 35,
     "metadata": {},
     "output_type": "execute_result"
    }
   ],
   "source": [
    "210*12+164*10"
   ]
  },
  {
   "cell_type": "markdown",
   "metadata": {},
   "source": [
    "# Knapsack with Cutting Stock"
   ]
  },
  {
   "cell_type": "code",
   "execution_count": 321,
   "metadata": {},
   "outputs": [],
   "source": [
    "# knapsack gives too great of priority\n",
    "# to low width products...\n",
    "\n",
    "# group by 3 or by 4 and re run knapsack\n",
    "\n",
    "# also limit knapsack problem to the max\n",
    "# for each item that you could fit into\n",
    "# the jumbo (ie s is much smaller)\n",
    "\n",
    "# sumarize inventory as sq m produced\n",
    "\n",
    "# how to constrain problem so that\n",
    "# we have max 3 widths per layout\n",
    "# of 2 layouts\n",
    "# for 3 layouts\n",
    "\n",
    "# if we have < 3 unique layouts\n",
    "# to constrain to 2 layouts\n",
    "# make the next naive layout pattern the one\n",
    "# with the greatest amount of sq m inventory"
   ]
  },
  {
   "cell_type": "code",
   "execution_count": 74,
   "metadata": {},
   "outputs": [],
   "source": [
    "# This is the memoization approach of  \n",
    "# 0 / 1 Knapsack in Python in simple  \n",
    "# we can say recursion + memoization = DP \n",
    "def knapsack(wt, val, W, n):     \n",
    "  \n",
    "    # base conditions \n",
    "    if n == 0 or W == 0: \n",
    "        return 0\n",
    "    if t[n][W] != -1: \n",
    "        return t[n][W] \n",
    "  \n",
    "    # choice diagram code \n",
    "    if wt[n-1] <= W: \n",
    "        t[n][W] = max( \n",
    "            val[n-1] + knapsack( \n",
    "            wt, val, W-wt[n-1], n-1),  \n",
    "            knapsack(wt, val, W, n-1)) \n",
    "        return t[n][W] \n",
    "    elif wt[n-1] > W: \n",
    "        t[n][W] = knapsack(wt, val, W, n-1) \n",
    "        return t[n][W] \n",
    "\n",
    "def reconstruct(i, w, kp_soln, weight_of_item):\n",
    "    \"\"\"\n",
    "    Reconstruct subset of items i with weights w. The two inputs\n",
    "    i and w are taken at the point of optimality in the knapsack soln\n",
    "\n",
    "    In this case I just assume that i is some number from a range\n",
    "    0,1,2,...n\n",
    "    \"\"\"\n",
    "    recon = set()\n",
    "    # assuming our kp soln converged, we stopped at the ith item, so\n",
    "    # start here and work our way backwards through all the items in\n",
    "    # the list of kp solns. If an item was deemed optimal by kp, then\n",
    "    # put it in our bag, otherwise skip it.\n",
    "    for j in range(i)[::-1]:\n",
    "        cur_val = kp_soln[j][w]\n",
    "        prev_val = kp_soln[j-1][w]\n",
    "        if cur_val > prev_val:\n",
    "            recon.add(j)\n",
    "            w = w - weight_of_item[j]\n",
    "    return recon\n",
    "\n",
    "def initt(W, n):\n",
    "    # We initialize the matrix with -1 at first. \n",
    "    return [[-1 for i in range(W + 1)] for j in range(n + 1)] \n",
    "\n",
    "def make_best_pattern(q, w, n, usable_width=4160):\n",
    "    \"\"\"\n",
    "    Creates the best possible pattern such that all orders are fullfilled in a single\n",
    "    layout\n",
    "    \n",
    "    Parameters\n",
    "    ----------\n",
    "    q: list\n",
    "        rolls required (in jumbo lengths)\n",
    "    w: list\n",
    "        widths required\n",
    "    n: list\n",
    "        neckins for widths\n",
    "    usable_width: int\n",
    "        jumbo/doff usable width\n",
    "        \n",
    "    Returns\n",
    "    -------\n",
    "    layout: list\n",
    "        cuts for jumbo for each width (no width is excluded)\n",
    "    \"\"\"\n",
    "    layout = [max(1, math.floor(i/sum(q)*usable_width/j)) for i,j in zip(q,w)] \n",
    "\n",
    "    # give priority to widths that had to round down the most\n",
    "    # when filling up the rest of the pattern\n",
    "    remainder = [math.remainder(i/sum(q)*usable_width/j, 1) if (math.remainder(i/sum(q)*usable_width/j, 1)\n",
    "                                                        < 0) else -1 for i,j in zip(q,w) ] \n",
    "    order = np.argsort(remainder)\n",
    "    while (usable_width - sum([i*j for i,j in zip(layout,w)])) > min(w):\n",
    "        for i in order[::-1]:\n",
    "            layout[i] += 1\n",
    "            if usable_width - sum([i*j for i,j in zip(layout,w)]) < 0:\n",
    "                layout[i] -= 1\n",
    "\n",
    "    # compute the loss for the final layout\n",
    "    layout_loss = usable_width - sum([i*j for i,j in zip(layout,w)])\n",
    "    print(\"layout pattern: {}\".format(dict(zip([i-j for i,j in zip(w,n)],layout))))\n",
    "    print(\"pattern loss: {:0.2f} %\".format(layout_loss/usable_width*100))\n",
    "\n",
    "    # multiply to get the minimum doffs required\n",
    "    # layout * doffs > q\n",
    "    doffs = max([math.ceil(i/j) for i,j in zip(q, layout)])\n",
    "    print(\"minimum doffs to fill order: {}\".format(doffs))\n",
    "\n",
    "    # what inventory is created\n",
    "    inventory = dict(zip([i-j for i,j in zip(w,n)],[i*doffs-j for i,j in zip(layout,q)]))\n",
    "    print(\"inventory created: {}\".format(inventory))\n",
    "    \n",
    "    return layout\n",
    "\n",
    "def init_layouts(B, w):\n",
    "    t = []\n",
    "    m = len(w)\n",
    "    for i in range(m):\n",
    "        pat = [0]*m\n",
    "        pat[i] = -int(B/w[i])\n",
    "        t.append(pat)\n",
    "    return t\n",
    "\n",
    "def store_patterns(goal=5):\n",
    "    patterns = []\n",
    "    bit = 0\n",
    "    while len(patterns) < goal:\n",
    "        found = 0\n",
    "        for pair in np.argwhere(t == t.max()-bit):\n",
    "            N, W = pair\n",
    "            sack = reconstruct(N, W, t, s)     \n",
    "            pattern = Counter(np.array(s)[list(sack)])\n",
    "            loss = round((B - np.array(s)[list(sack)].sum())/B*100,2)\n",
    "            patterns.append([pattern, loss])\n",
    "            if len(patterns) >= goal:\n",
    "                break\n",
    "            found += 1\n",
    "            if found > 1:\n",
    "                break\n",
    "        bit += 2\n",
    "    return patterns"
   ]
  },
  {
   "cell_type": "code",
   "execution_count": 340,
   "metadata": {},
   "outputs": [
    {
     "name": "stdout",
     "output_type": "stream",
     "text": [
      "The important variables\n",
      "\n",
      "widths: [160, 195, 205, 220, 235] (mm)\n",
      "neck in: [4, 5, 5, 7, 7] (mm)\n",
      "jumbo length (L): 102000 (m)\n",
      "undeckled jumbos needed (q): [54, 344, 196, 212, 17]\n"
     ]
    }
   ],
   "source": [
    "df = load_schedule(\n",
    "    customer='AHP',\n",
    "    technology='SM',\n",
    "    color='WHITE',\n",
    "    cycle='CYCLE 1',\n",
    ")\n",
    "# df = df.iloc[:20]\n",
    "B=4160\n",
    "w, q, L, n = process_schedule(\n",
    "    df,\n",
    "    B=B,\n",
    "    put_up=17000,\n",
    "    doffs_in_jumbo=6,\n",
    "    verbiose=True,\n",
    ")"
   ]
  },
  {
   "cell_type": "code",
   "execution_count": 345,
   "metadata": {},
   "outputs": [
    {
     "name": "stdout",
     "output_type": "stream",
     "text": [
      "layout pattern: {160: 2, 195: 8, 205: 4, 220: 5, 235: 1}\n",
      "pattern loss: 0.36 %\n",
      "minimum doffs to fill order: 49\n",
      "inventory created: {160: 44, 195: 48, 205: 0, 220: 33, 235: 32}\n"
     ]
    }
   ],
   "source": [
    "layout = make_best_pattern(q, w, n)"
   ]
  },
  {
   "cell_type": "code",
   "execution_count": 347,
   "metadata": {},
   "outputs": [
    {
     "data": {
      "text/plain": [
       "[164, 200, 210, 227, 242]"
      ]
     },
     "execution_count": 347,
     "metadata": {},
     "output_type": "execute_result"
    }
   ],
   "source": [
    "w"
   ]
  },
  {
   "cell_type": "code",
   "execution_count": 346,
   "metadata": {},
   "outputs": [
    {
     "data": {
      "text/plain": [
       "[(164, 200, 210),\n",
       " (164, 200, 227),\n",
       " (164, 200, 242),\n",
       " (164, 210, 227),\n",
       " (164, 210, 242),\n",
       " (164, 227, 242),\n",
       " (200, 210, 227),\n",
       " (200, 210, 242),\n",
       " (200, 227, 242),\n",
       " (210, 227, 242)]"
      ]
     },
     "execution_count": 346,
     "metadata": {},
     "output_type": "execute_result"
    }
   ],
   "source": [
    "# choose max unique widths per doff\n",
    "max_combinations = 3\n",
    "combos = list(itertools.combinations(w,r=max_combinations))\n",
    "combos"
   ]
  },
  {
   "cell_type": "code",
   "execution_count": 382,
   "metadata": {},
   "outputs": [],
   "source": [
    "# choose max unique widths per doff\n",
    "max_combinations = 3\n",
    "combos = list(itertools.combinations(w,r=max_combinations))\n",
    "patterns = []\n",
    "for combo in combos:\n",
    "    # only provide knapsack with relevant variables\n",
    "    s = []\n",
    "    for i in combo:\n",
    "        s += (int(B/i)*[i])\n",
    "\n",
    "    t = initt(B,len(s))\n",
    "    knapsack(s, s, B, len(s))\n",
    "    t = np.array(t)\n",
    "    patterns += store_patterns(goal=5)"
   ]
  },
  {
   "cell_type": "code",
   "execution_count": 385,
   "metadata": {},
   "outputs": [],
   "source": [
    "uni_list = []\n",
    "for i in patterns:\n",
    "    if i not in uni_list:\n",
    "        uni_list.append(i)\n",
    "patterns = uni_list"
   ]
  },
  {
   "cell_type": "code",
   "execution_count": 386,
   "metadata": {},
   "outputs": [],
   "source": [
    "# format layouts for linear optimization\n",
    "lhs_ineq = []\n",
    "for pattern in patterns:\n",
    "    inset = []\n",
    "    for width in w:\n",
    "        try:\n",
    "            inset.append(-pattern[0][width])\n",
    "        except:\n",
    "            inset.append(0)\n",
    "    lhs_ineq.append(inset)\n",
    "naive = init_layouts(B, w)\n",
    "# lhs_ineq = lhs_ineq + naive\n",
    "\n",
    "lhs_ineq.append([-i for i in layout])\n",
    "lhs_ineq = np.array(lhs_ineq).T.tolist()\n",
    "rhs_ineq = [-i for i in q]\n",
    "obj = np.ones(len(lhs_ineq[0]))\n",
    "\n",
    "result = linprog(c=obj, \n",
    "        A_ub=lhs_ineq,\n",
    "        b_ub=rhs_ineq, \n",
    "        method=\"revised simplex\")"
   ]
  },
  {
   "cell_type": "code",
   "execution_count": 356,
   "metadata": {},
   "outputs": [],
   "source": [
    "from pulp import LpMaximize, LpProblem, LpStatus, lpSum, LpVariable"
   ]
  },
  {
   "cell_type": "code",
   "execution_count": 369,
   "metadata": {},
   "outputs": [
    {
     "data": {
      "text/plain": [
       "[[-7, -14, -1, 0, 0],\n",
       " [-10, 0, -12, 0, 0],\n",
       " [-13, -9, 0, -1, 0],\n",
       " [-2, -1, 0, -16, 0],\n",
       " [-19, -4, 0, 0, -1],\n",
       " [-9, -11, 0, 0, -2],\n",
       " [-24, 0, -1, 0, 0],\n",
       " [-14, 0, 0, -5, -3],\n",
       " [-7, 0, 0, -9, -4],\n",
       " [0, -5, -15, 0, 0],\n",
       " [0, -4, -16, 0, 0],\n",
       " [0, -8, 0, -7, -4],\n",
       " [0, -9, 0, -4, -6],\n",
       " [0, 0, -10, -9, 0],\n",
       " [0, 0, -9, -10, 0]]"
      ]
     },
     "execution_count": 369,
     "metadata": {},
     "output_type": "execute_result"
    }
   ],
   "source": [
    "lhs_ineq = []\n",
    "for pattern in patterns:\n",
    "    inset = []\n",
    "    for width in w:\n",
    "        try:\n",
    "            inset.append(-pattern[0][width])\n",
    "        except:\n",
    "            inset.append(0)\n",
    "    lhs_ineq.append(inset)\n",
    "lhs_ineq"
   ]
  },
  {
   "cell_type": "code",
   "execution_count": 380,
   "metadata": {},
   "outputs": [],
   "source": [
    "x = np.array([w1,w2,w3,w4,w5])"
   ]
  },
  {
   "cell_type": "code",
   "execution_count": 379,
   "metadata": {},
   "outputs": [
    {
     "data": {
      "text/plain": [
       "[-7, -14, -1, 0, 0]"
      ]
     },
     "execution_count": 379,
     "metadata": {},
     "output_type": "execute_result"
    }
   ],
   "source": [
    "layout = lhs_ineq[0]\n",
    "layout[0] * x[0] + layout[1] * x[1] + layout[2]\\\n",
    "        * x[2] + layout[3] * x[3] + layout[4] * x[4] <="
   ]
  },
  {
   "cell_type": "code",
   "execution_count": null,
   "metadata": {},
   "outputs": [],
   "source": [
    "for layout in lhs_ineq:\n",
    "    "
   ]
  },
  {
   "cell_type": "code",
   "execution_count": 363,
   "metadata": {},
   "outputs": [],
   "source": [
    "model = LpProblem(name=\"stock-cutting\", sense=\"LpMaximize\")\n",
    "\n",
    "w1 = LpVariable(name=\"w1\", lowBound=0, cat='Integer')\n",
    "w2 = LpVariable(name=\"w2\", lowBound=0, cat='Integer')\n",
    "w3 = LpVariable(name=\"w3\", lowBound=0, cat='Integer')\n",
    "w4 = LpVariable(name=\"w4\", lowBound=0, cat='Integer')\n",
    "w5 = LpVariable(name=\"w5\", lowBound=0, cat='Integer')"
   ]
  },
  {
   "cell_type": "code",
   "execution_count": 393,
   "metadata": {},
   "outputs": [
    {
     "data": {
      "text/plain": [
       "array([26., 18.,  5., 10.,  1.])"
      ]
     },
     "execution_count": 393,
     "metadata": {},
     "output_type": "execute_result"
    }
   ],
   "source": [
    "np.sum(np.array(lhs_ineq)*-1*np.ceil(result['x']),axis=1)-np.array(q)"
   ]
  },
  {
   "cell_type": "code",
   "execution_count": 394,
   "metadata": {},
   "outputs": [
    {
     "data": {
      "text/plain": [
       "[{160: 7, 195: 14, 205: 1, 220: 0, 235: 0},\n",
       " {160: 24, 195: 0, 205: 1, 220: 0, 235: 0},\n",
       " {160: 0, 195: 4, 205: 16, 220: 0, 235: 0},\n",
       " {160: 0, 195: 9, 205: 0, 220: 4, 235: 6},\n",
       " {160: 0, 195: 6, 205: 0, 220: 13, 235: 0},\n",
       " {160: 0, 195: 17, 205: 0, 220: 3, 235: 0}]"
      ]
     },
     "execution_count": 394,
     "metadata": {},
     "output_type": "execute_result"
    }
   ],
   "source": [
    "non_zero_layouts"
   ]
  },
  {
   "cell_type": "code",
   "execution_count": 509,
   "metadata": {},
   "outputs": [
    {
     "name": "stdout",
     "output_type": "stream",
     "text": [
      "total loss: 0.27 %\n",
      "\n",
      "inventory created: {160: 2.0, 195: 1.0, 205: 4.0, 220: 7.0, 235: 1.0}\n",
      "\n",
      "total inventory rolls: 15\n",
      "\n",
      "layout summary:\n",
      "\n",
      "loss: 1.90% \t 4.0 x\t {160: 0, 195: 17, 205: 0, 220: 3, 235: 0}\n",
      "loss: 0.22% \t 15.0 x\t {160: 0, 195: 6, 205: 0, 220: 13, 235: 0}\n",
      "loss: 0.05% \t 8.0 x\t {160: 7, 195: 14, 205: 1, 220: 0, 235: 0}\n",
      "loss: 0.00% \t 12.0 x\t {160: 0, 195: 9, 205: 0, 220: 4, 235: 6}\n",
      "loss: 0.00% \t 3.0 x\t {160: 0, 195: 4, 205: 16, 220: 0, 235: 0}\n",
      "\n",
      "total layouts: 42.0\n"
     ]
    }
   ],
   "source": [
    "sheet = np.sum([(i*j) for i,j in zip(w, np.array(lhs_ineq))],axis=0)#*np.ceil(result['x'])\n",
    "inventory = dict(zip([i-j for i,j in zip(w,n)],np.sum(np.array(lhs_ineq)*-1*np.ceil(result['x']),axis=1)-np.array(q)))\n",
    "\n",
    "# create layout summary\n",
    "jumbos = list(np.ceil(result['x'])[np.ceil(result['x'])>0])\n",
    "temp = np.array(lhs_ineq)*-1*np.where(np.ceil(result['x']) != 0, 1, 0)\n",
    "temp = temp[:, temp.any(0)].T\n",
    "non_zero_layouts = list([dict(zip([i-j for i,j in zip(w,n)], i)) for i in temp])\n",
    "\n",
    "sheet_loss = [B+i for i in sheet]\n",
    "sheet_loss = [i / B * 100 for i,j in zip(sheet_loss,np.where(result['x'] > 0, 1, 0)) if j > 0]\n",
    "\n",
    "# remove extra layouts due to ceiling rounding from linprog\n",
    "sorted_jumbos = [x for _,x in sorted(zip(sheet_loss,jumbos))][::-1]\n",
    "sorted_layouts = np.array(non_zero_layouts)[np.array(sheet_loss).argsort()][::-1]\n",
    "sorted_losses = [x for _,x in sorted(zip(sheet_loss,sheet_loss))][::-1]\n",
    "for index, layout in enumerate(np.array(non_zero_layouts)[np.array(sheet_loss).argsort()][::-1]):\n",
    "    if all(np.array(list(inventory.values())) - np.array(list(layout.values())) > 0):\n",
    "        sorted_jumbos[index] -= 1\n",
    "        new_values = np.array(list(inventory.values())) - np.array(list(layout.values()))\n",
    "        inventory.update(zip(inventory,new_values))\n",
    "\n",
    "        # clear layouts that have been set to 0\n",
    "summary = (list(zip(sorted_jumbos, sorted_layouts, sorted_losses)))\n",
    "summ = []\n",
    "for i in summary:\n",
    "    if i[0] > 0:\n",
    "        summ.append(i)\n",
    "summary=summ\n",
    "loss = sum([i[0]*i[2] for i in summary])/sum([i[0] for i in summary])\n",
    "\n",
    "print(\"total loss: {:0.2f} %\".format(loss), end = '\\n\\n')\n",
    "print(\"inventory created: {}\".format(inventory), end = '\\n\\n')\n",
    "print(\"total inventory rolls: {:n}\".format(sum(list(inventory.values()))), end='\\n\\n')\n",
    "print(\"layout summary:\", end = '\\n\\n')\n",
    "for i in summary:\n",
    "    print(\"loss: {:.2f}% \\t {} x\\t {}\".format(i[2], i[0], i[1]))\n",
    "print('')\n",
    "print(\"total layouts: {}\".format(np.sum(sorted_jumbos)))"
   ]
  },
  {
   "cell_type": "code",
   "execution_count": 486,
   "metadata": {},
   "outputs": [],
   "source": [
    "sorted_jumbos = [x for _,x in sorted(zip(sheet_loss,jumbos))][::-1]\n",
    "sorted_layouts = np.array(non_zero_layouts)[np.array(sheet_loss).argsort()][::-1]\n",
    "sorted_losses = [x for _,x in sorted(zip(sheet_loss,sheet_loss))][::-1]\n",
    "for index, layout in enumerate(np.array(non_zero_layouts)[np.array(sheet_loss).argsort()][::-1]):\n",
    "    if all(np.array(list(inventory.values())) - np.array(list(layout.values())) > 0):\n",
    "        print(layout)\n",
    "        sorted_jumbos[index] -= 1\n",
    "        new_values = np.array(list(inventory.values())) - np.array(list(layout.values()))\n",
    "        inventory.update(zip(inventory,new_values))"
   ]
  },
  {
   "cell_type": "code",
   "execution_count": 485,
   "metadata": {},
   "outputs": [
    {
     "data": {
      "text/plain": [
       "[5.0, 1.0, 15.0, 8.0, 12.0, 3.0]"
      ]
     },
     "execution_count": 485,
     "metadata": {},
     "output_type": "execute_result"
    }
   ],
   "source": [
    "sorted_jumbos"
   ]
  },
  {
   "cell_type": "code",
   "execution_count": 210,
   "metadata": {},
   "outputs": [],
   "source": [
    "# for 2 optimum layouts just add the naive layout\n",
    "naive = init_layouts(B, w)\n",
    "lhs_ineq = naive\n",
    "\n",
    "lhs_ineq.append([-i for i in layout])\n",
    "lhs_ineq = np.array(lhs_ineq).T.tolist()\n",
    "rhs_ineq = [-i for i in q]\n",
    "obj = np.ones(len(lhs_ineq[0]))\n",
    "\n",
    "result = linprog(c=obj, \n",
    "        A_ub=lhs_ineq,\n",
    "        b_ub=rhs_ineq, \n",
    "        method=\"revised simplex\")"
   ]
  },
  {
   "cell_type": "code",
   "execution_count": 211,
   "metadata": {},
   "outputs": [
    {
     "name": "stdout",
     "output_type": "stream",
     "text": [
      "total loss: 2.11 %\n",
      "\n",
      "inventory created: {160: 5.0, 195: 12.0, 205: 5.0, 220: 17.0, 235: 0.0}\n",
      "\n",
      "total inventory rolls: 39\n",
      "\n",
      "layout summary:\n",
      "\n",
      "loss: 1.44% \t 1.0 x\t {160: 25, 195: 0, 205: 0, 220: 0, 235: 0}\n",
      "loss: 3.85% \t 11.0 x\t {160: 0, 195: 20, 205: 0, 220: 0, 235: 0}\n",
      "loss: 4.09% \t 7.0 x\t {160: 0, 195: 0, 205: 19, 220: 0, 235: 0}\n",
      "loss: 1.78% \t 8.0 x\t {160: 0, 195: 0, 205: 0, 220: 18, 235: 0}\n",
      "loss: 0.36% \t 17.0 x\t {160: 2, 195: 8, 205: 4, 220: 5, 235: 1}\n",
      "\n",
      "total layouts: 44.0\n"
     ]
    }
   ],
   "source": [
    "sheet = np.sum([(i*j) for i,j in zip(w, np.array(lhs_ineq))],axis=0)#*np.ceil(result['x'])\n",
    "loss = [B+i for i in sheet]\n",
    "loss = np.sum([i*j for i,j in zip(loss,np.ceil(result['x']))])\n",
    "loss = loss/ np.sum(np.ceil(result['x'])) / B * 100\n",
    "print(\"total loss: {:0.2f} %\".format(loss), end = '\\n\\n')\n",
    "\n",
    "inventory = dict(zip([i-j for i,j in zip(w,n)],np.sum(np.array(lhs_ineq)*-1*np.ceil(result['x']),axis=1)-np.array(q)))\n",
    "print(\"inventory created: {}\".format(inventory), end = '\\n\\n')\n",
    "print(\"total inventory rolls: {:n}\".format(sum(list(inventory.values()))), end='\\n\\n')\n",
    "\n",
    "# create layout summary\n",
    "jumbos = list(np.ceil(result['x'])[np.ceil(result['x'])>0])\n",
    "temp = np.array(lhs_ineq)*-1*np.where(np.ceil(result['x']) != 0, 1, 0)\n",
    "temp = temp[:, temp.any(0)].T\n",
    "non_zero_layouts = list([dict(zip([i-j for i,j in zip(w,n)], i)) for i in temp])\n",
    "\n",
    "sheet_loss = [B+i for i in sheet]\n",
    "sheet_loss = [i / B * 100 for i,j in zip(sheet_loss,np.where(result['x'] > 0, 1, 0)) if j > 0]\n",
    "\n",
    "summary = (list(zip(jumbos, non_zero_layouts, sheet_loss)))\n",
    "print(\"layout summary:\", end = '\\n\\n')\n",
    "for i in summary:\n",
    "    print(\"loss: {:.2f}% \\t {} x\\t {}\".format(i[2], i[0], i[1]))\n",
    "print('')\n",
    "print(\"total layouts: {}\".format(np.sum(jumbos)))"
   ]
  }
 ],
 "metadata": {
  "kernelspec": {
   "display_name": "Python 3",
   "language": "python",
   "name": "python3"
  },
  "language_info": {
   "codemirror_mode": {
    "name": "ipython",
    "version": 3
   },
   "file_extension": ".py",
   "mimetype": "text/x-python",
   "name": "python",
   "nbconvert_exporter": "python",
   "pygments_lexer": "ipython3",
   "version": "3.7.4"
  }
 },
 "nbformat": 4,
 "nbformat_minor": 4
}

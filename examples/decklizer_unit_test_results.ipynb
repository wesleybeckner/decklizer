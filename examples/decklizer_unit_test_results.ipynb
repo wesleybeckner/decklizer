{
 "cells": [
  {
   "cell_type": "code",
   "execution_count": 1,
   "metadata": {},
   "outputs": [],
   "source": [
    "import pandas as pd\n",
    "import matplotlib.pyplot as plt\n",
    "import numpy as np\n",
    "from ipywidgets import SelectMultiple, interact"
   ]
  },
  {
   "cell_type": "code",
   "execution_count": 25,
   "metadata": {},
   "outputs": [
    {
     "data": {
      "text/html": [
       "<div>\n",
       "<style scoped>\n",
       "    .dataframe tbody tr th:only-of-type {\n",
       "        vertical-align: middle;\n",
       "    }\n",
       "\n",
       "    .dataframe tbody tr th {\n",
       "        vertical-align: top;\n",
       "    }\n",
       "\n",
       "    .dataframe thead th {\n",
       "        text-align: right;\n",
       "    }\n",
       "</style>\n",
       "<table border=\"1\" class=\"dataframe\">\n",
       "  <thead>\n",
       "    <tr style=\"text-align: right;\">\n",
       "      <th></th>\n",
       "      <th>B</th>\n",
       "      <th>L</th>\n",
       "      <th>n</th>\n",
       "      <th>q</th>\n",
       "      <th>w</th>\n",
       "      <th>loss</th>\n",
       "      <th>jumbos</th>\n",
       "      <th>inventory</th>\n",
       "      <th>summary</th>\n",
       "      <th>max_combo</th>\n",
       "      <th>layouts</th>\n",
       "      <th>target</th>\n",
       "      <th>edge</th>\n",
       "    </tr>\n",
       "  </thead>\n",
       "  <tbody>\n",
       "    <tr>\n",
       "      <th>0</th>\n",
       "      <td>1522</td>\n",
       "      <td>46167</td>\n",
       "      <td>[13, 13, 19]</td>\n",
       "      <td>[35, 76, 11]</td>\n",
       "      <td>[839, 744, 1392]</td>\n",
       "      <td>20.827076</td>\n",
       "      <td>84</td>\n",
       "      <td>{826: 0.0, 731: 0.0, 1373: 0.0}</td>\n",
       "      <td>loss jumbos                     layout\\n...</td>\n",
       "      <td>2</td>\n",
       "      <td>3</td>\n",
       "      <td>1</td>\n",
       "      <td>0</td>\n",
       "    </tr>\n",
       "    <tr>\n",
       "      <th>1</th>\n",
       "      <td>1522</td>\n",
       "      <td>46167</td>\n",
       "      <td>[13, 13, 19]</td>\n",
       "      <td>[35, 76, 11]</td>\n",
       "      <td>[839, 744, 1392]</td>\n",
       "      <td>20.827076</td>\n",
       "      <td>84</td>\n",
       "      <td>{826: 0.0, 731: 0.0, 1373: 0.0}</td>\n",
       "      <td>loss jumbos                     layout\\n...</td>\n",
       "      <td>3</td>\n",
       "      <td>3</td>\n",
       "      <td>1</td>\n",
       "      <td>0</td>\n",
       "    </tr>\n",
       "    <tr>\n",
       "      <th>2</th>\n",
       "      <td>7902</td>\n",
       "      <td>71536</td>\n",
       "      <td>[18, 12, 20, 4, 16]</td>\n",
       "      <td>[73, 83, 35, 26, 38]</td>\n",
       "      <td>[7390, 7417, 2125, 1071, 2666]</td>\n",
       "      <td>8.041597</td>\n",
       "      <td>210</td>\n",
       "      <td>{1415: 0.0, 2952: 0.0, 728: 3.0, 3302: 0.0, 13...</td>\n",
       "      <td>loss jumbos                             ...</td>\n",
       "      <td>2</td>\n",
       "      <td>6</td>\n",
       "      <td>1</td>\n",
       "      <td>0</td>\n",
       "    </tr>\n",
       "    <tr>\n",
       "      <th>3</th>\n",
       "      <td>7902</td>\n",
       "      <td>71536</td>\n",
       "      <td>[18, 12, 20, 4, 16]</td>\n",
       "      <td>[73, 83, 35, 26, 38]</td>\n",
       "      <td>[7390, 7417, 2125, 1071, 2666]</td>\n",
       "      <td>8.041597</td>\n",
       "      <td>210</td>\n",
       "      <td>{1415: 0.0, 2952: 0.0, 728: 3.0, 3302: 0.0, 13...</td>\n",
       "      <td>loss jumbos                             ...</td>\n",
       "      <td>3</td>\n",
       "      <td>6</td>\n",
       "      <td>1</td>\n",
       "      <td>0</td>\n",
       "    </tr>\n",
       "    <tr>\n",
       "      <th>4</th>\n",
       "      <td>7902</td>\n",
       "      <td>71536</td>\n",
       "      <td>[18, 12, 20, 4, 16]</td>\n",
       "      <td>[73, 83, 35, 26, 38]</td>\n",
       "      <td>[7390, 7417, 2125, 1071, 2666]</td>\n",
       "      <td>8.079896</td>\n",
       "      <td>188</td>\n",
       "      <td>{7372: 0.0, 7405: 0.0, 2105: 1.0, 1067: 2.0, 2...</td>\n",
       "      <td>loss jumbos                             ...</td>\n",
       "      <td>2</td>\n",
       "      <td>5</td>\n",
       "      <td>1</td>\n",
       "      <td>0</td>\n",
       "    </tr>\n",
       "  </tbody>\n",
       "</table>\n",
       "</div>"
      ],
      "text/plain": [
       "      B      L                    n                     q  \\\n",
       "0  1522  46167         [13, 13, 19]          [35, 76, 11]   \n",
       "1  1522  46167         [13, 13, 19]          [35, 76, 11]   \n",
       "2  7902  71536  [18, 12, 20, 4, 16]  [73, 83, 35, 26, 38]   \n",
       "3  7902  71536  [18, 12, 20, 4, 16]  [73, 83, 35, 26, 38]   \n",
       "4  7902  71536  [18, 12, 20, 4, 16]  [73, 83, 35, 26, 38]   \n",
       "\n",
       "                                w       loss  jumbos  \\\n",
       "0                [839, 744, 1392]  20.827076      84   \n",
       "1                [839, 744, 1392]  20.827076      84   \n",
       "2  [7390, 7417, 2125, 1071, 2666]   8.041597     210   \n",
       "3  [7390, 7417, 2125, 1071, 2666]   8.041597     210   \n",
       "4  [7390, 7417, 2125, 1071, 2666]   8.079896     188   \n",
       "\n",
       "                                           inventory  \\\n",
       "0                    {826: 0.0, 731: 0.0, 1373: 0.0}   \n",
       "1                    {826: 0.0, 731: 0.0, 1373: 0.0}   \n",
       "2  {1415: 0.0, 2952: 0.0, 728: 3.0, 3302: 0.0, 13...   \n",
       "3  {1415: 0.0, 2952: 0.0, 728: 3.0, 3302: 0.0, 13...   \n",
       "4  {7372: 0.0, 7405: 0.0, 2105: 1.0, 1067: 2.0, 2...   \n",
       "\n",
       "                                             summary  max_combo  layouts  \\\n",
       "0        loss jumbos                     layout\\n...          2        3   \n",
       "1        loss jumbos                     layout\\n...          3        3   \n",
       "2        loss jumbos                             ...          2        6   \n",
       "3        loss jumbos                             ...          3        6   \n",
       "4        loss jumbos                             ...          2        5   \n",
       "\n",
       "   target  edge  \n",
       "0       1     0  \n",
       "1       1     0  \n",
       "2       1     0  \n",
       "3       1     0  \n",
       "4       1     0  "
      ]
     },
     "execution_count": 25,
     "metadata": {},
     "output_type": "execute_result"
    }
   ],
   "source": [
    "df = pd.read_csv('../decklizer/tests/unit_test_positive_loss.csv', index_col=0)\n",
    "df = df.reset_index(drop=True)\n",
    "df.head()"
   ]
  },
  {
   "cell_type": "code",
   "execution_count": 26,
   "metadata": {},
   "outputs": [
    {
     "data": {
      "text/plain": [
       "(0, 13)"
      ]
     },
     "execution_count": 26,
     "metadata": {},
     "output_type": "execute_result"
    }
   ],
   "source": [
    "df.loc[df['loss'] < 0].shape"
   ]
  },
  {
   "cell_type": "code",
   "execution_count": null,
   "metadata": {},
   "outputs": [],
   "source": []
  },
  {
   "cell_type": "code",
   "execution_count": 56,
   "metadata": {},
   "outputs": [],
   "source": [
    "df['all slits less than 1/3 bin width'] = False\n",
    "for row in df.index:\n",
    "    df.iloc[row,-1] = all([df.iloc[row]['B']/3 > int(x) for x in eval(df.iloc[row]['w'])])\n",
    "df['all slits less than 1/4 bin width'] = False\n",
    "for row in df.index:\n",
    "    df.iloc[row,-1] = all([df.iloc[row]['B']/4 > int(x) for x in eval(df.iloc[row]['w'])])\n",
    "df['all slits less than 1/2 bin width'] = False\n",
    "for row in df.index:\n",
    "    df.iloc[row,-1] = all([df.iloc[row]['B']/2 > int(x) for x in eval(df.iloc[row]['w'])])\n",
    "df['all slits less than 2/3 bin width'] = False\n",
    "for row in df.index:\n",
    "    df.iloc[row,-1] = all([df.iloc[row]['B']/3*2 > int(x) for x in eval(df.iloc[row]['w'])])\n",
    "df['all slits less than 3/4 bin width'] = False\n",
    "for row in df.index:\n",
    "    df.iloc[row,-1] = all([df.iloc[row]['B']/4*3 > int(x) for x in eval(df.iloc[row]['w'])])\n",
    "df['all slits less than 1/5 bin width'] = False\n",
    "for row in df.index:\n",
    "    df.iloc[row,-1] = all([df.iloc[row]['B']/5 > int(x) for x in eval(df.iloc[row]['w'])])"
   ]
  },
  {
   "cell_type": "code",
   "execution_count": null,
   "metadata": {},
   "outputs": [],
   "source": [
    "df[df.columns]"
   ]
  },
  {
   "cell_type": "code",
   "execution_count": 51,
   "metadata": {},
   "outputs": [],
   "source": [
    "layouts_selector = SelectMultiple(\n",
    "    options=list(np.sort(df['layouts'].unique().astype(int))),\n",
    "    value=list(np.sort(df['layouts'].unique().astype(int)))\n",
    ")"
   ]
  },
  {
   "cell_type": "code",
   "execution_count": 54,
   "metadata": {},
   "outputs": [],
   "source": [
    "def hist_plot(layouts=layouts_selector):\n",
    "    fig, ax = plt.subplots(1, 1, figsize=(10, 10))\n",
    "    \n",
    "    df.loc[(final['layouts'].isin(layouts)) & (df['all slits less than .5 bin width'] == True)]\\\n",
    "        .plot(kind='hist', y='loss', bins=20, ax=ax)"
   ]
  },
  {
   "cell_type": "code",
   "execution_count": 55,
   "metadata": {},
   "outputs": [
    {
     "data": {
      "application/vnd.jupyter.widget-view+json": {
       "model_id": "64206df0d15c418ab7abaae1de5058c6",
       "version_major": 2,
       "version_minor": 0
      },
      "text/plain": [
       "interactive(children=(SelectMultiple(description='layouts', index=(0, 1, 2, 3, 4, 5, 6, 7, 8, 9, 10), options=…"
      ]
     },
     "metadata": {},
     "output_type": "display_data"
    },
    {
     "data": {
      "text/plain": [
       "<function __main__.hist_plot(layouts=SelectMultiple(description='layouts', index=(0, 1, 2, 3, 4, 5, 6, 7, 8, 9, 10), options=(1, 2, 3, 4, 5, 6, 7, 8, 9, 10, 11), value=(1, 2, 3, 4, 5, 6, 7, 8, 9, 10, 11)))>"
      ]
     },
     "execution_count": 55,
     "metadata": {},
     "output_type": "execute_result"
    }
   ],
   "source": [
    "interact(hist_plot)"
   ]
  },
  {
   "cell_type": "code",
   "execution_count": null,
   "metadata": {},
   "outputs": [],
   "source": [
    "df"
   ]
  },
  {
   "cell_type": "code",
   "execution_count": null,
   "metadata": {},
   "outputs": [],
   "source": [
    "goal = 3\n",
    "verbiose = True\n",
    "bucket = df.iloc[189][['w', 'n', 'L', 'q', 'B', 'max_combo', \n",
    "                                         'layouts', 'target', 'edge']].reset_index(drop=True).iloc[0]\n",
    "patterns, layout = seed_patterns(eval(bucket['w']), \n",
    "                                     [math.ceil(i*bucket['target']) \n",
    "                                      for i in eval(bucket['q'])], \n",
    "                                     int(bucket['B'])+(int(bucket['edge'])*2), \n",
    "                                     eval(bucket['n']), \n",
    "                                     max_combinations=int(bucket['max_combo']), \n",
    "                                     goal=goal, \n",
    "                                     verbiose=verbiose)"
   ]
  },
  {
   "cell_type": "code",
   "execution_count": null,
   "metadata": {},
   "outputs": [],
   "source": [
    "loss, inv, summary = find_optimum(patterns, \n",
    "                                      layout, \n",
    "                                      eval(bucket['w']), \n",
    "                                      [math.ceil(i*bucket['target']) \n",
    "                                      for i in eval(bucket['q'])], \n",
    "                                      int(bucket['B'])+(int(bucket['edge'])*2), \n",
    "                                     eval(bucket['n']),\n",
    "                                      bucket['L'],\n",
    "                                    max_combinations=int(bucket['max_combo']), \n",
    "                                    max_patterns=3,\n",
    "                                    prioritize='time')"
   ]
  }
 ],
 "metadata": {
  "kernelspec": {
   "display_name": "Python 3",
   "language": "python",
   "name": "python3"
  },
  "language_info": {
   "codemirror_mode": {
    "name": "ipython",
    "version": 3
   },
   "file_extension": ".py",
   "mimetype": "text/x-python",
   "name": "python",
   "nbconvert_exporter": "python",
   "pygments_lexer": "ipython3",
   "version": "3.7.4"
  }
 },
 "nbformat": 4,
 "nbformat_minor": 2
}

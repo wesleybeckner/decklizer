{
 "cells": [
  {
   "cell_type": "code",
   "execution_count": 1,
   "metadata": {},
   "outputs": [],
   "source": [
    "import sys\n",
    "sys.path.append(\"../decklizer\")\n",
    "from utils import *\n",
    "from engine import *\n",
    "\n",
    "import numpy as np\n",
    "import pandas as pd\n",
    "import plotly.graph_objects as go\n",
    "import plotly.express as px\n",
    "import math\n",
    "from random import shuffle, choice\n",
    "import copy\n",
    "\n",
    "from IPython.display import clear_output\n",
    "import time\n",
    "import datetime\n",
    "import re\n",
    "\n",
    "from scipy.optimize import linprog\n",
    "from collections import Counter\n",
    "import itertools"
   ]
  },
  {
   "cell_type": "code",
   "execution_count": 2,
   "metadata": {},
   "outputs": [],
   "source": [
    "# update front end\n",
    "\n",
    "# TODO on algorithm\n",
    "# try a heuristic split method to come up with best \n",
    "# 2 layout approach"
   ]
  },
  {
   "cell_type": "code",
   "execution_count": 3,
   "metadata": {},
   "outputs": [],
   "source": [
    "data = pd.read_excel('../decklizer/data/200721_ New Way SCH W3-W6 W14 07.20.20.xlsx',\n",
    "                           sheet_name='Schedule')"
   ]
  },
  {
   "cell_type": "code",
   "execution_count": null,
   "metadata": {},
   "outputs": [],
   "source": []
  },
  {
   "cell_type": "code",
   "execution_count": 127,
   "metadata": {},
   "outputs": [],
   "source": [
    "df = load_schedule(data,\n",
    "    customer='P & G',\n",
    "    technology='SAM',\n",
    "    color='WHITE',\n",
    "    cycle='CYCLE 2',                 \n",
    ")\n",
    "# df = df.iloc[:10]"
   ]
  },
  {
   "cell_type": "code",
   "execution_count": 128,
   "metadata": {},
   "outputs": [
    {
     "name": "stdout",
     "output_type": "stream",
     "text": [
      "The important variables\n",
      "\n",
      "widths: [154, 158, 170, 208, 218, 234] (mm)\n",
      "neck in: [4, 4, 5, 7, 7, 7] (mm)\n",
      "jumbo length (L): 102000 (m)\n",
      "undeckled jumbos needed (q): [96, 32, 318, 95, 158, 461]\n"
     ]
    }
   ],
   "source": [
    "B = 4160\n",
    "w, q, L, n = process_schedule(\n",
    "    df,\n",
    "    B=B,\n",
    "    put_up=17000,\n",
    "    doffs_in_jumbo=6,\n",
    "    verbiose=True,\n",
    ")"
   ]
  },
  {
   "cell_type": "code",
   "execution_count": 2,
   "metadata": {},
   "outputs": [],
   "source": [
    "w = [205, 195, 220, 160]\n",
    "n = [3, 2, 3, 1]\n",
    "L = 17000\n",
    "q = [776, 557, 470, 17]\n",
    "B = 4160\n",
    "w = [i+j for i, j in zip(w,n)]\n",
    "\n",
    "w = [208, 158, 170, 234]\n",
    "n = [2, 2, 2, 3]\n",
    "L = 17000\n",
    "q = [65, 120, 1001, 100]\n",
    "B = 4160\n",
    "w = [i+j for i, j in zip(w,n)]\n",
    "\n",
    "w = [575, 626]\n",
    "n = [4, 4]\n",
    "L = 17000\n",
    "q = [226, 226]\n",
    "B = 4160\n",
    "w = [i+j for i, j in zip(w,n)]\n",
    "\n",
    "w = [711, 559, 889, 762, 572]\n",
    "n = [16, 16, 16, 16, 16]\n",
    "L = 17000\n",
    "q = [20, 201, 47, 21, 10]\n",
    "B = 4160\n",
    "w = [i+j for i, j in zip(w,n)]\n",
    "\n",
    "w = [208, 234, 170]\n",
    "n = [2, 3, 2]\n",
    "L = 17000\n",
    "q = [805, 437, 226]\n",
    "B = 4160\n",
    "w = [i+j for i, j in zip(w,n)]\n",
    "\n",
    "w = [218, 234, 208]\n",
    "n = [2, 2, 1]\n",
    "L = 17000\n",
    "q = [645, 756, 141]\n",
    "B = 4160\n",
    "w = [i+j for i, j in zip(w,n)]\n",
    "\n",
    "w = [930, 588, 777, 610]\n",
    "lm = [8130330, 1152978, 6067685, 495868]\n",
    "n = [16, 16, 16, 16]\n",
    "w = [i+j for i,j in zip(w,n)]\n",
    "B = 3950\n",
    "L = 34000\n",
    "q = [math.ceil(i/L) for i in lm]\n",
    "\n",
    "w = [523, 629]\n",
    "n = [7, 9]\n",
    "L = 9900\n",
    "q = [238, 449]\n",
    "B = 4144"
   ]
  },
  {
   "cell_type": "code",
   "execution_count": 17,
   "metadata": {
    "scrolled": false
   },
   "outputs": [
    {
     "name": "stdout",
     "output_type": "stream",
     "text": [
      "layout pattern: {516: 3, 620: 4}\n",
      "pattern loss: 1.42 %\n",
      "minimum doffs to fill order: 113\n",
      "inventory created: {516: 101, 620: 3}\n",
      "\n",
      "3 possible max 2 combinations\n",
      "7 unique patterns found\n",
      "7 possible max 2 patterns\n",
      "\n",
      "total loss:      3.04 % (1.27e+05 sqm)\n",
      "total inventory: 0.68 % (2.86e+04 sqm)\n",
      "\n",
      "inventory created: {516: 2.0, 620: 3.0}\n",
      "\n",
      "layout summary:\n",
      "\n",
      "loss: 8.93% \t 22.0 x\t {516: 0, 620: 6}\n",
      "loss: 1.42% \t 80.0 x\t {516: 3, 620: 4}\n",
      "\n",
      "total jumbos: 102.0 (4.18e+06 sqm)\n"
     ]
    }
   ],
   "source": [
    "max_combinations=2\n",
    "max_patterns=2\n",
    "goal = 3\n",
    "verbiose = True\n",
    "\n",
    "patterns, layout = seed_patterns(w, q, B, n, \n",
    "                                    max_combinations=max_combinations, \n",
    "                                    goal=goal, \n",
    "                                    verbiose=verbiose)\n",
    "\n",
    "loss, inventory, summary = find_optimum(patterns, layout, w, q, B, n, L, \n",
    "                                        max_combinations=max_combinations, \n",
    "                                        max_patterns=max_patterns, \n",
    "                                        prioritize='time')"
   ]
  },
  {
   "cell_type": "code",
   "execution_count": 7,
   "metadata": {},
   "outputs": [
    {
     "data": {
      "text/plain": [
       "0.11255656108597287"
      ]
     },
     "execution_count": 7,
     "metadata": {},
     "output_type": "execute_result"
    }
   ],
   "source": [
    "loss"
   ]
  },
  {
   "cell_type": "code",
   "execution_count": 8,
   "metadata": {},
   "outputs": [
    {
     "data": {
      "text/plain": [
       "{218: 6.0, 234: 8.0, 208: 1.0}"
      ]
     },
     "execution_count": 8,
     "metadata": {},
     "output_type": "execute_result"
    }
   ],
   "source": [
    "inventory"
   ]
  },
  {
   "cell_type": "code",
   "execution_count": 11,
   "metadata": {},
   "outputs": [
    {
     "data": {
      "text/html": [
       "<div>\n",
       "<style scoped>\n",
       "    .dataframe tbody tr th:only-of-type {\n",
       "        vertical-align: middle;\n",
       "    }\n",
       "\n",
       "    .dataframe tbody tr th {\n",
       "        vertical-align: top;\n",
       "    }\n",
       "\n",
       "    .dataframe thead th {\n",
       "        text-align: right;\n",
       "    }\n",
       "</style>\n",
       "<table border=\"1\" class=\"dataframe\">\n",
       "  <thead>\n",
       "    <tr style=\"text-align: right;\">\n",
       "      <th></th>\n",
       "      <th>rolls</th>\n",
       "      <th>layout</th>\n",
       "    </tr>\n",
       "  </thead>\n",
       "  <tbody>\n",
       "    <tr>\n",
       "      <th>0</th>\n",
       "      <td>10</td>\n",
       "      <td>{218: 0, 234: 14, 208: 4}</td>\n",
       "    </tr>\n",
       "    <tr>\n",
       "      <th>1</th>\n",
       "      <td>48</td>\n",
       "      <td>{218: 4, 234: 13, 208: 1}</td>\n",
       "    </tr>\n",
       "    <tr>\n",
       "      <th>2</th>\n",
       "      <td>27</td>\n",
       "      <td>{218: 17, 234: 0, 208: 2}</td>\n",
       "    </tr>\n",
       "  </tbody>\n",
       "</table>\n",
       "</div>"
      ],
      "text/plain": [
       "  rolls                     layout\n",
       "0    10  {218: 0, 234: 14, 208: 4}\n",
       "1    48  {218: 4, 234: 13, 208: 1}\n",
       "2    27  {218: 17, 234: 0, 208: 2}"
      ]
     },
     "execution_count": 11,
     "metadata": {},
     "output_type": "execute_result"
    }
   ],
   "source": [
    "summary.columns = ['loss', 'rolls', 'layout']\n",
    "summary[['rolls', 'layout']]"
   ]
  },
  {
   "cell_type": "markdown",
   "metadata": {},
   "source": [
    "---\n",
    "directory: -docs/\n",
    "description: \"contains a static Web Application to send requests to DAPI\"\n",
    "languages:\n",
    "- JS, HTML, CSS\n",
    "registered at:\n",
    "- gh pages\n",
    "---"
   ]
  },
  {
   "cell_type": "markdown",
   "metadata": {},
   "source": [
    "# fix negative loss"
   ]
  },
  {
   "cell_type": "code",
   "execution_count": 29,
   "metadata": {},
   "outputs": [],
   "source": [
    "# should group the orders by width, make sure the returned order is correct"
   ]
  },
  {
   "cell_type": "code",
   "execution_count": 12,
   "metadata": {},
   "outputs": [],
   "source": [
    "req = {\"id\":{\"0\":171455,\"1\":171461,\"2\":172260,\"3\":172273,\"4\":172266,\"5\":172390,\"6\":172383,\"7\":172394},\"id_Line\":{\"0\":122,\"1\":122,\"2\":122,\"3\":122,\"4\":122,\"5\":122,\"6\":122,\"7\":122},\"id_Product\":{\"0\":8126,\"1\":8126,\"2\":8126,\"3\":8126,\"4\":8126,\"5\":8126,\"6\":8126,\"7\":8126},\"id_instance\":{\"0\":264,\"1\":264,\"2\":264,\"3\":264,\"4\":264,\"5\":264,\"6\":264,\"7\":264},\"order\":{\"0\":32,\"1\":33,\"2\":34,\"3\":35,\"4\":36,\"5\":37,\"6\":38,\"7\":39},\"quantityRemaining\":{\"0\":2062887,\"1\":0,\"2\":0,\"3\":0,\"4\":0,\"5\":585216,\"6\":395021,\"7\":585216},\"bucketId\":{\"0\":4133,\"1\":4133,\"2\":4133,\"3\":4133,\"4\":4133,\"5\":4133,\"6\":4133,\"7\":4133},\"cutAcrossWebActual\":{\"0\":\"5 @ 800\",\"1\":\"\",\"2\":\"\",\"3\":\"\",\"4\":\"\",\"5\":\"5 @ 800\",\"6\":\"5 @ 800\",\"7\":\"5 @ 800\"},\"deckleLossActual\":{\"0\":2.2004889976,\"1\":2.2004889976,\"2\":2.2004889976,\"3\":2.2004889976,\"4\":2.2004889976,\"5\":2.2004889976,\"6\":2.2004889976,\"7\":2.2004889976},\"doffsActual\":{\"0\":29,\"1\":0,\"2\":0,\"3\":0,\"4\":0,\"5\":8,\"6\":5,\"7\":8},\"wasteCutActaul\":{\"0\":90,\"1\":90,\"2\":90,\"3\":90,\"4\":90,\"5\":90,\"6\":90,\"7\":90},\"widthAdjusted\":{\"0\":800,\"1\":800,\"2\":800,\"3\":800,\"4\":800,\"5\":800,\"6\":800,\"7\":800},\"gsm\":{\"0\":12,\"1\":12,\"2\":12,\"3\":12,\"4\":12,\"5\":12,\"6\":12,\"7\":12},\"coreLength\":{\"0\":6,\"1\":6,\"2\":6,\"3\":6,\"4\":6,\"5\":6,\"6\":6,\"7\":6},\"rollLength\":{\"0\":14000,\"1\":14000,\"2\":14000,\"3\":14000,\"4\":14000,\"5\":14000,\"6\":14000,\"7\":14000},\"sapColor\":{\"0\":17,\"1\":17,\"2\":17,\"3\":17,\"4\":17,\"5\":17,\"6\":17,\"7\":17},\"treatmentId\":{\"0\":10,\"1\":10,\"2\":10,\"3\":10,\"4\":10,\"5\":10,\"6\":10,\"7\":10},\"slitWidth\":{\"0\":800,\"1\":800,\"2\":800,\"3\":800,\"4\":800,\"5\":800,\"6\":800,\"7\":800},\"description\":{\"0\":\"SM30120UN0800  WHITE 6\",\"1\":\"SM30120UN0800  WHITE 6\",\"2\":\"SM30120UN0800  WHITE 6\",\"3\":\"SM30120UN0800  WHITE 6\",\"4\":\"SM30120UN0800  WHITE 6\",\"5\":\"SM30120UN0800  WHITE 6\",\"6\":\"SM30120UN0800  WHITE 6\",\"7\":\"SM30120UN0800  WHITE 6\"},\"webWidthValue\":{\"0\":4090,\"1\":4090,\"2\":4090,\"3\":4090,\"4\":4090,\"5\":4090,\"6\":4090,\"7\":4090},\"neckInValue\":{\"0\":14,\"1\":14,\"2\":14,\"3\":14,\"4\":14,\"5\":14,\"6\":14,\"7\":14}}"
   ]
  },
  {
   "cell_type": "code",
   "execution_count": 46,
   "metadata": {},
   "outputs": [
    {
     "name": "stdout",
     "output_type": "stream",
     "text": [
      "[800]\n",
      "[array([14])]\n"
     ]
    }
   ],
   "source": [
    "###### w = list(order['widthAdjusted'].unique())\n",
    "print(w)\n",
    "n = list(order.groupby('widthAdjusted')['neckInValue'].unique())\n",
    "print(n)"
   ]
  },
  {
   "cell_type": "code",
   "execution_count": 31,
   "metadata": {},
   "outputs": [
    {
     "ename": "AttributeError",
     "evalue": "Cannot access attribute 'values' of 'SeriesGroupBy' objects, try using the 'apply' method",
     "output_type": "error",
     "traceback": [
      "\u001b[0;31m---------------------------------------------------------------------------\u001b[0m",
      "\u001b[0;31mAttributeError\u001b[0m                            Traceback (most recent call last)",
      "\u001b[0;32m<ipython-input-31-820d5e4ed2b4>\u001b[0m in \u001b[0;36m<module>\u001b[0;34m\u001b[0m\n\u001b[1;32m     18\u001b[0m \u001b[0;31m#####################\u001b[0m\u001b[0;34m\u001b[0m\u001b[0;34m\u001b[0m\u001b[0;34m\u001b[0m\u001b[0m\n\u001b[1;32m     19\u001b[0m \u001b[0;34m\u001b[0m\u001b[0m\n\u001b[0;32m---> 20\u001b[0;31m \u001b[0mw\u001b[0m \u001b[0;34m=\u001b[0m \u001b[0mlist\u001b[0m\u001b[0;34m(\u001b[0m\u001b[0morder\u001b[0m\u001b[0;34m.\u001b[0m\u001b[0mgroupby\u001b[0m\u001b[0;34m(\u001b[0m\u001b[0;34m'widthAdjusted'\u001b[0m\u001b[0;34m)\u001b[0m\u001b[0;34m[\u001b[0m\u001b[0;34m'widthAdjusted'\u001b[0m\u001b[0;34m]\u001b[0m\u001b[0;34m.\u001b[0m\u001b[0mvalues\u001b[0m\u001b[0;34m)\u001b[0m\u001b[0;34m\u001b[0m\u001b[0;34m\u001b[0m\u001b[0m\n\u001b[0m\u001b[1;32m     21\u001b[0m \u001b[0mn\u001b[0m \u001b[0;34m=\u001b[0m \u001b[0mlist\u001b[0m\u001b[0;34m(\u001b[0m\u001b[0morder\u001b[0m\u001b[0;34m.\u001b[0m\u001b[0mgroupby\u001b[0m\u001b[0;34m(\u001b[0m\u001b[0;34m'widthAdjusted'\u001b[0m\u001b[0;34m)\u001b[0m\u001b[0;34m[\u001b[0m\u001b[0;34m'neckInValue'\u001b[0m\u001b[0;34m]\u001b[0m\u001b[0;34m.\u001b[0m\u001b[0mvalues\u001b[0m\u001b[0;34m.\u001b[0m\u001b[0mastype\u001b[0m\u001b[0;34m(\u001b[0m\u001b[0mint\u001b[0m\u001b[0;34m)\u001b[0m\u001b[0;34m)\u001b[0m\u001b[0;34m\u001b[0m\u001b[0;34m\u001b[0m\u001b[0m\n\u001b[1;32m     22\u001b[0m \u001b[0mlm\u001b[0m \u001b[0;34m=\u001b[0m \u001b[0mlist\u001b[0m\u001b[0;34m(\u001b[0m\u001b[0morder\u001b[0m\u001b[0;34m.\u001b[0m\u001b[0mgroupby\u001b[0m\u001b[0;34m(\u001b[0m\u001b[0;34m'widthAdjusted'\u001b[0m\u001b[0;34m)\u001b[0m\u001b[0;34m[\u001b[0m\u001b[0;34m'quantityRemaining'\u001b[0m\u001b[0;34m]\u001b[0m\u001b[0;34m.\u001b[0m\u001b[0msum\u001b[0m\u001b[0;34m(\u001b[0m\u001b[0;34m)\u001b[0m\u001b[0;34m)\u001b[0m\u001b[0;34m\u001b[0m\u001b[0;34m\u001b[0m\u001b[0m\n",
      "\u001b[0;32m~/anaconda3/envs/py37/lib/python3.8/site-packages/pandas/core/groupby/groupby.py\u001b[0m in \u001b[0;36m__getattr__\u001b[0;34m(self, attr)\u001b[0m\n\u001b[1;32m    561\u001b[0m             \u001b[0;32mreturn\u001b[0m \u001b[0mself\u001b[0m\u001b[0;34m[\u001b[0m\u001b[0mattr\u001b[0m\u001b[0;34m]\u001b[0m\u001b[0;34m\u001b[0m\u001b[0;34m\u001b[0m\u001b[0m\n\u001b[1;32m    562\u001b[0m         \u001b[0;32mif\u001b[0m \u001b[0mhasattr\u001b[0m\u001b[0;34m(\u001b[0m\u001b[0mself\u001b[0m\u001b[0;34m.\u001b[0m\u001b[0mobj\u001b[0m\u001b[0;34m,\u001b[0m \u001b[0mattr\u001b[0m\u001b[0;34m)\u001b[0m\u001b[0;34m:\u001b[0m\u001b[0;34m\u001b[0m\u001b[0;34m\u001b[0m\u001b[0m\n\u001b[0;32m--> 563\u001b[0;31m             \u001b[0;32mreturn\u001b[0m \u001b[0mself\u001b[0m\u001b[0;34m.\u001b[0m\u001b[0m_make_wrapper\u001b[0m\u001b[0;34m(\u001b[0m\u001b[0mattr\u001b[0m\u001b[0;34m)\u001b[0m\u001b[0;34m\u001b[0m\u001b[0;34m\u001b[0m\u001b[0m\n\u001b[0m\u001b[1;32m    564\u001b[0m \u001b[0;34m\u001b[0m\u001b[0m\n\u001b[1;32m    565\u001b[0m         raise AttributeError(\n",
      "\u001b[0;32m~/anaconda3/envs/py37/lib/python3.8/site-packages/pandas/core/groupby/groupby.py\u001b[0m in \u001b[0;36m_make_wrapper\u001b[0;34m(self, name)\u001b[0m\n\u001b[1;32m    602\u001b[0m                 \u001b[0;34m\"using the 'apply' method\"\u001b[0m\u001b[0;34m.\u001b[0m\u001b[0mformat\u001b[0m\u001b[0;34m(\u001b[0m\u001b[0mkind\u001b[0m\u001b[0;34m,\u001b[0m \u001b[0mname\u001b[0m\u001b[0;34m,\u001b[0m \u001b[0mtype\u001b[0m\u001b[0;34m(\u001b[0m\u001b[0mself\u001b[0m\u001b[0;34m)\u001b[0m\u001b[0;34m.\u001b[0m\u001b[0m__name__\u001b[0m\u001b[0;34m)\u001b[0m\u001b[0;34m\u001b[0m\u001b[0;34m\u001b[0m\u001b[0m\n\u001b[1;32m    603\u001b[0m             )\n\u001b[0;32m--> 604\u001b[0;31m             \u001b[0;32mraise\u001b[0m \u001b[0mAttributeError\u001b[0m\u001b[0;34m(\u001b[0m\u001b[0mmsg\u001b[0m\u001b[0;34m)\u001b[0m\u001b[0;34m\u001b[0m\u001b[0;34m\u001b[0m\u001b[0m\n\u001b[0m\u001b[1;32m    605\u001b[0m \u001b[0;34m\u001b[0m\u001b[0m\n\u001b[1;32m    606\u001b[0m         \u001b[0mself\u001b[0m\u001b[0;34m.\u001b[0m\u001b[0m_set_group_selection\u001b[0m\u001b[0;34m(\u001b[0m\u001b[0;34m)\u001b[0m\u001b[0;34m\u001b[0m\u001b[0;34m\u001b[0m\u001b[0m\n",
      "\u001b[0;31mAttributeError\u001b[0m: Cannot access attribute 'values' of 'SeriesGroupBy' objects, try using the 'apply' method"
     ]
    }
   ],
   "source": [
    "#####################\n",
    "# pull orders/neckin\n",
    "#####################\n",
    "\n",
    "df = pd.DataFrame(req)[['quantityRemaining', \n",
    "                        'widthAdjusted', \n",
    "                        'gsm', \n",
    "                        'rollLength',\n",
    "                        'webWidthValue',\n",
    "                        'neckInValue']]\n",
    "\n",
    "# our valid columns don't have 0 values\n",
    "order = df.loc[(df[df.columns] != 0).all(axis=1)]\n",
    "order = order.reset_index(drop=True)\n",
    "\n",
    "#####################\n",
    "### calc deckle\n",
    "#####################\n",
    "\n",
    "w = list(order.groupby('widthAdjusted')['widthAdjusted'].values)\n",
    "n = list(order.groupby('widthAdjusted')['neckInValue'].values.astype(int))\n",
    "lm = list(order.groupby('widthAdjusted')['quantityRemaining'].sum())\n",
    "\n",
    "# based on mode... need to make sure there is only 1 unique value\n",
    "L = df['rollLength'].mode()[0]\n",
    "q = [math.ceil(x/L) for x in lm]\n",
    "\n",
    "# based on mode... needs to be exact by line/sss/treatment code\n",
    "B = order['webWidthValue'][0]\n",
    "w = [i+j for i,j in zip(w,n)]\n",
    "\n",
    "max_combinations=4\n",
    "max_patterns=4\n",
    "\n",
    "patterns, layout = seed_patterns(w, q, B, n, \n",
    "                                    max_combinations=max_combinations, \n",
    "                                    goal=3, \n",
    "                                    verbiose=True)"
   ]
  },
  {
   "cell_type": "code",
   "execution_count": 18,
   "metadata": {},
   "outputs": [
    {
     "data": {
      "text/plain": [
       "[array([Counter({814: 5}), 20], dtype=object),\n",
       " [{814: 0}, 0],\n",
       " [{814: 0}, 0],\n",
       " [{814: 0}, 0],\n",
       " [{814: 5}, 0]]"
      ]
     },
     "execution_count": 18,
     "metadata": {},
     "output_type": "execute_result"
    }
   ],
   "source": [
    "patterns"
   ]
  },
  {
   "cell_type": "code",
   "execution_count": 24,
   "metadata": {},
   "outputs": [
    {
     "data": {
      "text/plain": [
       "[148, 42, 29, 42]"
      ]
     },
     "execution_count": 24,
     "metadata": {},
     "output_type": "execute_result"
    }
   ],
   "source": [
    "q"
   ]
  },
  {
   "cell_type": "code",
   "execution_count": 22,
   "metadata": {},
   "outputs": [
    {
     "data": {
      "text/plain": [
       "[[-5, 0, 0, 0], [0, -5, 0, 0], [0, 0, -5, 0], [0, 0, 0, -5]]"
      ]
     },
     "execution_count": 22,
     "metadata": {},
     "output_type": "execute_result"
    }
   ],
   "source": [
    "init_layouts(B,w)"
   ]
  },
  {
   "cell_type": "code",
   "execution_count": null,
   "metadata": {},
   "outputs": [],
   "source": [
    "def seed_patterns(w, q, B, n, max_combinations=3, goal=3, verbiose=True):\n",
    "    '''\n",
    "    creates a number of optimal patterns for deckling\n",
    "\n",
    "    Parameters\n",
    "    ----------\n",
    "    w: list\n",
    "        list of widths (int)\n",
    "    q: list\n",
    "        list of rolls for each width (int)\n",
    "    B: int\n",
    "        usuable width per mother roll\n",
    "    n: list\n",
    "        neck in for each width (int)\n",
    "    max_combinations: int, default 3\n",
    "        maximum number of unique products (widths) to have on a mother roll\n",
    "    goal: int, default 3\n",
    "        the desired number of recovered patterns from the knapsack problem\n",
    "        for every unique grouping of unique widths at max_combinations\n",
    "    verbiose: bool, default True\n",
    "        turns on/off print statements during execution\n",
    "\n",
    "    Returns\n",
    "    -------\n",
    "    patterns: list of lists\n",
    "        list of pattern, loss pairs. Pattern is a dictionary containing a width,\n",
    "        count pair that describes the pattern on the mother roll. Loss is the\n",
    "        percent material loss for the pattern.\n",
    "    layout: list\n",
    "        list of counts for every width on the mother roll. Layout is the best\n",
    "        possible pattern in terms of minimizing mother rolls to create the order\n",
    "        with a single pattern.\n",
    "    '''\n",
    "    layout = make_best_pattern(q, w, n, B, verbiose=verbiose)\n",
    "    combos = []\n",
    "    for i in range(1,max_combinations+1)[::-1]:\n",
    "        combos += list(itertools.combinations(w,r=i))\n",
    "    if verbiose:\n",
    "        print('')\n",
    "        print(\"{} possible max {} combinations\".format(len(combos),max_combinations))\n",
    "    patterns = []\n",
    "    for combo in combos:\n",
    "\n",
    "        # only provide knapsack with relevant variables\n",
    "        s = []\n",
    "        for i in combo:\n",
    "            s += (int(B/i)*[i])\n",
    "        t = initt(B,len(s))\n",
    "        knapsack(s, s, B, len(s), t)\n",
    "        t = np.array(t)\n",
    "        patterns += store_patterns(t, s, B, goal=goal)\n",
    "        for j in range(3):\n",
    "            for i in patterns:\n",
    "                for key in list(i[0].keys()):\n",
    "                    loss = (B - np.sum(np.array(list(i[0].keys())) *\n",
    "                        np.array(list(i[0].values())))) - key\n",
    "                    if loss > 0:\n",
    "                        i[0][key] += 1\n",
    "                        i[1] = loss\n",
    "    uni_list = []\n",
    "    for i in patterns:\n",
    "        if i not in uni_list:\n",
    "            uni_list.append(i)\n",
    "    patterns = uni_list\n",
    "    patterns = list(np.array(patterns)[np.array(patterns)[:,1]>=0])\n",
    "\n",
    "    # the naive patterns should be kept due to their usefullness\n",
    "    # in order fulfilment regardless of loss\n",
    "    naive = init_layouts(B, w)\n",
    "    for i in naive:\n",
    "        i = [-j for j in i]\n",
    "        patterns.append([dict(zip(w,i)),0])\n",
    "\n",
    "    if verbiose:\n",
    "        print(\"{} unique patterns found\".format(len(patterns)))\n",
    "    return patterns, layout"
   ]
  },
  {
   "cell_type": "markdown",
   "metadata": {},
   "source": [
    "# every combination when 2 widths"
   ]
  },
  {
   "cell_type": "code",
   "execution_count": 112,
   "metadata": {
    "scrolled": true
   },
   "outputs": [],
   "source": [
    "def seed_patterns(w, q, B, n, max_combinations=3, goal=3, verbiose=True):\n",
    "    layout = make_best_pattern(q, w, n, B, verbiose=verbiose)\n",
    "    combos = []\n",
    "    for i in range(1,max_combinations+1)[::-1]:\n",
    "        combos += list(itertools.combinations(w,r=i))\n",
    "    if verbiose:\n",
    "        print('')\n",
    "        print(\"{} possible max {} combinations\".\n",
    "              format(len(combos),max_combinations))\n",
    "    patterns = []\n",
    "    for combo in combos:\n",
    "        if len(combo) == 2:\n",
    "            s = []\n",
    "            for i in combo:\n",
    "                s += (int(B/i)*[i])\n",
    "            for i in range(len(s) - int(B/combo[0])):\n",
    "                pattern = s[i:int(B/combo[0])+i]\n",
    "                patterns.append([Counter(pattern),B-np.sum(pattern)])\n",
    "            for j in range(3):\n",
    "                for i in patterns:\n",
    "                    for key in list(i[0].keys()):\n",
    "                        loss = (B - np.sum(np.array(list(i[0].keys())) *\n",
    "                            np.array(list(i[0].values()))))\n",
    "                        if loss - key > 0:\n",
    "                            i[0][key] += 1\n",
    "                            i[1] = loss - key\n",
    "                        elif loss < 0:\n",
    "                            i[0][key] -= 1\n",
    "                            i[1] = loss + key\n",
    "        else:\n",
    "            # only provide knapsack with relevant variables\n",
    "            s = []\n",
    "            for i in combo:\n",
    "                s += (int(B/i)*[i])\n",
    "            t = initt(B,len(s))\n",
    "            knapsack(s, s, B, len(s), t)\n",
    "            t = np.array(t)\n",
    "            patterns += store_patterns(t, s, B, goal=goal)\n",
    "            for k in range(2):\n",
    "                for j, i in enumerate(patterns):\n",
    "                    for key in list(i[0].keys()):\n",
    "                        loss = (B - np.sum(np.array(list(i[0].keys())) * \n",
    "                                   np.array(list(i[0].values()))))\n",
    "                        if loss - key > 0:\n",
    "\n",
    "                            patterns[j][0][key] += 1\n",
    "                            patterns[j][1] = loss - key\n",
    "    uni_list = []\n",
    "    for i in patterns:\n",
    "        if i not in uni_list:\n",
    "            uni_list.append(i)\n",
    "    patterns = uni_list\n",
    "    patterns = list(np.array(patterns)[np.array(patterns)[:,1]>=0])\n",
    "\n",
    "    # the naive patterns should be kept due to their usefullness\n",
    "    # in order fulfilment regardless of loss\n",
    "    naive = init_layouts(B, w)\n",
    "    for i in naive:\n",
    "        i = [-j for j in i]\n",
    "        patterns.append([dict(zip(w,i)),0])\n",
    "\n",
    "    if verbiose:\n",
    "        print(\"{} unique patterns found\".format(len(patterns)))\n",
    "    return patterns, layout\n",
    "# patterns"
   ]
  },
  {
   "cell_type": "code",
   "execution_count": 74,
   "metadata": {},
   "outputs": [
    {
     "data": {
      "text/plain": [
       "[array([Counter({579: 6, 630: 1}), 56], dtype=object),\n",
       " array([Counter({579: 5, 630: 2}), 5], dtype=object),\n",
       " array([Counter({579: 7}), 107], dtype=object),\n",
       " array([Counter({579: 6}), 686], dtype=object),\n",
       " array([Counter({630: 6}), 380], dtype=object),\n",
       " array([Counter({630: 5}), 1010], dtype=object),\n",
       " [{579: 7, 630: 0}, 0],\n",
       " [{579: 0, 630: 6}, 0]]"
      ]
     },
     "execution_count": 74,
     "metadata": {},
     "output_type": "execute_result"
    }
   ],
   "source": [
    "patterns"
   ]
  },
  {
   "cell_type": "code",
   "execution_count": 72,
   "metadata": {},
   "outputs": [
    {
     "data": {
      "text/plain": [
       "[array([Counter({579: 7}), 107], dtype=object),\n",
       " array([Counter({579: 6, 630: 1}), 56], dtype=object),\n",
       " array([Counter({579: 5, 630: 2}), 5], dtype=object),\n",
       " array([Counter({579: 3, 630: 3}), 533], dtype=object),\n",
       " array([Counter({630: 4, 579: 2}), 482], dtype=object),\n",
       " array([Counter({630: 5, 579: 1}), 431], dtype=object),\n",
       " array([Counter({579: 6}), 686], dtype=object),\n",
       " array([Counter({630: 6}), 380], dtype=object),\n",
       " array([Counter({630: 5}), 1010], dtype=object),\n",
       " [{579: 7, 630: 0}, 0],\n",
       " [{579: 0, 630: 6}, 0]]"
      ]
     },
     "execution_count": 72,
     "metadata": {},
     "output_type": "execute_result"
    }
   ],
   "source": [
    "patterns"
   ]
  },
  {
   "cell_type": "markdown",
   "metadata": {},
   "source": [
    "# heuristic 2-layout seed, max 3 widths"
   ]
  },
  {
   "cell_type": "code",
   "execution_count": null,
   "metadata": {},
   "outputs": [],
   "source": [
    "# for make best pattern\n",
    "# need usable width\n",
    "# q, w, n\n",
    "# if there are 4+ widths\n",
    "# need to split them up\n",
    "# which width is split across\n",
    "# layouts? probably the one that has the greatest LM"
   ]
  },
  {
   "cell_type": "code",
   "execution_count": null,
   "metadata": {},
   "outputs": [],
   "source": [
    "w"
   ]
  },
  {
   "cell_type": "code",
   "execution_count": null,
   "metadata": {},
   "outputs": [],
   "source": [
    "q"
   ]
  },
  {
   "cell_type": "code",
   "execution_count": null,
   "metadata": {},
   "outputs": [],
   "source": [
    "usable_width = 4160\n",
    "layout = [max(1, math.floor(i/sum(q)*usable_width/j)) for i,j in zip(q,w)]"
   ]
  },
  {
   "cell_type": "code",
   "execution_count": null,
   "metadata": {},
   "outputs": [],
   "source": [
    "[[]]*len(w)"
   ]
  },
  {
   "cell_type": "code",
   "execution_count": null,
   "metadata": {},
   "outputs": [],
   "source": [
    "print(layout) # we have this ideal layout, can we use it to split across two layouts?\n",
    "\n",
    "# for 5 unique widths with 3 max: 2-1, 2-1\n",
    "# for 5 unique widths with 4 max: 1-3, 1-3\n",
    "# for 5 unique widths with 2 max: no soln\n",
    "# ok so seed two layouts\n",
    "max_combinations = 3\n",
    "\n",
    "if max_combinations == 3 and len(w) == 5:\n",
    "    layout1 = [0]*len(w)\n",
    "    layout2 = [0]*len(w)\n",
    "    \n",
    "    split = np.argmax(layout) # we'll split the most common width across both\n",
    "    if layout[split]%2 != 0:\n",
    "        layout1[split] = math.floor(layout[split]/2)\n",
    "        layout2[split] = math.ceil(layout[split]/2)\n",
    "    else:\n",
    "        layout2[split] = layout1[split] = layout[split]/2\n",
    "\n",
    "while (usable_width - sum([i*j for i,j in zip(layout1,w)])) > min(w):\n",
    "    remainder = [math.remainder(i/sum(q)*usable_width/j, 1) if (math.remainder(i/sum(q)*usable_width/j, 1)\n",
    "                                                    < 0) else -1 for i,j in zip(q,w) ] \n",
    "    i = np.argsort(remainder)[::-1][0]\n",
    "#     for i in order[::-1]:\n",
    "    layout1[i] += 1\n",
    "    if usable_width - sum([i*j for i,j in zip(layout1,w)]) < 0:\n",
    "        layout1[i] -= 1\n",
    "layout1"
   ]
  },
  {
   "cell_type": "code",
   "execution_count": null,
   "metadata": {},
   "outputs": [],
   "source": [
    "[math.remainder(i/sum(q)*usable_width/j, 1)  for i,j in zip(q,w) ]"
   ]
  },
  {
   "cell_type": "code",
   "execution_count": null,
   "metadata": {},
   "outputs": [],
   "source": [
    "[i/sum(q)*usable_width/j for i,j in zip(q,w)]"
   ]
  },
  {
   "cell_type": "code",
   "execution_count": null,
   "metadata": {},
   "outputs": [],
   "source": [
    "print(w)\n",
    "print(q)"
   ]
  },
  {
   "cell_type": "code",
   "execution_count": null,
   "metadata": {},
   "outputs": [],
   "source": [
    "layout2"
   ]
  },
  {
   "cell_type": "code",
   "execution_count": null,
   "metadata": {},
   "outputs": [],
   "source": [
    "# give priority to widths that had to round down the most\n",
    "# when filling up the rest of the pattern\n",
    "remainder = [math.remainder(i/sum(q)*usable_width/j, 1) if (math.remainder(i/sum(q)*usable_width/j, 1)\n",
    "                                                    < 0) else -1 for i,j in zip(q,w) ] \n",
    "order = np.argsort(remainder)\n",
    "order"
   ]
  },
  {
   "cell_type": "code",
   "execution_count": null,
   "metadata": {},
   "outputs": [],
   "source": [
    "layout1"
   ]
  },
  {
   "cell_type": "code",
   "execution_count": null,
   "metadata": {},
   "outputs": [],
   "source": [
    "while (usable_width - sum([i*j for i,j in zip(layout1,w)])) > min(w):\n",
    "    remainder = [math.remainder(i/sum(q)*usable_width/j, 1) if (math.remainder(i/sum(q)*usable_width/j, 1)\n",
    "                                                    < 0) else -1 for i,j in zip(q,w) ] \n",
    "    i = np.argsort(remainder)[::-1][0]\n",
    "#     for i in order[::-1]:\n",
    "    layout1[i] += 1\n",
    "    if usable_width - sum([i*j for i,j in zip(layout1,w)]) < 0:\n",
    "        layout1[i] -= 1\n",
    "layout1"
   ]
  },
  {
   "cell_type": "code",
   "execution_count": null,
   "metadata": {},
   "outputs": [],
   "source": [
    "\n",
    "\n",
    "\n",
    "while (usable_width - sum([i*j for i,j in zip(layout,w)])) > min(w):\n",
    "    for i in order[::-1]:\n",
    "        layout[i] += 1\n",
    "        if usable_width - sum([i*j for i,j in zip(layout,w)]) < 0:\n",
    "            layout[i] -= 1\n",
    "\n",
    "# compute the loss for the final layout\n",
    "layout_loss = usable_width - sum([i*j for i,j in zip(layout,w)])\n",
    "print(\"layout pattern: {}\".format(dict(zip([i-j for i,j in zip(w,n)],layout))))\n",
    "print(\"pattern loss: {:0.2f} %\".format(layout_loss/usable_width*100))\n",
    "\n",
    "# multiply to get the minimum doffs required\n",
    "# layout * doffs > q\n",
    "doffs = max([math.ceil(i/j) for i,j in zip(q, layout)])\n",
    "print(\"minimum doffs to fill order: {}\".format(doffs))\n",
    "\n",
    "# what inventory is created\n",
    "inventory = dict(zip([i-j for i,j in zip(w,n)],[i*doffs-j for i,j in zip(layout,q)]))\n",
    "print(\"inventory created: {}\".format(inventory))"
   ]
  },
  {
   "cell_type": "code",
   "execution_count": null,
   "metadata": {},
   "outputs": [],
   "source": []
  },
  {
   "cell_type": "code",
   "execution_count": null,
   "metadata": {},
   "outputs": [],
   "source": [
    "loss, inventory, summary = find_optimum(patterns, max_patterns=4, prioritize='time')"
   ]
  },
  {
   "cell_type": "code",
   "execution_count": null,
   "metadata": {},
   "outputs": [],
   "source": [
    "# # This is the memoization approach of  \n",
    "# # 0 / 1 Knapsack in Python in simple  \n",
    "# # we can say recursion + memoization = DP \n",
    "# def knapsack(wt, val, W, n):     \n",
    "  \n",
    "#     # base conditions \n",
    "#     if n == 0 or W == 0: \n",
    "#         return 0\n",
    "#     if t[n][W] != -1: \n",
    "#         return t[n][W] \n",
    "  \n",
    "#     # choice diagram code \n",
    "#     if wt[n-1] <= W: \n",
    "#         t[n][W] = max( \n",
    "#             val[n-1] + knapsack( \n",
    "#             wt, val, W-wt[n-1], n-1),  \n",
    "#             knapsack(wt, val, W, n-1)) \n",
    "#         return t[n][W] \n",
    "#     elif wt[n-1] > W: \n",
    "#         t[n][W] = knapsack(wt, val, W, n-1) \n",
    "#         return t[n][W] \n",
    "\n",
    "# def reconstruct(i, w, kp_soln, weight_of_item):\n",
    "#     \"\"\"\n",
    "#     Reconstruct subset of items i with weights w. The two inputs\n",
    "#     i and w are taken at the point of optimality in the knapsack soln\n",
    "\n",
    "#     In this case I just assume that i is some number from a range\n",
    "#     0,1,2,...n\n",
    "#     \"\"\"\n",
    "#     recon = set()\n",
    "#     # assuming our kp soln converged, we stopped at the ith item, so\n",
    "#     # start here and work our way backwards through all the items in\n",
    "#     # the list of kp solns. If an item was deemed optimal by kp, then\n",
    "#     # put it in our bag, otherwise skip it.\n",
    "#     for j in range(i)[::-1]:\n",
    "#         cur_val = kp_soln[j][w]\n",
    "#         prev_val = kp_soln[j-1][w]\n",
    "#         if cur_val > prev_val:\n",
    "#             recon.add(j)\n",
    "#             w = w - weight_of_item[j]\n",
    "#     return recon\n",
    "\n",
    "# def initt(W, n):\n",
    "#     # We initialize the matrix with -1 at first. \n",
    "#     return [[-1 for i in range(W + 1)] for j in range(n + 1)] \n",
    "\n",
    "# def make_best_pattern(q, w, n, usable_width=4160):\n",
    "#     \"\"\"\n",
    "#     Creates the best possible pattern such that all orders are fullfilled in a single\n",
    "#     layout\n",
    "    \n",
    "#     Parameters\n",
    "#     ----------\n",
    "#     q: list\n",
    "#         rolls required (in jumbo lengths)\n",
    "#     w: list\n",
    "#         widths required\n",
    "#     n: list\n",
    "#         neckins for widths\n",
    "#     usable_width: int\n",
    "#         jumbo/doff usable width\n",
    "        \n",
    "#     Returns\n",
    "#     -------\n",
    "#     layout: list\n",
    "#         cuts for jumbo for each width (no width is excluded)\n",
    "#     \"\"\"\n",
    "#     layout = [max(1, math.floor(i/sum(q)*usable_width/j)) for i,j in zip(q,w)] \n",
    "\n",
    "#     # give priority to widths that had to round down the most\n",
    "#     # when filling up the rest of the pattern\n",
    "#     remainder = [math.remainder(i/sum(q)*usable_width/j, 1) if (math.remainder(i/sum(q)*usable_width/j, 1)\n",
    "#                                                         < 0) else -1 for i,j in zip(q,w) ] \n",
    "#     order = np.argsort(remainder)\n",
    "#     while (usable_width - sum([i*j for i,j in zip(layout,w)])) > min(w):\n",
    "#         for i in order[::-1]:\n",
    "#             layout[i] += 1\n",
    "#             if usable_width - sum([i*j for i,j in zip(layout,w)]) < 0:\n",
    "#                 layout[i] -= 1\n",
    "\n",
    "#     # compute the loss for the final layout\n",
    "#     layout_loss = usable_width - sum([i*j for i,j in zip(layout,w)])\n",
    "#     print(\"layout pattern: {}\".format(dict(zip([i-j for i,j in zip(w,n)],layout))))\n",
    "#     print(\"pattern loss: {:0.2f} %\".format(layout_loss/usable_width*100))\n",
    "\n",
    "#     # multiply to get the minimum doffs required\n",
    "#     # layout * doffs > q\n",
    "#     doffs = max([math.ceil(i/j) for i,j in zip(q, layout)])\n",
    "#     print(\"minimum doffs to fill order: {}\".format(doffs))\n",
    "\n",
    "#     # what inventory is created\n",
    "#     inventory = dict(zip([i-j for i,j in zip(w,n)],[i*doffs-j for i,j in zip(layout,q)]))\n",
    "#     print(\"inventory created: {}\".format(inventory))\n",
    "    \n",
    "#     return layout\n",
    "\n",
    "# def init_layouts(B, w):\n",
    "#     t = []\n",
    "#     m = len(w)\n",
    "#     for i in range(m):\n",
    "#         pat = [0]*m\n",
    "#         pat[i] = -int(B/w[i])\n",
    "#         t.append(pat)\n",
    "#     return t\n",
    "\n",
    "# def store_patterns(goal=5):\n",
    "#     patterns = []\n",
    "#     bit = 0\n",
    "#     while len(patterns) < goal:\n",
    "#         found = 0\n",
    "#         for pair in np.argwhere(t == t.max()-bit):\n",
    "#             N, W = pair\n",
    "#             sack = reconstruct(N, W, t, s)     \n",
    "#             pattern = Counter(np.array(s)[list(sack)])\n",
    "#             loss = round((B - np.array(s)[list(sack)].sum())/B*100,2)\n",
    "#             patterns.append([pattern, loss])\n",
    "#             if len(patterns) >= goal:\n",
    "#                 break\n",
    "#             found += 1\n",
    "#             if found > 1:\n",
    "#                 break\n",
    "#         bit += 2\n",
    "#     return patterns\n",
    "\n",
    "# def output_results(result, lhs_ineq, B, w, n):\n",
    "#     sheet = np.sum([(i*j) for i,j in zip(w, np.array(lhs_ineq))],axis=0)#*np.ceil(result['x'])\n",
    "#     inventory = dict(zip([i-j for i,j in zip(w,n)],np.sum(np.array(lhs_ineq)*-1*np.ceil(result['x']),axis=1)-np.array(q)))\n",
    "\n",
    "#     # create layout summary\n",
    "#     jumbos = list(np.ceil(result['x'])[np.ceil(result['x'])>0])\n",
    "#     temp = np.array(lhs_ineq)*-1*np.where(np.ceil(result['x']) != 0, 1, 0)\n",
    "#     temp = temp[:, temp.any(0)].T\n",
    "#     non_zero_layouts = list([dict(zip([i-j for i,j in zip(w,n)], i)) for i in temp])\n",
    "\n",
    "#     sheet_loss = [B+i for i in sheet]\n",
    "#     sheet_loss = [i / B * 100 for i,j in zip(sheet_loss,np.where(result['x'] > 0, 1, 0)) if j > 0]\n",
    "\n",
    "#     # remove extra layouts due to ceiling rounding from linprog\n",
    "#     summary = pd.DataFrame([sheet_loss, jumbos, non_zero_layouts]).T\n",
    "#     summary.columns = ['loss', 'jumbos', 'layout']\n",
    "#     summary = summary.sort_values('loss', ascending=False).reset_index(drop=True)\n",
    "#     for index, layout2 in enumerate(summary['layout']):\n",
    "#         if all(np.array(list(inventory.values())) - np.array(list(layout2.values())) > 0):\n",
    "#             summary.loc[index, 'jumbos'] -= 1\n",
    "#             new_values = np.array(list(inventory.values())) - np.array(list(layout2.values()))\n",
    "#             inventory.update(zip(inventory,new_values))\n",
    "#     summary = summary[summary['jumbos'] != 0]\n",
    "\n",
    "#     loss = sum([i[0]*i[1] for i in summary.values])/sum([i[1] for i in summary.values])\n",
    "#     sqm_inventory = np.sum([i*j*.001*L for i,j in zip (inventory.keys(),inventory.values())])\n",
    "#     sqm_produced = np.sum(jumbos)*L*B*.001\n",
    "#     sqm_loss = sqm_produced*loss/100\n",
    "\n",
    "#     print(\"total loss:      {:0.2f} % ({:.2e} sqm)\".format(loss, sqm_loss))\n",
    "#     print(\"total inventory: {:.2f} % ({:.2e} sqm)\".format(sqm_inventory/sqm_produced*100, sqm_inventory), end = '\\n\\n')\n",
    "#     print(\"inventory created: {}\".format(inventory), end = '\\n\\n')\n",
    "#     # print(\"total inventory rolls: {:n} ({:.2e} sqm)\".format(sum(list(inventory.values())), sqm_inventory), end='\\n\\n')\n",
    "#     print(\"layout summary:\", end = '\\n\\n')\n",
    "#     for i in summary.values:\n",
    "#         print(\"loss: {:.2f}% \\t {} x\\t {}\".format(i[0], i[1], i[2]))\n",
    "#     print('')\n",
    "#     print(\"total jumbos: {} ({:.2e} sqm)\".format(np.sum(summary['jumbos']), sqm_produced))\n",
    "    \n",
    "#     return loss, inventory, summary\n",
    "\n",
    "# # choose max unique widths per doff\n",
    "# def find_optimum(patterns, layout, max_patterns = 3, prioritize = 'time'):\n",
    "#     if prioritize == 'material loss':\n",
    "#         inv_loss = 0\n",
    "#     elif prioritize == 'time':\n",
    "#         inv_loss = 1\n",
    "#     if 1 < max_patterns < 4:\n",
    "#         # find best of X combination\n",
    "#         if len(w) <= max_combinations:\n",
    "#             pattern_combos = list(itertools.combinations(patterns,r=max_patterns-1))\n",
    "#         else:\n",
    "#             pattern_combos = list(itertools.combinations(patterns,r=max_patterns))\n",
    "#         print(\"{} possible max {} patterns\".format(len(pattern_combos),max_patterns), end='\\n\\n')\n",
    "#         best_of = []\n",
    "#         for combo in pattern_combos:\n",
    "#             patterns2 = combo\n",
    "#             lhs_ineq = []\n",
    "#             for pattern in patterns2:\n",
    "#                 inset = []\n",
    "#                 for width in w:\n",
    "#                     try:\n",
    "#                         inset.append(-pattern[0][width])\n",
    "#                     except:\n",
    "#                         inset.append(0)\n",
    "#                 lhs_ineq.append(inset)\n",
    "#         #     naive = init_layouts(B, w)\n",
    "#         #     lhs_ineq = lhs_ineq + naive\n",
    "#             if len(w) <= max_combinations:\n",
    "#                 lhs_ineq.append([-i for i in layout])\n",
    "#             lhs_ineq = np.array(lhs_ineq).T.tolist()\n",
    "#             rhs_ineq = [-i for i in q]\n",
    "#             obj = np.ones(len(lhs_ineq[0]))\n",
    "\n",
    "#             result = linprog(c=obj, \n",
    "#                     A_ub=lhs_ineq,\n",
    "#                     b_ub=rhs_ineq, \n",
    "#                     method=\"revised simplex\")\n",
    "#             if result['success'] == True:\n",
    "#                 sheet = np.sum([(i*j) for i,j in zip(w, np.array(lhs_ineq))],axis=0)#*np.ceil(result['x'])\n",
    "#                 inventory = dict(zip([i-j for i,j in zip(w,n)],np.sum(np.array(lhs_ineq)*-1*\\\n",
    "#                                                                       np.ceil(result['x']),axis=1)-np.array(q)))\n",
    "\n",
    "#                 # create layout summary\n",
    "#                 jumbos = list(np.ceil(result['x'])[np.ceil(result['x'])>0])\n",
    "#                 temp = np.array(lhs_ineq)*-1*np.where(np.ceil(result['x']) != 0, 1, 0)\n",
    "#                 temp = temp[:, temp.any(0)].T\n",
    "#                 non_zero_layouts = list([dict(zip([i-j for i,j in zip(w,n)], i)) for i in temp])\n",
    "\n",
    "#                 sheet_loss = [B+i for i in sheet]\n",
    "#                 sheet_loss = [i / B * 100 for i,j in zip(sheet_loss,np.where(result['x'] > 0, 1, 0)) if j > 0]\n",
    "\n",
    "#                 # remove extra layouts due to ceiling rounding from linprog\n",
    "#                 sorted_jumbos = [x for _,x in sorted(zip(sheet_loss,jumbos))][::-1]\n",
    "#                 sorted_layouts = np.array(non_zero_layouts)[np.array(sheet_loss).argsort()][::-1]\n",
    "#                 sorted_losses = [x for _,x in sorted(zip(sheet_loss,sheet_loss))][::-1]\n",
    "#                 for index, layout2 in enumerate(np.array(non_zero_layouts)[np.array(sheet_loss).argsort()][::-1]):\n",
    "#                     if all(np.array(list(inventory.values())) - np.array(list(layout2.values())) > 0):\n",
    "#                         sorted_jumbos[index] -= 1\n",
    "#                         new_values = np.array(list(inventory.values())) - np.array(list(layout2.values()))\n",
    "#                         inventory.update(zip(inventory,new_values))\n",
    "\n",
    "#                         # clear layouts that have been set to 0\n",
    "#                 summary = (list(zip(sorted_jumbos, sorted_layouts, sorted_losses)))\n",
    "#                 summ = []\n",
    "#                 for i in summary:\n",
    "#                     if i[0] > 0:\n",
    "#                         summ.append(i)\n",
    "#                 summary=summ\n",
    "#                 loss = sum([i[0]*i[2] for i in summary])/sum([i[0] for i in summary])\n",
    "\n",
    "#                 best_of.append([loss, sum(list(inventory.values())), patterns2])\n",
    "\n",
    "#         # minimize inventory or minimize mat. loss\n",
    "#         arr = np.array(best_of)\n",
    "#         patterns_final = arr[np.argmin(arr[:,inv_loss])][2]\n",
    "#     elif max_patterns == 1:\n",
    "#         patterns_final = [[dict(zip(w,layout)), 0]]\n",
    "\n",
    "#     else:\n",
    "#         patterns_final = patterns\n",
    "\n",
    "#     # find overall best combination\n",
    "#     # format layouts for linear optimization\n",
    "#     lhs_ineq = []\n",
    "#     for pattern in patterns_final:\n",
    "#         inset = []\n",
    "#         for width in w:\n",
    "#             try:\n",
    "#                 inset.append(-pattern[0][width])\n",
    "#             except:\n",
    "#                 inset.append(0)\n",
    "#         lhs_ineq.append(inset)\n",
    "#     # naive = init_layouts(B, w)\n",
    "#     # lhs_ineq = lhs_ineq + naive\n",
    "#     if len(w) <= max_combinations:\n",
    "#         lhs_ineq.append([-i for i in layout])\n",
    "#     lhs_ineq = np.array(lhs_ineq).T.tolist()\n",
    "#     rhs_ineq = [-i for i in q]\n",
    "#     obj = np.ones(len(lhs_ineq[0]))\n",
    "\n",
    "#     result = linprog(c=obj, \n",
    "#             A_ub=lhs_ineq,\n",
    "#             b_ub=rhs_ineq, \n",
    "#             method=\"revised simplex\")\n",
    "\n",
    "#     return output_results(result, lhs_ineq, B, w, n)"
   ]
  }
 ],
 "metadata": {
  "kernelspec": {
   "display_name": "Python 3",
   "language": "python",
   "name": "python3"
  },
  "language_info": {
   "codemirror_mode": {
    "name": "ipython",
    "version": 3
   },
   "file_extension": ".py",
   "mimetype": "text/x-python",
   "name": "python",
   "nbconvert_exporter": "python",
   "pygments_lexer": "ipython3",
   "version": "3.8.1"
  }
 },
 "nbformat": 4,
 "nbformat_minor": 2
}
